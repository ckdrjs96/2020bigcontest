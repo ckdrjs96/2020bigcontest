{
 "cells": [
  {
   "cell_type": "code",
   "execution_count": 1,
   "metadata": {},
   "outputs": [
    {
     "name": "stderr",
     "output_type": "stream",
     "text": [
      "Using TensorFlow backend.\n"
     ]
    }
   ],
   "source": [
    "import numpy as np\n",
    "import pandas as pd\n",
    "import warnings\n",
    "warnings.filterwarnings(action='ignore')\n",
    "from sklearn.preprocessing import MinMaxScaler\n",
    "from keras.models import Sequential\n",
    "from keras.layers import Dense, Activation, LSTM,Dropout,Bidirectional\n",
    "from keras.callbacks import EarlyStopping"
   ]
  },
  {
   "cell_type": "code",
   "execution_count": 2,
   "metadata": {},
   "outputs": [],
   "source": [
    "def create_dataset(signal_data, look_back=1):\n",
    "    dataX, dataY = [], []\n",
    "    for i in range(len(signal_data)-look_back):\n",
    "        dataX.append(signal_data[i:(i+look_back), 0])\n",
    "        dataY.append(signal_data[i + look_back, 0])\n",
    "    return np.array(dataX), np.array(dataY)"
   ]
  },
  {
   "cell_type": "code",
   "execution_count": 15,
   "metadata": {},
   "outputs": [],
   "source": [
    "def univariate(data, look_back):\n",
    "    signal_data =data\n",
    "    # 데이터 전처리\n",
    "    scaler = MinMaxScaler(feature_range=(0, 1))\n",
    "    signal_data = scaler.fit_transform(signal_data)\n",
    "\n",
    "    # 데이터 분리\n",
    "    train = signal_data[0:120]\n",
    "    #val = signal_data[800:1200]\n",
    "    test = signal_data[120:]\n",
    "\n",
    "    # 데이터셋 생성\n",
    "    x_train, y_train = create_dataset(train, look_back)\n",
    "    #x_val, y_val = create_dataset(val, look_back)\n",
    "    x_test, y_test = create_dataset(test, look_back)\n",
    "\n",
    "    x_train = np.reshape(x_train,(x_train.shape[0],look_back,1)) #(size, timestamp,feature)\n",
    "    x_test = np.reshape(x_test,(x_test.shape[0],look_back,1))\n",
    "    \n",
    "    return x_train, x_test, y_train, y_test,scaler, look_back"
   ]
  },
  {
   "cell_type": "code",
   "execution_count": 4,
   "metadata": {},
   "outputs": [],
   "source": [
    "def run_bi(x_train, x_test, y_train, y_test,look_back, scaler,box):\n",
    "\n",
    "    model = Sequential()\n",
    "    model.add(Bidirectional(LSTM(box, input_shape=(look_back, 1)))) #(timestep,feature)\n",
    "    model.add(Dropout(0.1))\n",
    "    model.add(Dense(1))\n",
    "    model.compile(loss='mean_squared_error', optimizer='adam')\n",
    "\n",
    "    early_stop = EarlyStopping(monitor='loss', patience=3, verbose=1)\n",
    "\n",
    "    model.fit(x_train, y_train, epochs=100, batch_size=5, verbose=1, callbacks=[early_stop])\n",
    "    score = model.evaluate(x_test,y_test,batch_size=5)\n",
    "    pre =model.predict(x_test)\n",
    "    #sc_pre = scaler.inverse_transform(pre)\n",
    "    ans = y_test\n",
    "    \n",
    "    return score, pre, ans"
   ]
  },
  {
   "cell_type": "code",
   "execution_count": 34,
   "metadata": {},
   "outputs": [],
   "source": [
    "def run_stateful(x_train, x_test, y_train, y_test, look_back, scaler,box):\n",
    "    model = Sequential()\n",
    "    model.add(LSTM(box, batch_input_shape=(1, look_back, 1), stateful=True))\n",
    "    model.add(Dropout(0.1))\n",
    "    model.add(Dense(1))\n",
    "    model.compile(loss='mean_squared_error', optimizer='adam')\n",
    "    \n",
    "    early_stop = EarlyStopping(monitor='loss', patience=3, verbose=1)\n",
    "\n",
    "    model.fit(x_train, y_train, epochs=100, batch_size=1, verbose=1, callbacks=[early_stop])\n",
    "    score = model.evaluate(x_test,y_test,batch_size=1)\n",
    "    pre =model.predict(x_test,batch_size=1) #모든 batch_size 바꾸면 error\n",
    "    #sc_pre = scaler.inverse_transform(pre)\n",
    "    ans = y_test\n",
    "    \n",
    "    return score, pre, ans"
   ]
  },
  {
   "cell_type": "code",
   "execution_count": 27,
   "metadata": {},
   "outputs": [],
   "source": [
    "def run_stack(x_train, x_test, y_train, y_test,look_back, scaler,box,box2):\n",
    "\n",
    "    model = Sequential()\n",
    "    model.add(LSTM(box, input_shape=(look_back, 1), return_sequences=True))#(timestep,feature)\n",
    "    model.add(LSTM(box2))\n",
    "    model.add(Dropout(0.1))\n",
    "    model.add(Dense(1))\n",
    "    model.compile(loss='mean_squared_error', optimizer='adam')\n",
    "\n",
    "    early_stop = EarlyStopping(monitor='loss', patience=3, verbose=1)\n",
    "\n",
    "    model.fit(x_train, y_train, epochs=100, batch_size=5, verbose=1, callbacks=[early_stop])\n",
    "    score = model.evaluate(x_test,y_test,batch_size=5)\n",
    "    pre =model.predict(x_test)\n",
    "    #sc_pre = scaler.inverse_transform(pre)\n",
    "    ans = y_test\n",
    "    \n",
    "    return score, pre, ans"
   ]
  },
  {
   "cell_type": "code",
   "execution_count": 39,
   "metadata": {},
   "outputs": [],
   "source": [
    "def run_stateful_stack(x_train, x_test, y_train, y_test, look_back, scaler,box1,box2):\n",
    "    model = Sequential()\n",
    "    model.add(LSTM(box1, batch_input_shape=(1, look_back, 1), stateful=True,return_sequences=True))\n",
    "    model.add(Dropout(0.1))\n",
    "    model.add(LSTM(box2, batch_input_shape=(1, look_back, 1), stateful=True))\n",
    "    model.add(Dropout(0.1))\n",
    "    model.add(Dense(1))\n",
    "    model.compile(loss='mean_squared_error', optimizer='adam')\n",
    "    \n",
    "    early_stop = EarlyStopping(monitor='loss', patience=3, verbose=1)\n",
    "\n",
    "    model.fit(x_train, y_train, epochs=100, batch_size=1, verbose=1, callbacks=[early_stop])\n",
    "    score = model.evaluate(x_test,y_test,batch_size=1)\n",
    "    pre =model.predict(x_test,batch_size=1) #모든 batch_size 바꾸면 error\n",
    "    #sc_pre = scaler.inverse_transform(pre)\n",
    "    ans = y_test\n",
    "    \n",
    "    return score, pre, ans"
   ]
  },
  {
   "cell_type": "code",
   "execution_count": 6,
   "metadata": {},
   "outputs": [],
   "source": [
    "PATH ='C:/Users/ckdrj/Google 드라이브/baseball/data/total/'\n",
    "#PATH = 'C:/Users/LIM CHANG GEON/Google 드라이브/baseball/data/total'\n",
    "hiter16 = pd.read_csv(PATH+\"2020빅콘테스트_스포츠투아이_제공데이터_팀타자_2016.csv\")\n",
    "pitcher16 = pd.read_csv(PATH+\"2020빅콘테스트_스포츠투아이_제공데이터_팀투수_2016.csv\")"
   ]
  },
  {
   "cell_type": "code",
   "execution_count": null,
   "metadata": {},
   "outputs": [],
   "source": []
  },
  {
   "cell_type": "markdown",
   "metadata": {},
   "source": [
    "### usage\n",
    "univariate(data_feature,look_back)\n",
    "run_function select (~,box) or (~,box1,box2)"
   ]
  },
  {
   "cell_type": "code",
   "execution_count": 40,
   "metadata": {},
   "outputs": [
    {
     "name": "stdout",
     "output_type": "stream",
     "text": [
      "Epoch 1/100\n",
      "110/110 [==============================] - 3s 26ms/step - loss: 0.0436\n",
      "Epoch 2/100\n",
      "110/110 [==============================] - 1s 5ms/step - loss: 0.0343\n",
      "Epoch 3/100\n",
      "110/110 [==============================] - 1s 5ms/step - loss: 0.0346\n",
      "Epoch 4/100\n",
      "110/110 [==============================] - 1s 5ms/step - loss: 0.0323\n",
      "Epoch 5/100\n",
      "110/110 [==============================] - 1s 5ms/step - loss: 0.0350\n",
      "Epoch 6/100\n",
      "110/110 [==============================] - 1s 5ms/step - loss: 0.0338\n",
      "Epoch 7/100\n",
      "110/110 [==============================] - 1s 5ms/step - loss: 0.0330\n",
      "Epoch 00007: early stopping\n",
      "1310/1310 [==============================] - 3s 2ms/step\n",
      "Epoch 1/100\n",
      "110/110 [==============================] - 4s 38ms/step - loss: 0.0569\n",
      "Epoch 2/100\n",
      "110/110 [==============================] - 1s 10ms/step - loss: 0.0366\n",
      "Epoch 3/100\n",
      "110/110 [==============================] - 1s 10ms/step - loss: 0.0329\n",
      "Epoch 4/100\n",
      "110/110 [==============================] - 1s 10ms/step - loss: 0.0349\n",
      "Epoch 5/100\n",
      "110/110 [==============================] - 1s 10ms/step - loss: 0.0349\n",
      "Epoch 6/100\n",
      "110/110 [==============================] - 1s 10ms/step - loss: 0.0333\n",
      "Epoch 00006: early stopping\n",
      "1310/1310 [==============================] - 4s 3ms/step\n",
      "0.043084419763101324 [[4.156399 ]\n",
      " [4.1444526]\n",
      " [4.066629 ]\n",
      " ...\n",
      " [4.0863366]\n",
      " [4.1136   ]\n",
      " [4.1166763]] [[2.]\n",
      " [1.]\n",
      " [3.]\n",
      " ...\n",
      " [4.]\n",
      " [5.]\n",
      " [8.]]\n"
     ]
    }
   ],
   "source": [
    "x_train, x_test, y_train, y_test,scaler,look_back = univariate(pitcher16[[\"R\"]],10)\n",
    "score, pre, ans = run_stateful(x_train, x_test, y_train, y_test,look_back, scaler,10)\n",
    "#score, pre, ans = run_bi(x_train, x_test, y_train, y_test,look_back, scaler,10)\n",
    "#score, pre, ans = run_stack(x_train, x_test, y_train, y_test,look_back, scaler,10,10)\n",
    "score, pre, ans = run_stateful_stack(x_train, x_test, y_train, y_test,look_back, scaler,10,10)\n",
    "sc_pre=scaler.inverse_transform(pre)\n",
    "sc_ans=scaler.inverse_transform(ans.reshape(ans.shape[0],1))\n",
    "print(score, sc_pre,sc_ans)"
   ]
  },
  {
   "cell_type": "code",
   "execution_count": null,
   "metadata": {},
   "outputs": [],
   "source": []
  }
 ],
 "metadata": {
  "kernelspec": {
   "display_name": "Python 3",
   "language": "python",
   "name": "python3"
  },
  "language_info": {
   "codemirror_mode": {
    "name": "ipython",
    "version": 3
   },
   "file_extension": ".py",
   "mimetype": "text/x-python",
   "name": "python",
   "nbconvert_exporter": "python",
   "pygments_lexer": "ipython3",
   "version": "3.7.3"
  }
 },
 "nbformat": 4,
 "nbformat_minor": 2
}
