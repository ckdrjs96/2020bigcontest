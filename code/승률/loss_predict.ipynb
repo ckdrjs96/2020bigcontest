{
 "cells": [
  {
   "cell_type": "markdown",
   "metadata": {},
   "source": [
    "ERA(방어율) :(9 × 자책점) ÷ 투구이닝\n",
    "FIP: (( 13*홈런 + 3*(볼넷+몸에 맞는공-고의4구) - 2*삼진) / 이닝) + 3.2\n",
    "BABIP: (총 안타수-홈런)/(타수-삼진-홈런+희생플라이)\n",
    "KK(삼진)"
   ]
  },
  {
   "cell_type": "code",
   "execution_count": 2,
   "metadata": {},
   "outputs": [],
   "source": [
    "import pandas as pd\n",
    "import numpy as np"
   ]
  },
  {
   "cell_type": "code",
   "execution_count": 23,
   "metadata": {},
   "outputs": [],
   "source": [
    "PATH ='C:\\\\Users\\\\ckdrj\\\\Google 드라이브\\\\bigcon_baseball\\\\data\\\\total\\\\'\n",
    "hiter16 = pd.read_csv(PATH+\"2020빅콘테스트_스포츠투아이_제공데이터_팀타자_2016.csv\")\n",
    "pitcher16 = pd.read_csv(PATH+\"2020빅콘테스트_스포츠투아이_제공데이터_팀투수_2016.csv\")"
   ]
  },
  {
   "cell_type": "code",
   "execution_count": 24,
   "metadata": {},
   "outputs": [
    {
     "data": {
      "text/html": [
       "<div>\n",
       "<style scoped>\n",
       "    .dataframe tbody tr th:only-of-type {\n",
       "        vertical-align: middle;\n",
       "    }\n",
       "\n",
       "    .dataframe tbody tr th {\n",
       "        vertical-align: top;\n",
       "    }\n",
       "\n",
       "    .dataframe thead th {\n",
       "        text-align: right;\n",
       "    }\n",
       "</style>\n",
       "<table border=\"1\" class=\"dataframe\">\n",
       "  <thead>\n",
       "    <tr style=\"text-align: right;\">\n",
       "      <th></th>\n",
       "      <th>G_ID</th>\n",
       "      <th>GDAY_DS</th>\n",
       "      <th>T_ID</th>\n",
       "      <th>VS_T_ID</th>\n",
       "      <th>HEADER_NO</th>\n",
       "      <th>TB_SC</th>\n",
       "      <th>CG_CK</th>\n",
       "      <th>WLS</th>\n",
       "      <th>HOLD</th>\n",
       "      <th>INN2</th>\n",
       "      <th>...</th>\n",
       "      <th>KK</th>\n",
       "      <th>GD</th>\n",
       "      <th>WP</th>\n",
       "      <th>BK</th>\n",
       "      <th>ERR</th>\n",
       "      <th>R</th>\n",
       "      <th>ER</th>\n",
       "      <th>P_WHIP_RT</th>\n",
       "      <th>P2_WHIP_RT</th>\n",
       "      <th>CB_WHIP_RT</th>\n",
       "    </tr>\n",
       "  </thead>\n",
       "  <tbody>\n",
       "    <tr>\n",
       "      <th>0</th>\n",
       "      <td>20160401HHLG0</td>\n",
       "      <td>20160401</td>\n",
       "      <td>LG</td>\n",
       "      <td>HH</td>\n",
       "      <td>0</td>\n",
       "      <td>B</td>\n",
       "      <td>0</td>\n",
       "      <td>W</td>\n",
       "      <td>0</td>\n",
       "      <td>36</td>\n",
       "      <td>...</td>\n",
       "      <td>10</td>\n",
       "      <td>1</td>\n",
       "      <td>0</td>\n",
       "      <td>0</td>\n",
       "      <td>0</td>\n",
       "      <td>4</td>\n",
       "      <td>4</td>\n",
       "      <td>0.642857</td>\n",
       "      <td>1.285714</td>\n",
       "      <td>2.400000</td>\n",
       "    </tr>\n",
       "    <tr>\n",
       "      <th>1</th>\n",
       "      <td>20160401HHLG0</td>\n",
       "      <td>20160401</td>\n",
       "      <td>HH</td>\n",
       "      <td>LG</td>\n",
       "      <td>0</td>\n",
       "      <td>T</td>\n",
       "      <td>0</td>\n",
       "      <td>L</td>\n",
       "      <td>0</td>\n",
       "      <td>34</td>\n",
       "      <td>...</td>\n",
       "      <td>11</td>\n",
       "      <td>0</td>\n",
       "      <td>1</td>\n",
       "      <td>0</td>\n",
       "      <td>0</td>\n",
       "      <td>5</td>\n",
       "      <td>4</td>\n",
       "      <td>1.500000</td>\n",
       "      <td>1.000000</td>\n",
       "      <td>0.750000</td>\n",
       "    </tr>\n",
       "    <tr>\n",
       "      <th>2</th>\n",
       "      <td>20160401HTNC0</td>\n",
       "      <td>20160401</td>\n",
       "      <td>NC</td>\n",
       "      <td>HT</td>\n",
       "      <td>0</td>\n",
       "      <td>B</td>\n",
       "      <td>0</td>\n",
       "      <td>W</td>\n",
       "      <td>0</td>\n",
       "      <td>27</td>\n",
       "      <td>...</td>\n",
       "      <td>10</td>\n",
       "      <td>1</td>\n",
       "      <td>2</td>\n",
       "      <td>0</td>\n",
       "      <td>0</td>\n",
       "      <td>4</td>\n",
       "      <td>4</td>\n",
       "      <td>1.333333</td>\n",
       "      <td>1.038462</td>\n",
       "      <td>2.142857</td>\n",
       "    </tr>\n",
       "    <tr>\n",
       "      <th>3</th>\n",
       "      <td>20160401HTNC0</td>\n",
       "      <td>20160401</td>\n",
       "      <td>HT</td>\n",
       "      <td>NC</td>\n",
       "      <td>0</td>\n",
       "      <td>T</td>\n",
       "      <td>0</td>\n",
       "      <td>L</td>\n",
       "      <td>0</td>\n",
       "      <td>24</td>\n",
       "      <td>...</td>\n",
       "      <td>9</td>\n",
       "      <td>1</td>\n",
       "      <td>0</td>\n",
       "      <td>0</td>\n",
       "      <td>0</td>\n",
       "      <td>5</td>\n",
       "      <td>5</td>\n",
       "      <td>0.500000</td>\n",
       "      <td>1.695652</td>\n",
       "      <td>1.875000</td>\n",
       "    </tr>\n",
       "    <tr>\n",
       "      <th>4</th>\n",
       "      <td>20160401KTSK0</td>\n",
       "      <td>20160401</td>\n",
       "      <td>SK</td>\n",
       "      <td>KT</td>\n",
       "      <td>0</td>\n",
       "      <td>B</td>\n",
       "      <td>0</td>\n",
       "      <td>L</td>\n",
       "      <td>0</td>\n",
       "      <td>27</td>\n",
       "      <td>...</td>\n",
       "      <td>7</td>\n",
       "      <td>0</td>\n",
       "      <td>0</td>\n",
       "      <td>0</td>\n",
       "      <td>0</td>\n",
       "      <td>8</td>\n",
       "      <td>8</td>\n",
       "      <td>1.000000</td>\n",
       "      <td>2.357143</td>\n",
       "      <td>2.250000</td>\n",
       "    </tr>\n",
       "  </tbody>\n",
       "</table>\n",
       "<p>5 rows × 34 columns</p>\n",
       "</div>"
      ],
      "text/plain": [
       "            G_ID   GDAY_DS T_ID VS_T_ID  HEADER_NO TB_SC  CG_CK WLS  HOLD  \\\n",
       "0  20160401HHLG0  20160401   LG      HH          0     B      0   W     0   \n",
       "1  20160401HHLG0  20160401   HH      LG          0     T      0   L     0   \n",
       "2  20160401HTNC0  20160401   NC      HT          0     B      0   W     0   \n",
       "3  20160401HTNC0  20160401   HT      NC          0     T      0   L     0   \n",
       "4  20160401KTSK0  20160401   SK      KT          0     B      0   L     0   \n",
       "\n",
       "   INN2  ...  KK  GD  WP  BK  ERR  R  ER  P_WHIP_RT  P2_WHIP_RT  CB_WHIP_RT  \n",
       "0    36  ...  10   1   0   0    0  4   4   0.642857    1.285714    2.400000  \n",
       "1    34  ...  11   0   1   0    0  5   4   1.500000    1.000000    0.750000  \n",
       "2    27  ...  10   1   2   0    0  4   4   1.333333    1.038462    2.142857  \n",
       "3    24  ...   9   1   0   0    0  5   5   0.500000    1.695652    1.875000  \n",
       "4    27  ...   7   0   0   0    0  8   8   1.000000    2.357143    2.250000  \n",
       "\n",
       "[5 rows x 34 columns]"
      ]
     },
     "execution_count": 24,
     "metadata": {},
     "output_type": "execute_result"
    }
   ],
   "source": [
    "pitcher16.head()"
   ]
  },
  {
   "cell_type": "code",
   "execution_count": 25,
   "metadata": {},
   "outputs": [
    {
     "data": {
      "text/plain": [
       "Index(['G_ID', 'GDAY_DS', 'T_ID', 'VS_T_ID', 'HEADER_NO', 'TB_SC', 'CG_CK',\n",
       "       'WLS', 'HOLD', 'INN2', 'BF', 'PA', 'AB', 'HIT', 'H2', 'H3', 'HR', 'SB',\n",
       "       'CS', 'SH', 'SF', 'BB', 'IB', 'HP', 'KK', 'GD', 'WP', 'BK', 'ERR', 'R',\n",
       "       'ER', 'P_WHIP_RT', 'P2_WHIP_RT', 'CB_WHIP_RT'],\n",
       "      dtype='object')"
      ]
     },
     "execution_count": 25,
     "metadata": {},
     "output_type": "execute_result"
    }
   ],
   "source": [
    "pitcher16.columns"
   ]
  },
  {
   "cell_type": "code",
   "execution_count": 26,
   "metadata": {},
   "outputs": [],
   "source": [
    "pitcher16[\"ERA\"] = 27*pitcher16.ER/pitcher16.INN2\n",
    "pitcher16[\"FIP\"] = ((13*pitcher16.HR+3*(pitcher16.BB+pitcher16.HP-pitcher16.IB)-2*pitcher16.KK)/(pitcher16.INN2/3)) +3.2\n",
    "pitcher16[\"BABIP\"] = (pitcher16.HIT-pitcher16.HR)/(pitcher16.AB-pitcher16.KK-pitcher16.HR+pitcher16.SF)\n",
    "pitcher16['NG_ID'] = pitcher16.GDAY_DS.astype(str) + pitcher16.T_ID + pitcher16.VS_T_ID + pitcher16.HEADER_NO.astype(str)"
   ]
  },
  {
   "cell_type": "code",
   "execution_count": 27,
   "metadata": {},
   "outputs": [],
   "source": [
    "pitcher16 = pitcher16[['NG_ID','ERA','FIP','BABIP','R']]"
   ]
  },
  {
   "cell_type": "code",
   "execution_count": 28,
   "metadata": {},
   "outputs": [
    {
     "data": {
      "text/html": [
       "<div>\n",
       "<style scoped>\n",
       "    .dataframe tbody tr th:only-of-type {\n",
       "        vertical-align: middle;\n",
       "    }\n",
       "\n",
       "    .dataframe tbody tr th {\n",
       "        vertical-align: top;\n",
       "    }\n",
       "\n",
       "    .dataframe thead th {\n",
       "        text-align: right;\n",
       "    }\n",
       "</style>\n",
       "<table border=\"1\" class=\"dataframe\">\n",
       "  <thead>\n",
       "    <tr style=\"text-align: right;\">\n",
       "      <th></th>\n",
       "      <th>NG_ID</th>\n",
       "      <th>ERA</th>\n",
       "      <th>FIP</th>\n",
       "      <th>BABIP</th>\n",
       "      <th>R</th>\n",
       "    </tr>\n",
       "  </thead>\n",
       "  <tbody>\n",
       "    <tr>\n",
       "      <th>0</th>\n",
       "      <td>20160401LGHH0</td>\n",
       "      <td>3.000000</td>\n",
       "      <td>2.283333</td>\n",
       "      <td>0.361111</td>\n",
       "      <td>4</td>\n",
       "    </tr>\n",
       "    <tr>\n",
       "      <th>1</th>\n",
       "      <td>20160401HHLG0</td>\n",
       "      <td>3.176471</td>\n",
       "      <td>3.464706</td>\n",
       "      <td>0.266667</td>\n",
       "      <td>5</td>\n",
       "    </tr>\n",
       "    <tr>\n",
       "      <th>2</th>\n",
       "      <td>20160401NCHT0</td>\n",
       "      <td>4.000000</td>\n",
       "      <td>3.755556</td>\n",
       "      <td>0.304348</td>\n",
       "      <td>4</td>\n",
       "    </tr>\n",
       "    <tr>\n",
       "      <th>3</th>\n",
       "      <td>20160401HTNC0</td>\n",
       "      <td>5.625000</td>\n",
       "      <td>6.075000</td>\n",
       "      <td>0.368421</td>\n",
       "      <td>5</td>\n",
       "    </tr>\n",
       "    <tr>\n",
       "      <th>4</th>\n",
       "      <td>20160401SKKT0</td>\n",
       "      <td>8.000000</td>\n",
       "      <td>6.200000</td>\n",
       "      <td>0.321429</td>\n",
       "      <td>8</td>\n",
       "    </tr>\n",
       "  </tbody>\n",
       "</table>\n",
       "</div>"
      ],
      "text/plain": [
       "           NG_ID       ERA       FIP     BABIP  R\n",
       "0  20160401LGHH0  3.000000  2.283333  0.361111  4\n",
       "1  20160401HHLG0  3.176471  3.464706  0.266667  5\n",
       "2  20160401NCHT0  4.000000  3.755556  0.304348  4\n",
       "3  20160401HTNC0  5.625000  6.075000  0.368421  5\n",
       "4  20160401SKKT0  8.000000  6.200000  0.321429  8"
      ]
     },
     "execution_count": 28,
     "metadata": {},
     "output_type": "execute_result"
    }
   ],
   "source": [
    "pitcher16.head()"
   ]
  },
  {
   "cell_type": "code",
   "execution_count": 29,
   "metadata": {},
   "outputs": [],
   "source": [
    "def prepro(pitcher):\n",
    "    pitcher[\"ERA\"] = 27*pitcher.ER/pitcher.INN2\n",
    "    pitcher[\"FIP\"] = ((13*pitcher.HR+3*(pitcher.BB+pitcher.HP-pitcher.IB)-2*pitcher.KK)/(pitcher.INN2/3)) +3.2\n",
    "    pitcher[\"BABIP\"] = (pitcher.HIT-pitcher.HR)/(pitcher.AB-pitcher.KK-pitcher.HR+pitcher.SF)\n",
    "    pitcher['NG_ID'] = pitcher.GDAY_DS.astype(str) + pitcher.T_ID + pitcher.VS_T_ID + pitcher.HEADER_NO.astype(str)\n",
    "    pitcher = pitcher[['NG_ID','ERA','FIP','BABIP','R']]\n",
    "    \n",
    "    return pitcher"
   ]
  },
  {
   "cell_type": "code",
   "execution_count": 30,
   "metadata": {},
   "outputs": [],
   "source": [
    "pitcher17 = pd.read_csv(PATH+\"2020빅콘테스트_스포츠투아이_제공데이터_팀투수_2017.csv\")\n",
    "pitcher17 = prepro(pitcher17)"
   ]
  },
  {
   "cell_type": "code",
   "execution_count": 32,
   "metadata": {},
   "outputs": [],
   "source": [
    "pitcher18 = pd.read_csv(PATH+\"2020빅콘테스트_스포츠투아이_제공데이터_팀투수_2018.csv\")\n",
    "pitcher18 = prepro(pitcher18)"
   ]
  },
  {
   "cell_type": "code",
   "execution_count": 33,
   "metadata": {},
   "outputs": [],
   "source": [
    "pitcher19 = pd.read_csv(PATH+\"2020빅콘테스트_스포츠투아이_제공데이터_팀투수_2019.csv\")\n",
    "pitcher19 = prepro(pitcher19)"
   ]
  },
  {
   "cell_type": "code",
   "execution_count": 35,
   "metadata": {},
   "outputs": [],
   "source": [
    "pitcher = pd.concat([pitcher16,pitcher17,pitcher18,pitcher19])"
   ]
  },
  {
   "cell_type": "code",
   "execution_count": 37,
   "metadata": {},
   "outputs": [
    {
     "data": {
      "text/html": [
       "<div>\n",
       "<style scoped>\n",
       "    .dataframe tbody tr th:only-of-type {\n",
       "        vertical-align: middle;\n",
       "    }\n",
       "\n",
       "    .dataframe tbody tr th {\n",
       "        vertical-align: top;\n",
       "    }\n",
       "\n",
       "    .dataframe thead th {\n",
       "        text-align: right;\n",
       "    }\n",
       "</style>\n",
       "<table border=\"1\" class=\"dataframe\">\n",
       "  <thead>\n",
       "    <tr style=\"text-align: right;\">\n",
       "      <th></th>\n",
       "      <th>NG_ID</th>\n",
       "      <th>ERA</th>\n",
       "      <th>FIP</th>\n",
       "      <th>BABIP</th>\n",
       "      <th>R</th>\n",
       "    </tr>\n",
       "  </thead>\n",
       "  <tbody>\n",
       "    <tr>\n",
       "      <th>0</th>\n",
       "      <td>20160401LGHH0</td>\n",
       "      <td>3.000000</td>\n",
       "      <td>2.283333</td>\n",
       "      <td>0.361111</td>\n",
       "      <td>4</td>\n",
       "    </tr>\n",
       "    <tr>\n",
       "      <th>1</th>\n",
       "      <td>20160401HHLG0</td>\n",
       "      <td>3.176471</td>\n",
       "      <td>3.464706</td>\n",
       "      <td>0.266667</td>\n",
       "      <td>5</td>\n",
       "    </tr>\n",
       "    <tr>\n",
       "      <th>2</th>\n",
       "      <td>20160401NCHT0</td>\n",
       "      <td>4.000000</td>\n",
       "      <td>3.755556</td>\n",
       "      <td>0.304348</td>\n",
       "      <td>4</td>\n",
       "    </tr>\n",
       "    <tr>\n",
       "      <th>3</th>\n",
       "      <td>20160401HTNC0</td>\n",
       "      <td>5.625000</td>\n",
       "      <td>6.075000</td>\n",
       "      <td>0.368421</td>\n",
       "      <td>5</td>\n",
       "    </tr>\n",
       "    <tr>\n",
       "      <th>4</th>\n",
       "      <td>20160401SKKT0</td>\n",
       "      <td>8.000000</td>\n",
       "      <td>6.200000</td>\n",
       "      <td>0.321429</td>\n",
       "      <td>8</td>\n",
       "    </tr>\n",
       "  </tbody>\n",
       "</table>\n",
       "</div>"
      ],
      "text/plain": [
       "           NG_ID       ERA       FIP     BABIP  R\n",
       "0  20160401LGHH0  3.000000  2.283333  0.361111  4\n",
       "1  20160401HHLG0  3.176471  3.464706  0.266667  5\n",
       "2  20160401NCHT0  4.000000  3.755556  0.304348  4\n",
       "3  20160401HTNC0  5.625000  6.075000  0.368421  5\n",
       "4  20160401SKKT0  8.000000  6.200000  0.321429  8"
      ]
     },
     "execution_count": 37,
     "metadata": {},
     "output_type": "execute_result"
    }
   ],
   "source": [
    "pitcher.head()"
   ]
  },
  {
   "cell_type": "code",
   "execution_count": 39,
   "metadata": {},
   "outputs": [
    {
     "name": "stdout",
     "output_type": "stream",
     "text": [
      "<class 'pandas.core.frame.DataFrame'>\n",
      "Int64Index: 5760 entries, 0 to 1439\n",
      "Data columns (total 5 columns):\n",
      "NG_ID    5760 non-null object\n",
      "ERA      5760 non-null float64\n",
      "FIP      5760 non-null float64\n",
      "BABIP    5760 non-null float64\n",
      "R        5760 non-null int64\n",
      "dtypes: float64(3), int64(1), object(1)\n",
      "memory usage: 270.0+ KB\n"
     ]
    }
   ],
   "source": [
    "pitcher.info()"
   ]
  },
  {
   "cell_type": "code",
   "execution_count": null,
   "metadata": {},
   "outputs": [],
   "source": []
  },
  {
   "cell_type": "code",
   "execution_count": null,
   "metadata": {},
   "outputs": [],
   "source": []
  },
  {
   "cell_type": "code",
   "execution_count": null,
   "metadata": {},
   "outputs": [],
   "source": []
  },
  {
   "cell_type": "code",
   "execution_count": null,
   "metadata": {},
   "outputs": [],
   "source": []
  }
 ],
 "metadata": {
  "kernelspec": {
   "display_name": "Python 3",
   "language": "python",
   "name": "python3"
  },
  "language_info": {
   "codemirror_mode": {
    "name": "ipython",
    "version": 3
   },
   "file_extension": ".py",
   "mimetype": "text/x-python",
   "name": "python",
   "nbconvert_exporter": "python",
   "pygments_lexer": "ipython3",
   "version": "3.7.3"
  }
 },
 "nbformat": 4,
 "nbformat_minor": 2
}
