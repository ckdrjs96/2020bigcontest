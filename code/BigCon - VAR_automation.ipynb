{
 "cells": [
  {
   "cell_type": "code",
   "execution_count": 8,
   "metadata": {},
   "outputs": [],
   "source": [
    "import pandas as pd\n",
    "import numpy as np\n",
    "import matplotlib.pyplot as plt\n",
    "import os\n",
    "import warnings\n",
    "warnings.filterwarnings(action='ignore')"
   ]
  },
  {
   "cell_type": "markdown",
   "metadata": {},
   "source": [
    "## 데이터 불러오기"
   ]
  },
  {
   "cell_type": "code",
   "execution_count": 2,
   "metadata": {},
   "outputs": [],
   "source": [
    "data_dir = 'C:/Users/nsd96/Desktop/빅콘테스트/2020빅콘테스트 문제데이터(데이터분석분야-퓨처스리그)/2020빅콘테스트 데이터분석분야-퓨쳐스리그_스포츠투아이_제공데이터(.CSV)_시즌별, 시트별 구분'"
   ]
  },
  {
   "cell_type": "code",
   "execution_count": 3,
   "metadata": {
    "scrolled": false
   },
   "outputs": [
    {
     "name": "stdout",
     "output_type": "stream",
     "text": [
      "40\n",
      "['2020빅콘테스트_스포츠투아이_제공데이터_개인타자_2016.csv', '2020빅콘테스트_스포츠투아이_제공데이터_개인타자_2017.csv', '2020빅콘테스트_스포츠투아이_제공데이터_개인타자_2018.csv', '2020빅콘테스트_스포츠투아이_제공데이터_개인타자_2019.csv', '2020빅콘테스트_스포츠투아이_제공데이터_개인타자_2020.csv', '2020빅콘테스트_스포츠투아이_제공데이터_개인투수_2016.csv', '2020빅콘테스트_스포츠투아이_제공데이터_개인투수_2017.csv', '2020빅콘테스트_스포츠투아이_제공데이터_개인투수_2018.csv', '2020빅콘테스트_스포츠투아이_제공데이터_개인투수_2019.csv', '2020빅콘테스트_스포츠투아이_제공데이터_개인투수_2020.csv', '2020빅콘테스트_스포츠투아이_제공데이터_경기_2016.csv', '2020빅콘테스트_스포츠투아이_제공데이터_경기_2017.csv', '2020빅콘테스트_스포츠투아이_제공데이터_경기_2018.csv', '2020빅콘테스트_스포츠투아이_제공데이터_경기_2019.csv', '2020빅콘테스트_스포츠투아이_제공데이터_경기_2020.csv', '2020빅콘테스트_스포츠투아이_제공데이터_등록선수_2016.csv', '2020빅콘테스트_스포츠투아이_제공데이터_등록선수_2017.csv', '2020빅콘테스트_스포츠투아이_제공데이터_등록선수_2018.csv', '2020빅콘테스트_스포츠투아이_제공데이터_등록선수_2019.csv', '2020빅콘테스트_스포츠투아이_제공데이터_등록선수_2020.csv', '2020빅콘테스트_스포츠투아이_제공데이터_선수_2016.csv', '2020빅콘테스트_스포츠투아이_제공데이터_선수_2017.csv', '2020빅콘테스트_스포츠투아이_제공데이터_선수_2018.csv', '2020빅콘테스트_스포츠투아이_제공데이터_선수_2019.csv', '2020빅콘테스트_스포츠투아이_제공데이터_선수_2020.csv', '2020빅콘테스트_스포츠투아이_제공데이터_팀_2016.csv', '2020빅콘테스트_스포츠투아이_제공데이터_팀_2017.csv', '2020빅콘테스트_스포츠투아이_제공데이터_팀_2018.csv', '2020빅콘테스트_스포츠투아이_제공데이터_팀_2019.csv', '2020빅콘테스트_스포츠투아이_제공데이터_팀_2020.csv', '2020빅콘테스트_스포츠투아이_제공데이터_팀타자_2016.csv', '2020빅콘테스트_스포츠투아이_제공데이터_팀타자_2017.csv', '2020빅콘테스트_스포츠투아이_제공데이터_팀타자_2018.csv', '2020빅콘테스트_스포츠투아이_제공데이터_팀타자_2019.csv', '2020빅콘테스트_스포츠투아이_제공데이터_팀타자_2020.csv', '2020빅콘테스트_스포츠투아이_제공데이터_팀투수_2016.csv', '2020빅콘테스트_스포츠투아이_제공데이터_팀투수_2017.csv', '2020빅콘테스트_스포츠투아이_제공데이터_팀투수_2018.csv', '2020빅콘테스트_스포츠투아이_제공데이터_팀투수_2019.csv', '2020빅콘테스트_스포츠투아이_제공데이터_팀투수_2020.csv']\n"
     ]
    }
   ],
   "source": [
    "data_list = os.listdir(data_dir)\n",
    "print(len(data_list))\n",
    "print(data_list)"
   ]
  },
  {
   "cell_type": "markdown",
   "metadata": {},
   "source": [
    "### 데이터 정렬"
   ]
  },
  {
   "cell_type": "code",
   "execution_count": 4,
   "metadata": {},
   "outputs": [
    {
     "name": "stdout",
     "output_type": "stream",
     "text": [
      "2020년 데이터: \n",
      " [               G_ID   GDAY_DS T_ID VS_T_ID  HEADER_NO TB_SC   P_ID  START_CK  \\\n",
      "0     20200505HHSK0  20200505   HH      SK          0     T  61208         1   \n",
      "1     20200505HHSK0  20200505   SK      HH          0     B  61353         1   \n",
      "2     20200505HHSK0  20200505   HH      SK          0     T  62700         1   \n",
      "3     20200505HHSK0  20200505   SK      HH          0     B  62895         1   \n",
      "4     20200505HHSK0  20200505   SK      HH          0     B  63450         1   \n",
      "...             ...       ...  ...     ...        ...   ...    ...       ...   \n",
      "8055  20200719WOSK0  20200719   SK      WO          0     B  75847         1   \n",
      "8056  20200719WOSK0  20200719   SK      WO          0     B  76802         1   \n",
      "8057  20200719WOSK0  20200719   SK      WO          0     B  77463         0   \n",
      "8058  20200719WOSK0  20200719   WO      SK          0     T  78168         1   \n",
      "8059  20200719WOSK0  20200719   WO      SK          0     T  79456         1   \n",
      "\n",
      "      BAT_ORDER_NO  PA  ...  BB  IB  HP  KK  GD  ERR  LOB  P_HRA_RT  P_AB_CN  \\\n",
      "0                7   4  ...   0   0   0   0   0    0    0       0.0        1   \n",
      "1                2   4  ...   0   0   0   0   0    0    1       0.0        0   \n",
      "2                9   3  ...   0   0   0   1   1    0    1       0.5        2   \n",
      "3                5   3  ...   0   0   0   1   0    0    0       0.0        1   \n",
      "4                9   2  ...   0   0   0   1   0    0    0       0.0        0   \n",
      "...            ...  ..  ...  ..  ..  ..  ..  ..  ...  ...       ...      ...   \n",
      "8055             3   4  ...   0   0   0   1   0    0    1       0.0        1   \n",
      "8056             9   4  ...   1   0   0   0   0    0    4       1.0        1   \n",
      "8057             6   1  ...   1   0   0   0   0    0    0       0.0        0   \n",
      "8058             1   5  ...   0   0   0   0   1    0    0       0.0        1   \n",
      "8059             6   4  ...   0   0   0   0   0    0    0       0.0        0   \n",
      "\n",
      "      P_HIT_CN  \n",
      "0            0  \n",
      "1            0  \n",
      "2            1  \n",
      "3            0  \n",
      "4            0  \n",
      "...        ...  \n",
      "8055         0  \n",
      "8056         1  \n",
      "8057         0  \n",
      "8058         0  \n",
      "8059         0  \n",
      "\n",
      "[8060 rows x 31 columns],                G_ID   GDAY_DS T_ID VS_T_ID  HEADER_NO TB_SC   P_ID  START_CK  \\\n",
      "0     20200505HHSK0  20200505   SK      HH          0     B  50815         1   \n",
      "1     20200505HHSK0  20200505   SK      HH          0     B  63894         0   \n",
      "2     20200505HHSK0  20200505   HH      SK          0     T  69744         1   \n",
      "3     20200505HHSK0  20200505   SK      HH          0     B  76350         0   \n",
      "4     20200505LTKT0  20200505   KT      LT          0     B  50040         1   \n",
      "...             ...       ...  ...     ...        ...   ...    ...       ...   \n",
      "2882  20200719WOSK0  20200719   WO      SK          0     T  67313         1   \n",
      "2883  20200719WOSK0  20200719   WO      SK          0     T  67391         0   \n",
      "2884  20200719WOSK0  20200719   WO      SK          0     T  68341         0   \n",
      "2885  20200719WOSK0  20200719   WO      SK          0     T  69399         0   \n",
      "2886  20200719WOSK0  20200719   SK      WO          0     B  75138         0   \n",
      "\n",
      "      RELIEF_CK  CG_CK  ...  KK GD  WP  BK  ERR  R  ER  P_WHIP_RT  P2_WHIP_RT  \\\n",
      "0             0      0  ...   4  1   0   0    0  3   3        2.0    1.200000   \n",
      "1             1      0  ...   1  0   0   0    0  0   0        0.0    0.000000   \n",
      "2             0      1  ...   2  0   0   0    0  0   0        0.0    0.000000   \n",
      "3             1      0  ...   0  0   0   0    0  0   0        0.0    0.000000   \n",
      "4             0      0  ...   8  1   0   0    0  1   1        0.0    0.666667   \n",
      "...         ...    ...  ...  .. ..  ..  ..  ... ..  ..        ...         ...   \n",
      "2882          0      0  ...   7  0   1   0    0  0   0        0.0    1.000000   \n",
      "2883          1      0  ...   1  0   0   0    0  0   0        0.0    0.000000   \n",
      "2884          1      0  ...   2  0   1   0    0  4   4        0.0    0.000000   \n",
      "2885          1      0  ...   0  0   0   0    0  0   0        3.0    3.000000   \n",
      "2886          1      0  ...   0  0   0   0    0  0   0        0.0    0.000000   \n",
      "\n",
      "      CB_WHIP_RT  \n",
      "0       0.857143  \n",
      "1       1.500000  \n",
      "2       0.750000  \n",
      "3       0.000000  \n",
      "4       1.000000  \n",
      "...          ...  \n",
      "2882    2.250000  \n",
      "2883    0.000000  \n",
      "2884    1.500000  \n",
      "2885    0.000000  \n",
      "2886    0.000000  \n",
      "\n",
      "[2887 rows x 38 columns],               G_ID   GDAY_DS VISIT_KEY HOME_KEY  HEADER_NO GWEEK STADIUM\n",
      "0    20200505HHSK0  20200505        HH       SK          0     화      문학\n",
      "1    20200505LTKT0  20200505        LT       KT          0     화      수원\n",
      "2    20200505NCSS0  20200505        NC       SS          0     화      대구\n",
      "3    20200505OBLG0  20200505        OB       LG          0     화      잠실\n",
      "4    20200505WOHT0  20200505        WO       HT          0     화      광주\n",
      "..             ...       ...       ...      ...        ...   ...     ...\n",
      "315  20200719HHLG0  20200719        HH       LG          0     일      잠실\n",
      "316  20200719KTNC0  20200719        KT       NC          0     일      창원\n",
      "317  20200719LTSS0  20200719        LT       SS          0     일      대구\n",
      "318  20200719OBHT0  20200719        OB       HT          0     일      광주\n",
      "319  20200719WOSK0  20200719        WO       SK          0     일      문학\n",
      "\n",
      "[320 rows x 7 columns],         GDAY_DS T_ID   P_ID ENTRY_YN\n",
      "0      20200505   HH  62797        N\n",
      "1      20200505   HH  63464        N\n",
      "2      20200505   HH  63700        Y\n",
      "3      20200505   HH  63703        N\n",
      "4      20200505   HH  63765        N\n",
      "...         ...  ...    ...      ...\n",
      "45555  20200719   LG  79140        Y\n",
      "45556  20200719   LG  79150        Y\n",
      "45557  20200719   LG  79192        N\n",
      "45558  20200719   LG  79617        N\n",
      "45559  20200719   LG  79825        Y\n",
      "\n",
      "[45560 rows x 4 columns],      GYEAR  PCODE   NAME T_ID POSITION  AGE_VA     MONEY\n",
      "0     2020  50030    소형준   KT        투      19    2700만원\n",
      "1     2020  50036    이강준   KT        투      19    2700만원\n",
      "2     2020  50040  데스파이네   KT        투      33  450000달러\n",
      "3     2020  50054    천성호   KT        내      23    2700만원\n",
      "4     2020  50066    강현우   KT        포      19    2700만원\n",
      "..     ...    ...    ...  ...      ...     ...       ...\n",
      "622   2020  79705    김회성   HH        내      35    6500만원\n",
      "623   2020  79764    장민재   HH        투      30   11000만원\n",
      "624   2020  79825    여건욱   LG        투      34    7000만원\n",
      "625   2020  79847    김태훈   SK        투      30   24000만원\n",
      "626   2020  99445    권오준   SS        투      40    8000만원\n",
      "\n",
      "[627 rows x 7 columns],   T_ID T_NM\n",
      "0   HH   한화\n",
      "1   HT  KIA\n",
      "2   KT   KT\n",
      "3   LG   LG\n",
      "4   LT   롯데\n",
      "5   NC   NC\n",
      "6   OB   두산\n",
      "7   SK   SK\n",
      "8   SS   삼성\n",
      "9   WO   키움,               G_ID   GDAY_DS T_ID VS_T_ID  HEADER_NO TB_SC  PA  AB  RBI  RUN  \\\n",
      "0    20200505HHSK0  20200505   SK      HH          0     B  30  29    0    0   \n",
      "1    20200505HHSK0  20200505   HH      SK          0     T  35  31    3    3   \n",
      "2    20200505LTKT0  20200505   KT      LT          0     B  35  30    2    2   \n",
      "3    20200505LTKT0  20200505   LT      KT          0     T  37  32    7    7   \n",
      "4    20200505NCSS0  20200505   SS      NC          0     B  36  30    0    0   \n",
      "..             ...       ...  ...     ...        ...   ...  ..  ..  ...  ...   \n",
      "635  20200719LTSS0  20200719   LT      SS          0     T  31  29    2    2   \n",
      "636  20200719OBHT0  20200719   HT      OB          0     B  38  32    4    4   \n",
      "637  20200719OBHT0  20200719   OB      HT          0     T  41  37    8    8   \n",
      "638  20200719WOSK0  20200719   SK      WO          0     B  37  30    3    4   \n",
      "639  20200719WOSK0  20200719   WO      SK          0     T  37  33    3    3   \n",
      "\n",
      "     ...  BB  IB  HP  KK  GD  ERR  LOB  P_HRA_RT  P_AB_CN  P_HIT_CN  \n",
      "0    ...   1   0   0   2   0    0    3  0.000000        1         0  \n",
      "1    ...   2   0   0   5   1    0    5  0.250000        8         2  \n",
      "2    ...   5   0   0   8   1    0    6  0.000000        4         0  \n",
      "3    ...   4   0   0   9   1    1    3  0.666667        3         2  \n",
      "4    ...   6   0   0   8   0    0    9  0.000000        5         0  \n",
      "..   ...  ..  ..  ..  ..  ..  ...  ...       ...      ...       ...  \n",
      "635  ...   1   0   0   7   3    0    2  0.000000        2         0  \n",
      "636  ...   6   0   0   5   1    0    7  0.571429        7         4  \n",
      "637  ...   2   1   2   4   0    0    6  0.363636       11         4  \n",
      "638  ...   7   0   0  10   0    0    9  0.250000        8         2  \n",
      "639  ...   3   0   1   4   1    0    7  0.333333        3         1  \n",
      "\n",
      "[640 rows x 28 columns],               G_ID   GDAY_DS T_ID VS_T_ID  HEADER_NO TB_SC  CG_CK WLS  HOLD  \\\n",
      "0    20200505HHSK0  20200505   SK      HH          0     B      0   L     0   \n",
      "1    20200505HHSK0  20200505   HH      SK          0     T      1   W     0   \n",
      "2    20200505LTKT0  20200505   KT      LT          0     B      0   L     0   \n",
      "3    20200505LTKT0  20200505   LT      KT          0     T      0   W     0   \n",
      "4    20200505NCSS0  20200505   SS      NC          0     B      0   L     0   \n",
      "..             ...       ...  ...     ...        ...   ...    ...  ..   ...   \n",
      "635  20200719LTSS0  20200719   LT      SS          0     T      0   W     2   \n",
      "636  20200719OBHT0  20200719   HT      OB          0     B      0   L     0   \n",
      "637  20200719OBHT0  20200719   OB      HT          0     T      0   W     1   \n",
      "638  20200719WOSK0  20200719   SK      WO          0     B      0   W     0   \n",
      "639  20200719WOSK0  20200719   WO      SK          0     T      0   L     2   \n",
      "\n",
      "     INN2  ...  KK  GD  WP  BK  ERR  R  ER  P_WHIP_RT  P2_WHIP_RT  CB_WHIP_RT  \n",
      "0      27  ...   5   1   0   0    0  3   3   1.500000    1.200000    1.333333  \n",
      "1      27  ...   2   0   0   0    0  0   0   0.000000    0.000000    0.750000  \n",
      "2      27  ...   9   1   0   0    0  7   7   3.000000    1.285714    1.875000  \n",
      "3      27  ...   8   1   0   0    0  2   2   0.000000    1.000000    2.571429  \n",
      "4      27  ...   9   0   0   0    0  4   4   1.500000    1.058824    2.142857  \n",
      "..    ...  ...  ..  ..  ..  ..  ... ..  ..        ...         ...         ...  \n",
      "635    27  ...   9   1   0   0    0  1   1   0.600000    1.111111    1.500000  \n",
      "636    27  ...   4   0   0   0    0  8   8   2.142857    1.800000    0.750000  \n",
      "637    27  ...   5   1   0   0    0  4   4   3.000000    1.000000    1.875000  \n",
      "638    27  ...   4   1   0   0    0  3   3   1.500000    1.105263    2.142857  \n",
      "639    24  ...  10   0   2   0    0  4   4   1.800000    1.312500    1.333333  \n",
      "\n",
      "[640 rows x 34 columns]]\n",
      "팀투수 데이터:\n",
      " [               G_ID   GDAY_DS T_ID VS_T_ID  HEADER_NO TB_SC  CG_CK WLS  HOLD  \\\n",
      "0     20160401HHLG0  20160401   LG      HH          0     B      0   W     0   \n",
      "1     20160401HHLG0  20160401   HH      LG          0     T      0   L     0   \n",
      "2     20160401HTNC0  20160401   NC      HT          0     B      0   W     0   \n",
      "3     20160401HTNC0  20160401   HT      NC          0     T      0   L     0   \n",
      "4     20160401KTSK0  20160401   SK      KT          0     B      0   L     0   \n",
      "...             ...       ...  ...     ...        ...   ...    ...  ..   ...   \n",
      "1435  20161008SSSK0  20161008   SS      SK          0     T      0   L     0   \n",
      "1436  20161009KTNC0  20161009   NC      KT          0     B      0   L     0   \n",
      "1437  20161009KTNC0  20161009   KT      NC          0     T      0   W     1   \n",
      "1438  20161009WOLT0  20161009   LT      WO          0     B      0   W     1   \n",
      "1439  20161009WOLT0  20161009   WO      LT          0     T      0   L     0   \n",
      "\n",
      "      INN2  ...  KK  GD  WP  BK  ERR  R  ER  P_WHIP_RT  P2_WHIP_RT  CB_WHIP_RT  \n",
      "0       36  ...  10   1   0   0    0  4   4   0.642857    1.285714    2.400000  \n",
      "1       34  ...  11   0   1   0    0  5   4   1.500000    1.000000    0.750000  \n",
      "2       27  ...  10   1   2   0    0  4   4   1.333333    1.038462    2.142857  \n",
      "3       24  ...   9   1   0   0    0  5   5   0.500000    1.695652    1.875000  \n",
      "4       27  ...   7   0   0   0    0  8   8   1.000000    2.357143    2.250000  \n",
      "...    ...  ...  ..  ..  ..  ..  ... ..  ..        ...         ...         ...  \n",
      "1435    24  ...   9   1   0   0    0  7   6   1.500000    2.538462    1.666667  \n",
      "1436    27  ...   7   0   2   1    0  7   7   0.900000    2.217391    1.500000  \n",
      "1437    27  ...  13   0   0   0    1  4   3   0.562500    1.428571    1.090909  \n",
      "1438    27  ...   6   1   1   0    0  5   5   1.500000    1.500000    1.000000  \n",
      "1439    24  ...   4   2   1   0    0  8   4   2.250000    1.666667    3.000000  \n",
      "\n",
      "[1440 rows x 34 columns],                G_ID   GDAY_DS T_ID VS_T_ID  HEADER_NO TB_SC  CG_CK WLS  HOLD  \\\n",
      "0     20170331HHOB0  20170331   OB      HH          0     B      0   W     0   \n",
      "1     20170331HHOB0  20170331   HH      OB          0     T      0   L     0   \n",
      "2     20170331HTSS0  20170331   SS      HT          0     B      0   L     0   \n",
      "3     20170331HTSS0  20170331   HT      SS          0     T      0   W     0   \n",
      "4     20170331KTSK0  20170331   SK      KT          0     B      0   L     0   \n",
      "...             ...       ...  ...     ...        ...   ...    ...  ..   ...   \n",
      "1435  20171003NCHH0  20171003   NC      HH          0     T      0   D     0   \n",
      "1436  20171003SKOB0  20171003   OB      SK          0     B      0   L     1   \n",
      "1437  20171003SKOB0  20171003   SK      OB          0     T      0   W     2   \n",
      "1438  20171003WOSS0  20171003   SS      WO          0     B      0   W     0   \n",
      "1439  20171003WOSS0  20171003   WO      SS          0     T      0   L     0   \n",
      "\n",
      "      INN2  ...  KK  GD  WP  BK  ERR   R  ER  P_WHIP_RT  P2_WHIP_RT  \\\n",
      "0       27  ...   8   0   1   0    0   0   0   0.600000    0.857143   \n",
      "1       24  ...   8   0   0   0    0   3   1   0.600000    0.450000   \n",
      "2       27  ...   5   0   1   0    0   7   6   2.000000    1.363636   \n",
      "3       27  ...   7   1   1   0    0   2   2   0.000000    0.857143   \n",
      "4       27  ...   8   1   0   0    1   3   2   1.200000    1.222222   \n",
      "...    ...  ...  ..  ..  ..  ..  ...  ..  ..        ...         ...   \n",
      "1435    36  ...   6   0   1   0    0   8   7   2.000000    1.031250   \n",
      "1436    27  ...   8   0   0   0    0   3   2   1.500000    1.222222   \n",
      "1437    27  ...   5   1   0   0    0   2   2   1.200000    1.000000   \n",
      "1438    27  ...  12   1   1   0    0   9   8   1.666667    2.000000   \n",
      "1439    24  ...   5   0   0   0    0  10   6   2.571429    2.538462   \n",
      "\n",
      "      CB_WHIP_RT  \n",
      "0       1.200000  \n",
      "1       0.272727  \n",
      "2       3.428571  \n",
      "3       1.333333  \n",
      "4       0.818182  \n",
      "...          ...  \n",
      "1435    3.000000  \n",
      "1436    1.500000  \n",
      "1437    0.600000  \n",
      "1438    4.500000  \n",
      "1439    2.000000  \n",
      "\n",
      "[1440 rows x 34 columns],                G_ID   GDAY_DS T_ID VS_T_ID  HEADER_NO TB_SC  CG_CK WLS  HOLD  \\\n",
      "0     20180324HHWO0  20180324   WO      HH          0     B      0   W     2   \n",
      "1     20180324HHWO0  20180324   HH      WO          0     T      0   L     0   \n",
      "2     20180324KTHT0  20180324   HT      KT          0     B      0   L     0   \n",
      "3     20180324KTHT0  20180324   KT      HT          0     T      0   W     2   \n",
      "4     20180324LGNC0  20180324   NC      LG          0     B      0   W     2   \n",
      "...             ...       ...  ...     ...        ...   ...    ...  ..   ...   \n",
      "1435  20181013NCHH0  20181013   NC      HH          0     T      0   L     0   \n",
      "1436  20181013WOSS0  20181013   SS      WO          0     B      0   W     0   \n",
      "1437  20181013WOSS0  20181013   WO      SS          0     T      0   L     0   \n",
      "1438  20181014OBLT0  20181014   LT      OB          0     B      0   L     1   \n",
      "1439  20181014OBLT0  20181014   OB      LT          0     T      0   W     1   \n",
      "\n",
      "      INN2  ...  KK  GD  WP  BK  ERR   R  ER  P_WHIP_RT  P2_WHIP_RT  \\\n",
      "0       27  ...   9   0   0   0    1   3   2   1.090909    1.600000   \n",
      "1       24  ...  10   0   2   0    0   6   5   1.750000    3.000000   \n",
      "2       27  ...   9   0   0   0    0   5   5   2.000000    1.333333   \n",
      "3       27  ...   8   0   0   0    0   4   4   1.200000    1.555556   \n",
      "4       27  ...   9   1   0   0    0   2   2   0.000000    0.777778   \n",
      "...    ...  ...  ..  ..  ..  ..  ...  ..  ..        ...         ...   \n",
      "1435    24  ...   4   1   1   0    0  10  10   6.000000    2.250000   \n",
      "1436    27  ...   6   1   0   0    0   5   5   3.000000    0.500000   \n",
      "1437    24  ...   8   1   0   0    1  12  10   2.000000   15.000000   \n",
      "1438    27  ...   2   1   1   0    0   5   5   2.250000    0.954545   \n",
      "1439    27  ...   4   3   0   0    0   1   1   1.000000    1.285714   \n",
      "\n",
      "      CB_WHIP_RT  \n",
      "0       2.250000  \n",
      "1       2.250000  \n",
      "2       1.500000  \n",
      "3       2.625000  \n",
      "4       1.333333  \n",
      "...          ...  \n",
      "1435    1.200000  \n",
      "1436    3.000000  \n",
      "1437    2.625000  \n",
      "1438    1.000000  \n",
      "1439    0.900000  \n",
      "\n",
      "[1440 rows x 34 columns],                G_ID   GDAY_DS T_ID VS_T_ID  HEADER_NO TB_SC  CG_CK WLS  HOLD  \\\n",
      "0     20190323HHOB0  20190323   OB      HH          0     B      0   W     1   \n",
      "1     20190323HHOB0  20190323   HH      OB          0     T      0   L     0   \n",
      "2     20190323KTSK0  20190323   SK      KT          0     B      0   W     1   \n",
      "3     20190323KTSK0  20190323   KT      SK          0     T      0   L     0   \n",
      "4     20190323LGHT0  20190323   HT      LG          0     B      0   L     0   \n",
      "...             ...       ...  ...     ...        ...   ...    ...  ..   ...   \n",
      "1435  20190930SKHH0  20190930   SK      HH          0     T      0   W     1   \n",
      "1436  20191001NCOB0  20191001   OB      NC          0     B      0   W     0   \n",
      "1437  20191001NCOB0  20191001   NC      OB          0     T      0   L     4   \n",
      "1438  20191001WOLT0  20191001   LT      WO          0     B      0   L     0   \n",
      "1439  20191001WOLT0  20191001   WO      LT          0     T      0   W     5   \n",
      "\n",
      "      INN2  ...  KK  GD  WP  BK  ERR  R  ER  P_WHIP_RT  P2_WHIP_RT  CB_WHIP_RT  \n",
      "0       27  ...   7   2   1   0    0  4   4   1.200000    1.888889    3.857143  \n",
      "1       24  ...   3   1   1   0    0  5   5   3.000000    1.375000    3.000000  \n",
      "2       27  ...  10   1   0   0    0  4   4   0.666667    1.375000    0.818182  \n",
      "3       24  ...   5   1   0   0    0  7   6   2.000000    1.826087    1.500000  \n",
      "4       27  ...  12   3   0   0    0  2   2   0.500000    1.222222    0.600000  \n",
      "...    ...  ...  ..  ..  ..  ..  ... ..  ..        ...         ...         ...  \n",
      "1435    27  ...   5   2   1   0    0  2   2   0.000000    1.000000    0.600000  \n",
      "1436    27  ...   7   1   2   0    0  5   5   1.250000    2.192308    2.000000  \n",
      "1437    25  ...   6   0   0   0    2  6   5   1.363636    1.695652    1.500000  \n",
      "1438    27  ...   9   1   2   0    0  3   1   1.333333    1.222222    0.545455  \n",
      "1439    27  ...   8   0   0   0    0  1   1   0.600000    1.111111    1.500000  \n",
      "\n",
      "[1440 rows x 34 columns],               G_ID   GDAY_DS T_ID VS_T_ID  HEADER_NO TB_SC  CG_CK WLS  HOLD  \\\n",
      "0    20200505HHSK0  20200505   SK      HH          0     B      0   L     0   \n",
      "1    20200505HHSK0  20200505   HH      SK          0     T      1   W     0   \n",
      "2    20200505LTKT0  20200505   KT      LT          0     B      0   L     0   \n",
      "3    20200505LTKT0  20200505   LT      KT          0     T      0   W     0   \n",
      "4    20200505NCSS0  20200505   SS      NC          0     B      0   L     0   \n",
      "..             ...       ...  ...     ...        ...   ...    ...  ..   ...   \n",
      "635  20200719LTSS0  20200719   LT      SS          0     T      0   W     2   \n",
      "636  20200719OBHT0  20200719   HT      OB          0     B      0   L     0   \n",
      "637  20200719OBHT0  20200719   OB      HT          0     T      0   W     1   \n",
      "638  20200719WOSK0  20200719   SK      WO          0     B      0   W     0   \n",
      "639  20200719WOSK0  20200719   WO      SK          0     T      0   L     2   \n",
      "\n",
      "     INN2  ...  KK  GD  WP  BK  ERR  R  ER  P_WHIP_RT  P2_WHIP_RT  CB_WHIP_RT  \n",
      "0      27  ...   5   1   0   0    0  3   3   1.500000    1.200000    1.333333  \n",
      "1      27  ...   2   0   0   0    0  0   0   0.000000    0.000000    0.750000  \n",
      "2      27  ...   9   1   0   0    0  7   7   3.000000    1.285714    1.875000  \n",
      "3      27  ...   8   1   0   0    0  2   2   0.000000    1.000000    2.571429  \n",
      "4      27  ...   9   0   0   0    0  4   4   1.500000    1.058824    2.142857  \n",
      "..    ...  ...  ..  ..  ..  ..  ... ..  ..        ...         ...         ...  \n",
      "635    27  ...   9   1   0   0    0  1   1   0.600000    1.111111    1.500000  \n",
      "636    27  ...   4   0   0   0    0  8   8   2.142857    1.800000    0.750000  \n",
      "637    27  ...   5   1   0   0    0  4   4   3.000000    1.000000    1.875000  \n",
      "638    27  ...   4   1   0   0    0  3   3   1.500000    1.105263    2.142857  \n",
      "639    24  ...  10   0   2   0    0  4   4   1.800000    1.312500    1.333333  \n",
      "\n",
      "[640 rows x 34 columns]]\n"
     ]
    }
   ],
   "source": [
    "#년도별 저장\n",
    "data_list_2016 = [data_list[x] for x in range(len(data_list)) if data_list[x].split('_')[-1].startswith('2016') ]\n",
    "data_2016 = [pd.read_csv(os.path.join(data_dir,data_list_2016[x]),encoding='cp949') for x in range(len(data_list_2016))]\n",
    "data_list_2017 = [data_list[x] for x in range(len(data_list)) if data_list[x].split('_')[-1].startswith('2017') ]\n",
    "data_2017 = [pd.read_csv(os.path.join(data_dir,data_list_2017[x]),encoding='cp949') for x in range(len(data_list_2017))]\n",
    "data_list_2018 = [data_list[x] for x in range(len(data_list)) if data_list[x].split('_')[-1].startswith('2018') ]\n",
    "data_2018 = [pd.read_csv(os.path.join(data_dir,data_list_2018[x]),encoding='cp949') for x in range(len(data_list_2018))]\n",
    "data_list_2019 = [data_list[x] for x in range(len(data_list)) if data_list[x].split('_')[-1].startswith('2019') ]\n",
    "data_2019 = [pd.read_csv(os.path.join(data_dir,data_list_2019[x]),encoding='cp949') for x in range(len(data_list_2019))]\n",
    "data_list_2020 = [data_list[x] for x in range(len(data_list)) if data_list[x].split('_')[-1].startswith('2020') ]\n",
    "data_2020 = [pd.read_csv(os.path.join(data_dir,data_list_2020[x]),encoding='cp949') for x in range(len(data_list_2020))]\n",
    "print('2020년 데이터: \\n', data_2020)\n",
    "\n",
    "#항목별 저장\n",
    "data_list_single_hitter = [data_list[x] for x in range(len(data_list)) if data_list[x].split('_')[-2].startswith('개인타자')]\n",
    "data_single_hitter = [pd.read_csv(os.path.join(data_dir, data_list_single_hitter[x]), encoding='cp949') for x in range(len(data_list_single_hitter))]\n",
    "data_list_single_pitcher = [data_list[x] for x in range(len(data_list)) if data_list[x].split('_')[-2].startswith('개인투수')]\n",
    "data_single_pitcher = [pd.read_csv(os.path.join(data_dir, data_list_single_pitcher[x]), encoding='cp949') for x in range(len(data_list_single_pitcher))]\n",
    "data_list_games = [data_list[x] for x in range(len(data_list)) if data_list[x].split('_')[-2].startswith('경기')]\n",
    "data_games = [pd.read_csv(os.path.join(data_dir, data_list_games[x]), encoding='cp949') for x in range(len(data_list_games))]\n",
    "data_list_player_enroll = [data_list[x] for x in range(len(data_list)) if data_list[x].split('_')[-2].startswith('등록선수')]\n",
    "data_player_enroll = [pd.read_csv(os.path.join(data_dir, data_list_player_enroll[x]), encoding='cp949') for x in range(len(data_list_player_enroll))]\n",
    "data_list_players = [data_list[x] for x in range(len(data_list)) if data_list[x].split('_')[-2].startswith('선수')]\n",
    "data_players = [pd.read_csv(os.path.join(data_dir, data_list_players[x]), encoding='cp949') for x in range(len(data_list_players))]\n",
    "data_list_teams = [data_list[x] for x in range(len(data_list)) if data_list[x].split('_')[-2].startswith('팀')]\n",
    "data_teams = [pd.read_csv(os.path.join(data_dir, data_list_teams[x]), encoding='cp949') for x in range(len(data_list_teams))]\n",
    "data_list_team_hitter = [data_list[x] for x in range(len(data_list)) if data_list[x].split('_')[-2].startswith('팀타자')]\n",
    "data_team_hitter = [pd.read_csv(os.path.join(data_dir, data_list_team_hitter[x]), encoding='cp949') for x in range(len(data_list_team_hitter))]\n",
    "data_list_team_pitcher = [data_list[x] for x in range(len(data_list)) if data_list[x].split('_')[-2].startswith('팀투수')]\n",
    "data_team_pitcher = [pd.read_csv(os.path.join(data_dir, data_list_team_pitcher[x]), encoding='cp949') for x in range(len(data_list_team_pitcher))]\n",
    "print('팀투수 데이터:\\n', data_team_pitcher)"
   ]
  },
  {
   "cell_type": "markdown",
   "metadata": {},
   "source": [
    "# 방어율"
   ]
  },
  {
   "cell_type": "markdown",
   "metadata": {},
   "source": [
    "### EDA"
   ]
  },
  {
   "cell_type": "markdown",
   "metadata": {},
   "source": [
    "#### EDA 함수 형식\n",
    "* EDA 함수에 들어갈 변수는 year, team_name\n",
    "* output은 해당 연도, 팀의 DataFrame\n",
    "* 동일하게 작성해야 하는 부분: GDAY_DS + HEADER_NO 한 뒤 date 형식으로 변환 후 index로 주는 부분, T_ID Drop\n",
    "* target 변수 명칭은 명시적으로 설정\n",
    "* 나머지는 자유롭게 작성하되 VAR에서는 Categorical 이나 imbalanced feature 는 빼는게 좋을 듯 => 희소 matrix 뱉을 수 있음"
   ]
  },
  {
   "cell_type": "code",
   "execution_count": 5,
   "metadata": {},
   "outputs": [],
   "source": [
    "from sklearn.preprocessing import LabelEncoder\n",
    "from datetime import datetime\n",
    "\n",
    "def team_pitcher_eda1(year, team_name):\n",
    "    year_index = year - 2016 \n",
    "    \n",
    "    # team_pitcher data에 해당 경기의 해당 팀의 홈 어웨이 여부 column 추가\n",
    "    data_games_year = data_games[year_index]\n",
    "    data_games_year = data_games_year[['G_ID', 'VISIT_KEY', 'HOME_KEY']]\n",
    "    data_games_year = data_games_year.set_index('G_ID')\n",
    "    \n",
    "    data_team_pitcher_year = data_team_pitcher[year_index]\n",
    "    data_team_pitcher_year = pd.merge(data_team_pitcher_year, data_games_year, how='left', on=['G_ID'])\n",
    "\n",
    "    data_team_pitcher_year_team = data_team_pitcher_year[data_team_pitcher_year.T_ID == team_name]\n",
    "    df = data_team_pitcher_year_team\n",
    "    df['HOME_KEY'] = df['HOME_KEY'].map(lambda x: 1 if x == team_name else 0 )\n",
    "    df = df.drop(columns = ['VISIT_KEY', 'G_ID'])\n",
    "    \n",
    "    df.reset_index(inplace=True, drop=True) #index 재정렬\n",
    "    \n",
    "    # LabelEncoding\n",
    "    encoder = LabelEncoder()\n",
    "\n",
    "    df['VS_T_ID'] = encoder.fit_transform(df['VS_T_ID']) #상대편\n",
    "    df['TB_SC'] = encoder.fit_transform(df['TB_SC']) #이닝 초/말\n",
    "    df['WLS'] = encoder.fit_transform(df['WLS']) #승패무 여부\n",
    "    \n",
    "    ### 이부분은 모든 EDA에서 동일하게 작성\n",
    "    \n",
    "    # GDAY_DS => Datetime type\n",
    "    df['GDAY_DS'] = df['GDAY_DS'].astype('string') + (df['HEADER_NO']+1).astype('string')\n",
    "        \n",
    "    dt = []\n",
    "    for i in df['GDAY_DS']:\n",
    "        dt_ = datetime.strptime(i, '%Y%m%d%H')\n",
    "        dt.append(dt_)\n",
    "    df['GDAY_DS'] = pd.Series(dt)\n",
    "    \n",
    "    # 시계열 데이터(경기당 방어율 계산)이기 때문에 경기 코드를 index로\n",
    "    df = df.set_index('GDAY_DS')\n",
    "    \n",
    "    df = df.drop(columns=['T_ID'])\n",
    "    \n",
    "    ###\n",
    "    \n",
    "\n",
    "    # 경기당 방어율 column 생성\n",
    "    df['ERA'] = df['ER'] * 27 / df['INN2']\n",
    "    \n",
    "    # Drop Categorical feature for 시계열 => coint 과정에서 singular matrix 발생\n",
    "    df = df.drop(columns=['VS_T_ID', 'HEADER_NO', 'TB_SC', 'CG_CK', 'WLS', 'HOLD', 'HOME_KEY'])\n",
    "    \n",
    "\n",
    "#     df = df.drop(columns=['T_ID', 'HEADER_NO', 'CG_CK', 'BK'])\n",
    "#     df = df.drop(columns=['TB_SC', 'HR', 'SB', 'VS_T_ID', 'HOME_KEY', 'HOLD', 'INN2', 'BF', 'CS', 'SH', 'HP', 'GD', 'ERR' ,'ER'])\n",
    "    df_year_team_name = df\n",
    "    \n",
    "    return df_year_team_name"
   ]
  },
  {
   "cell_type": "code",
   "execution_count": 9,
   "metadata": {},
   "outputs": [],
   "source": [
    "df_2016_LG = team_pitcher_eda1(2016, 'LG')"
   ]
  },
  {
   "cell_type": "code",
   "execution_count": 11,
   "metadata": {},
   "outputs": [
    {
     "data": {
      "image/png": "[encoded data removed]",
      "text/plain": [
       "<Figure size 432x288 with 1 Axes>"
      ]
     },
     "metadata": {
      "needs_background": "light"
     },
     "output_type": "display_data"
    },
    {
     "data": {
      "image/png": "[encoded data removed]",
      "text/plain": [
       "<Figure size 432x288 with 1 Axes>"
      ]
     },
     "metadata": {
      "needs_background": "light"
     },
     "output_type": "display_data"
    },
    {
     "data": {
      "image/png": "[encoded data removed]",
      "text/plain": [
       "<Figure size 432x288 with 1 Axes>"
      ]
     },
     "metadata": {
      "needs_background": "light"
     },
     "output_type": "display_data"
    },
    {
     "data": {
      "image/png": "[encoded data removed]",
      "text/plain": [
       "<Figure size 432x288 with 1 Axes>"
      ]
     },
     "metadata": {
      "needs_background": "light"
     },
     "output_type": "display_data"
    },
    {
     "data": {
      "image/png": "[encoded data removed]",
      "text/plain": [
       "<Figure size 432x288 with 1 Axes>"
      ]
     },
     "metadata": {
      "needs_background": "light"
     },
     "output_type": "display_data"
    },
    {
     "data": {
      "image/png": "[encoded data removed]",
      "text/plain": [
       "<Figure size 432x288 with 1 Axes>"
      ]
     },
     "metadata": {
      "needs_background": "light"
     },
     "output_type": "display_data"
    },
    {
     "data": {
      "image/png": "[encoded data removed]",
      "text/plain": [
       "<Figure size 432x288 with 1 Axes>"
      ]
     },
     "metadata": {
      "needs_background": "light"
     },
     "output_type": "display_data"
    },
    {
     "data": {
      "image/png": "[encoded data removed]",
      "text/plain": [
       "<Figure size 432x288 with 1 Axes>"
      ]
     },
     "metadata": {
      "needs_background": "light"
     },
     "output_type": "display_data"
    },
    {
     "data": {
      "image/png": "[encoded data removed]",
      "text/plain": [
       "<Figure size 432x288 with 1 Axes>"
      ]
     },
     "metadata": {
      "needs_background": "light"
     },
     "output_type": "display_data"
    },
    {
     "data": {
      "image/png": "[encoded data removed]",
      "text/plain": [
       "<Figure size 432x288 with 1 Axes>"
      ]
     },
     "metadata": {
      "needs_background": "light"
     },
     "output_type": "display_data"
    },
    {
     "data": {
      "image/png": "[encoded data removed]",
      "text/plain": [
       "<Figure size 432x288 with 1 Axes>"
      ]
     },
     "metadata": {
      "needs_background": "light"
     },
     "output_type": "display_data"
    },
    {
     "data": {
      "image/png": "[encoded data removed]",
      "text/plain": [
       "<Figure size 432x288 with 1 Axes>"
      ]
     },
     "metadata": {
      "needs_background": "light"
     },
     "output_type": "display_data"
    },
    {
     "data": {
      "image/png": "[encoded data removed]",
      "text/plain": [
       "<Figure size 432x288 with 1 Axes>"
      ]
     },
     "metadata": {
      "needs_background": "light"
     },
     "output_type": "display_data"
    },
    {
     "data": {
      "image/png": "[encoded data removed]",
      "text/plain": [
       "<Figure size 432x288 with 1 Axes>"
      ]
     },
     "metadata": {
      "needs_background": "light"
     },
     "output_type": "display_data"
    },
    {
     "data": {
      "image/png": "[encoded data removed]",
      "text/plain": [
       "<Figure size 432x288 with 1 Axes>"
      ]
     },
     "metadata": {
      "needs_background": "light"
     },
     "output_type": "display_data"
    },
    {
     "data": {
      "image/png": "[encoded data removed]",
      "text/plain": [
       "<Figure size 432x288 with 1 Axes>"
      ]
     },
     "metadata": {
      "needs_background": "light"
     },
     "output_type": "display_data"
    },
    {
     "data": {
      "image/png": "[encoded data removed]",
      "text/plain": [
       "<Figure size 432x288 with 1 Axes>"
      ]
     },
     "metadata": {
      "needs_background": "light"
     },
     "output_type": "display_data"
    },
    {
     "data": {
      "image/png": "[encoded data removed]",
      "text/plain": [
       "<Figure size 432x288 with 1 Axes>"
      ]
     },
     "metadata": {
      "needs_background": "light"
     },
     "output_type": "display_data"
    },
    {
     "data": {
      "image/png": "[encoded data removed]",
      "text/plain": [
       "<Figure size 432x288 with 1 Axes>"
      ]
     },
     "metadata": {
      "needs_background": "light"
     },
     "output_type": "display_data"
    },
    {
     "data": {
      "image/png": "[encoded data removed]",
      "text/plain": [
       "<Figure size 432x288 with 1 Axes>"
      ]
     },
     "metadata": {
      "needs_background": "light"
     },
     "output_type": "display_data"
    },
    {
     "data": {
      "image/png": "[encoded data removed]",
      "text/plain": [
       "<Figure size 432x288 with 1 Axes>"
      ]
     },
     "metadata": {
      "needs_background": "light"
     },
     "output_type": "display_data"
    },
    {
     "data": {
      "image/png": "[encoded data removed]",
      "text/plain": [
       "<Figure size 432x288 with 1 Axes>"
      ]
     },
     "metadata": {
      "needs_background": "light"
     },
     "output_type": "display_data"
    },
    {
     "data": {
      "image/png": "[encoded data removed]",
      "text/plain": [
       "<Figure size 432x288 with 1 Axes>"
      ]
     },
     "metadata": {
      "needs_background": "light"
     },
     "output_type": "display_data"
    },
    {
     "data": {
      "image/png": "[encoded data removed]",
      "text/plain": [
       "<Figure size 432x288 with 1 Axes>"
      ]
     },
     "metadata": {
      "needs_background": "light"
     },
     "output_type": "display_data"
    },
    {
     "data": {
      "image/png": "[encoded data removed]",
      "text/plain": [
       "<Figure size 432x288 with 1 Axes>"
      ]
     },
     "metadata": {
      "needs_background": "light"
     },
     "output_type": "display_data"
    },
    {
     "data": {
      "image/png": "[encoded data removed]",
      "text/plain": [
       "<Figure size 432x288 with 1 Axes>"
      ]
     },
     "metadata": {
      "needs_background": "light"
     },
     "output_type": "display_data"
    }
   ],
   "source": [
    "from statsmodels.graphics.tsaplots import plot_acf\n",
    "\n",
    "for column in df_2016_LG.columns.unique():\n",
    "    fig = plot_acf(df_2016_LG[column], title=column)"
   ]
  },
  {
   "cell_type": "markdown",
   "metadata": {},
   "source": [
    "# VAR Class "
   ]
  },
  {
   "cell_type": "markdown",
   "metadata": {},
   "source": [
    "* 각각의 test 과정도 var 객체를 통해 검정할 수 있도록 작성\n",
    "* cointegration test의 경우 class 내부 함수에 맞게 코드 수정\n",
    "* 간혹 Singular Matrix Error가 발생할 수 있는데 이를 위한 예외 처리(노이즈 추가) 작성\n",
    "* aic_test의 경우 lag_range를 너무 많이 주면 결과가 오히려 안좋음 research 결과 대부분 10 안에서 lag_range를 주는 것 같아 default=8\n",
    "* 다른 lag_range로 실험 해보고 싶으면 클래스 내부에서 수정하면 되는데 비추천\n",
    "* mean_absolute_error의 경우 각 경기별 target 차이의 평균이고, 우리가 알고 싶은 것은 전체 평균 간의 차이이기 때문에 코드 수정\n",
    "* run 함수에서 displaying=True로 줄 경우 결과 시각화(forecast dataframe 및 plot graph)"
   ]
  },
  {
   "cell_type": "code",
   "execution_count": 12,
   "metadata": {},
   "outputs": [],
   "source": [
    "#library import\n",
    "import statsmodels.api as sm\n",
    "from sklearn.metrics import mean_absolute_error, mean_squared_error\n",
    "from statsmodels.tsa.stattools import adfuller\n",
    "from statsmodels.tsa.stattools import grangercausalitytests\n",
    "from statsmodels.tsa.vector_ar.vecm import coint_johansen\n",
    "from statsmodels.stats.stattools import durbin_watson\n",
    "from IPython.display import display\n",
    "\n",
    "import warnings\n",
    "warnings.filterwarnings(action='ignore')"
   ]
  },
  {
   "cell_type": "code",
   "execution_count": 13,
   "metadata": {},
   "outputs": [],
   "source": [
    "class Var_automation:\n",
    "    def __init__(self, df, target):\n",
    "        super(Var_automation, self).__init__()\n",
    "        \n",
    "        self.df_set = df\n",
    "        self.train = self.df_set.iloc[:-20]\n",
    "        self.test = self.df_set.iloc[-20:]\n",
    "        self.target = target\n",
    "    \n",
    "    def grangers_causation_matirx(self, test='ssr_chi2test', verbose=False): #인과관계 검정\n",
    "        variables = self.df_set.columns\n",
    "        maxlag = 12\n",
    "        \n",
    "        df = pd.DataFrame(np.zeros((len(variables), len(variables))), columns = variables, index = variables)\n",
    "        for column in df.columns:\n",
    "            for index in df.index:\n",
    "                test_result = grangercausalitytests(self.df_set[[index,column]], maxlag=maxlag, verbose=False)\n",
    "                p_values = [round(test_result[i+1][0][test][1],4) for i in range(maxlag)]\n",
    "                if verbose: print(f'Y = {r}, X = {c}, P Values = {p_values}')\n",
    "                min_p_value = np.min(p_values)\n",
    "                df.loc[index, column] = min_p_value\n",
    "        df.columns = [var + '_x' for var in variables]\n",
    "        df.index = [var + '_y' for var in variables]\n",
    "        \n",
    "        target_p_value = df.loc['{}_y'.format(self.target)]\n",
    "        effective_var = []\n",
    "        for i, v in enumerate(target_p_value):\n",
    "            if v < 0.05:\n",
    "                effective_var.append(df.index[i].split('_y')[0])\n",
    "        \n",
    "        return df, effective_var\n",
    "    \n",
    "    def cointegration_test(self, alpha=0.05): #공적분 검정\n",
    "        df_grangers, var_grangers = self.grangers_causation_matirx()\n",
    "        var_coint = var_grangers\n",
    "        var_coint.append(self.target) #뒤에 넣어야 하는듯\n",
    "        df = self.df_set[var_coint] \n",
    "        df_shape = df.shape\n",
    "                \n",
    "        try:\n",
    "            out = coint_johansen(df, -1, 5)\n",
    "        except:\n",
    "            df = df + 0.00001*np.random.rand(df_shape[0],df_shape[1]) #Singular Matrix Error Solution\n",
    "            out = coint_johansen(df, -1, 5)\n",
    "            \n",
    "        d = {'0.90': 0, '0.95': 1, '0.99': 2}\n",
    "        traces = out.lr1\n",
    "        cvts = out.cvt[:, d[str(1-alpha)]]\n",
    "        def adjust(val, length= 6): return str(val).ljust(length)    \n",
    "        \n",
    "        dict = {'Name': [], 'Test Stat': [], '> C(95%)': [], 'Signif': []}\n",
    "        effective_var = []\n",
    "\n",
    "        for col, trace, cvt in zip(df.columns, traces, cvts):\n",
    "            \n",
    "            dict['Name'].append(adjust(col))\n",
    "            dict['Test Stat'].append(adjust(round(trace,2), 9))\n",
    "            dict['> C(95%)'].append(adjust(cvt, 8))\n",
    "            dict['Signif'].append(trace > cvt)\n",
    "            \n",
    "            if trace>cvt:\n",
    "                effective_var.append(col)\n",
    "        \n",
    "        df_coint = pd.DataFrame(dict)                \n",
    "        \n",
    "        return df_coint, effective_var\n",
    "    \n",
    "    def adfuller_test(self, signif=0.05, verbose=False): #단위근 검정\n",
    "        df_coint, effective_var = self.cointegration_test()\n",
    "        effective_var.append(self.target)\n",
    "        \n",
    "        df_train = self.train[effective_var]\n",
    "        df_test = self.test[effective_var]\n",
    "        \n",
    "        def adjust(val, length=6): return str(val).ljust(length)\n",
    "        \n",
    "        adfuller_dict = {}\n",
    "        stationary_var = []\n",
    "        \n",
    "        for name, series in df_train.items():\n",
    "            name = series.name\n",
    "            \n",
    "            dict = {'adfuller_test var': [], 'Significance Level': [], 'Test Statistic': [], 'No. Lags Chosen': []}\n",
    "    \n",
    "            r = adfuller(series, autolag = 'AIC')\n",
    "            output = {'test_static': round(r[0], 4), 'pvalue': round(r[1], 4), 'n_lags': round(r[2], 4), 'n_obs': r[3]}\n",
    "            p_value = output['pvalue']\n",
    "            \n",
    "            dict['adfuller_test var'].append(name)\n",
    "            dict['Significance Level'].append(signif)\n",
    "            dict['Test Statistic'].append(output['test_static'])\n",
    "            dict['No. Lags Chosen'].append(output['n_lags'])\n",
    "            \n",
    "            for key, val in r[4].items():\n",
    "                dict['Critical value {}'.format(adjust(key))] = round(val, 3)\n",
    "                \n",
    "            if p_value <= signif:\n",
    "                dict['P-Value'] = '{} => Series is Stationary'.format(p_value)\n",
    "                stationary_var.append(name)\n",
    "            else:\n",
    "                dict['P-Value'] = '{} => Series is Non-Stationary'.format(p_value)\n",
    "            \n",
    "            adfuller_dict[name] = dict\n",
    "        \n",
    "        return adfuller_dict, stationary_var\n",
    "    \n",
    "    def aic_test(self, lag=8):#대부분 lag 범위를 10이상 주지 않는듯\n",
    "        dict_, effective_var = self.adfuller_test()\n",
    "        df_train = self.train[effective_var]\n",
    "        \n",
    "        model = sm.tsa.VAR(df_train)\n",
    "        \n",
    "        dict = {}\n",
    "        for i in range(1, lag+1, 1):\n",
    "            try:\n",
    "                result = model.fit(i)\n",
    "                dict[i] = result.aic\n",
    "            except:\n",
    "                continue\n",
    "        \n",
    "            \n",
    "        sorted_dict = sorted(dict.items(), key = lambda x: x[1])\n",
    "        min_aic = sorted_dict[0]\n",
    "        \n",
    "        min_lag = min_aic[0]\n",
    "        min_lag_aic = min_aic[1]\n",
    "        \n",
    "        return min_lag, min_lag_aic, model, effective_var\n",
    "    \n",
    "    def var_fit(self, model_summary=False):\n",
    "        min_lag, min_lag_aic, model, effective_var = self.aic_test()\n",
    "        model_fitted = model.fit(min_lag)\n",
    "        \n",
    "        if model_summary:\n",
    "            model_fitted.summary()\n",
    "            \n",
    "        return model_fitted, effective_var\n",
    "    \n",
    "    def durbin_watson_test(self):\n",
    "        model_fitted, effective_var = self.var_fit()\n",
    "        df_train = self.train[effective_var]\n",
    "        out = durbin_watson(model_fitted.resid)\n",
    "        \n",
    "        durbin_dict = {}\n",
    "        for col, val in zip(df_train.columns, out):\n",
    "            durbin_dict[col] = round(val,2)\n",
    "        \n",
    "        return durbin_dict, model_fitted, effective_var\n",
    "    \n",
    "    def run(self, nobs=20, displaying=False):\n",
    "        model_fitted, effective_var = self.var_fit()\n",
    "        df_train = self.train[effective_var]\n",
    "        df_test = self.test[effective_var]\n",
    "        \n",
    "        lag_order = model_fitted.k_ar\n",
    "        forecast_input = df_train.values[-lag_order:]\n",
    "        \n",
    "        fc = model_fitted.forecast(y=forecast_input, steps=nobs)\n",
    "        df_forecast = pd.DataFrame(fc, index = df_test.index, columns=effective_var)\n",
    "        \n",
    "#         mae_result = mean_absolute_error(df_test[self.target], df_forecast[self.target])  \n",
    "# => 우리가 알고 싶은 것은 target의 전체 평균의 차이\n",
    "        \n",
    "        \n",
    "        #display\n",
    "        if displaying:\n",
    "            \n",
    "            display(df_forecast)\n",
    "        \n",
    "            fig,axes = plt.subplots(nrows=int(len(effective_var)/2), ncols=2, dpi=150, figsize=(10,10))\n",
    "            for i, (col,ax) in enumerate(zip(effective_var, axes.flatten())):\n",
    "                df_test[col].plot(legend=True, ax=ax);\n",
    "                df_forecast[col].plot(legend=True, ax=ax).autoscale(axis='x', tight=True)\n",
    "\n",
    "                ax.set_title(col + \": Forecast vs Actuals\")\n",
    "                ax.xaxis.set_ticks_position('none')\n",
    "                ax.yaxis.set_ticks_position('none')\n",
    "                ax.spines[\"top\"].set_alpha(0)\n",
    "                ax.tick_params(labelsize=6)\n",
    "\n",
    "            plt.tight_layout()\n",
    "        \n",
    "        return self.test[self.target].mean(), df_forecast[self.target].mean()"
   ]
  },
  {
   "cell_type": "code",
   "execution_count": 14,
   "metadata": {},
   "outputs": [
    {
     "data": {
      "text/plain": [
       "(3.900568181818181, 5.389058107532041)"
      ]
     },
     "execution_count": 14,
     "metadata": {},
     "output_type": "execute_result"
    }
   ],
   "source": [
    "var_2016_LG = Var_automation(df_2016_LG, 'ERA')\n",
    "var_2016_LG.run() "
   ]
  },
  {
   "cell_type": "markdown",
   "metadata": {},
   "source": [
    "### Util"
   ]
  },
  {
   "cell_type": "code",
   "execution_count": 15,
   "metadata": {},
   "outputs": [],
   "source": [
    "from IPython.display import display\n",
    "import itertools\n",
    "from statsmodels.tsa.arima_model import ARIMA\n",
    "from statsmodels.tsa.api import SimpleExpSmoothing, Holt, ExponentialSmoothing\n",
    "\n",
    "import warnings\n",
    "warnings.filterwarnings(action='ignore')"
   ]
  },
  {
   "cell_type": "code",
   "execution_count": 16,
   "metadata": {},
   "outputs": [
    {
     "data": {
      "text/plain": [
       "make_scorer(mae)"
      ]
     },
     "execution_count": 16,
     "metadata": {},
     "output_type": "execute_result"
    }
   ],
   "source": [
    "from sklearn.metrics import make_scorer\n",
    "\n",
    "def mae(prediction, correct):\n",
    "    prediction = np.array(prediction)\n",
    "    correct = np.array(correct)\n",
    "    \n",
    "    difference = correct - prediction\n",
    "    abs_val = abs(difference)\n",
    "    \n",
    "    score = abs_val.mean()\n",
    "    \n",
    "    return score\n",
    "\n",
    "mae_scorer = make_scorer(mae)\n",
    "mae_scorer"
   ]
  },
  {
   "cell_type": "code",
   "execution_count": 17,
   "metadata": {},
   "outputs": [
    {
     "data": {
      "text/plain": [
       "make_scorer(mse)"
      ]
     },
     "execution_count": 17,
     "metadata": {},
     "output_type": "execute_result"
    }
   ],
   "source": [
    "def mse(prediction, correct):\n",
    "    prediction = np.array(prediction)\n",
    "    correct = np.array(correct)\n",
    "    \n",
    "    difference = correct - prediction\n",
    "    sqr_val = difference ** 2\n",
    "    \n",
    "    score = sqr_val.mean()\n",
    "    \n",
    "    return score\n",
    "\n",
    "mse_scorer = make_scorer(mse)\n",
    "mse_scorer"
   ]
  },
  {
   "cell_type": "code",
   "execution_count": 18,
   "metadata": {},
   "outputs": [],
   "source": [
    "def plot_train_test_pred_graph(trainset, testset, pred):\n",
    "    plt.figure(figsize=(15,3))\n",
    "    plt.plot(trainset.ERA, label='train')\n",
    "    plt.plot(testset.ERA, label='test')\n",
    "    plt.plot(testset.index, pred, label='prediction')\n",
    "    plt.legend()\n",
    "    plt.show()"
   ]
  },
  {
   "cell_type": "markdown",
   "metadata": {},
   "source": [
    "### Experiment Class"
   ]
  },
  {
   "cell_type": "markdown",
   "metadata": {},
   "source": [
    "* 해당 실험에서 모델이 제대로 작동하지 않을 경우 해당 dataframe의 연도와 팀명 print 하도록 예외처리 추가"
   ]
  },
  {
   "cell_type": "code",
   "execution_count": 19,
   "metadata": {},
   "outputs": [],
   "source": [
    "class Experiment:\n",
    "    def __init__(self, eda, model, target):\n",
    "        super(Experiment, self).__init__()\n",
    "        \n",
    "        self.eda = eda\n",
    "        self.model = model\n",
    "        self.target = target\n",
    "    \n",
    "    def run(self):\n",
    "        model_key = 'Pred.{}.{}'.format(self.target, self.model.__name__)\n",
    "        test_key = 'Test.{}'.format(self.target)\n",
    "        dict = {'year': [], 'team': [], test_key: [], model_key : []}\n",
    "\n",
    "        #2016~2019, OB, LG, WO, SK, KT, HH, HT, SS, LT, NC\n",
    "        for i in range(4): #4\n",
    "            year = 2016+i\n",
    "            for team in ['OB', 'LG', 'WO', 'SK', 'KT', 'HH', 'HT', 'SS', 'LT', 'NC']:\n",
    "\n",
    "                try:\n",
    "                    df = self.eda(year,team)\n",
    "                    model_obj = self.model(df, self.target)\n",
    "                    model_test, model_pred = model_obj.run()\n",
    "                    dict['year'].append(year)\n",
    "                    dict['team'].append(team)\n",
    "    \n",
    "                    dict[test_key].append(model_test)\n",
    "                    dict[model_key].append(model_pred)\n",
    "                except:\n",
    "                    print(year, team)\n",
    "                    continue\n",
    "                    \n",
    "        \n",
    "        df = pd.DataFrame(dict)\n",
    "        \n",
    "        #모델 오차의 절대값  \n",
    "        difference_column = '{}_abs_difference'.format(self.model.__name__)\n",
    "        df[difference_column] = abs(df[test_key]-df[model_key])\n",
    "        model_difference_mean =  df[difference_column].mean()\n",
    "        model_difference_std = df[difference_column].std()\n",
    "        \n",
    "        print(\"{} 모델의 오차 절대값 평균:\".format(self.model.__name__), model_difference_mean)\n",
    "        print(\"{} 모델의 오차 절대값 표준편차:\".format(self.model.__name__), model_difference_std)\n",
    "        display(df)\n",
    "        \n",
    "        return model_difference_mean, model_difference_std, df"
   ]
  },
  {
   "cell_type": "markdown",
   "metadata": {},
   "source": [
    "### Var Experiment"
   ]
  },
  {
   "cell_type": "code",
   "execution_count": 20,
   "metadata": {},
   "outputs": [
    {
     "name": "stdout",
     "output_type": "stream",
     "text": [
      "Var_automation 모델의 오차 절대값 평균: 0.7163724361730377\n",
      "Var_automation 모델의 오차 절대값 표준편차: 0.5624923732092955\n"
     ]
    },
    {
     "data": {
      "text/html": [
       "<div>\n",
       "<style scoped>\n",
       "    .dataframe tbody tr th:only-of-type {\n",
       "        vertical-align: middle;\n",
       "    }\n",
       "\n",
       "    .dataframe tbody tr th {\n",
       "        vertical-align: top;\n",
       "    }\n",
       "\n",
       "    .dataframe thead th {\n",
       "        text-align: right;\n",
       "    }\n",
       "</style>\n",
       "<table border=\"1\" class=\"dataframe\">\n",
       "  <thead>\n",
       "    <tr style=\"text-align: right;\">\n",
       "      <th></th>\n",
       "      <th>year</th>\n",
       "      <th>team</th>\n",
       "      <th>Test.ERA</th>\n",
       "      <th>Pred.ERA.Var_automation</th>\n",
       "      <th>Var_automation_abs_difference</th>\n",
       "    </tr>\n",
       "  </thead>\n",
       "  <tbody>\n",
       "    <tr>\n",
       "      <th>0</th>\n",
       "      <td>2016</td>\n",
       "      <td>OB</td>\n",
       "      <td>4.579808</td>\n",
       "      <td>4.495953</td>\n",
       "      <td>0.083854</td>\n",
       "    </tr>\n",
       "    <tr>\n",
       "      <th>1</th>\n",
       "      <td>2016</td>\n",
       "      <td>LG</td>\n",
       "      <td>3.900568</td>\n",
       "      <td>5.389058</td>\n",
       "      <td>1.488490</td>\n",
       "    </tr>\n",
       "    <tr>\n",
       "      <th>2</th>\n",
       "      <td>2016</td>\n",
       "      <td>WO</td>\n",
       "      <td>5.319519</td>\n",
       "      <td>5.130204</td>\n",
       "      <td>0.189315</td>\n",
       "    </tr>\n",
       "    <tr>\n",
       "      <th>3</th>\n",
       "      <td>2016</td>\n",
       "      <td>SK</td>\n",
       "      <td>4.903256</td>\n",
       "      <td>5.122468</td>\n",
       "      <td>0.219212</td>\n",
       "    </tr>\n",
       "    <tr>\n",
       "      <th>4</th>\n",
       "      <td>2016</td>\n",
       "      <td>KT</td>\n",
       "      <td>6.481250</td>\n",
       "      <td>5.918799</td>\n",
       "      <td>0.562451</td>\n",
       "    </tr>\n",
       "    <tr>\n",
       "      <th>5</th>\n",
       "      <td>2016</td>\n",
       "      <td>HH</td>\n",
       "      <td>5.431250</td>\n",
       "      <td>5.967527</td>\n",
       "      <td>0.536277</td>\n",
       "    </tr>\n",
       "    <tr>\n",
       "      <th>6</th>\n",
       "      <td>2016</td>\n",
       "      <td>HT</td>\n",
       "      <td>4.045259</td>\n",
       "      <td>5.349022</td>\n",
       "      <td>1.303763</td>\n",
       "    </tr>\n",
       "    <tr>\n",
       "      <th>7</th>\n",
       "      <td>2016</td>\n",
       "      <td>SS</td>\n",
       "      <td>5.339062</td>\n",
       "      <td>5.897191</td>\n",
       "      <td>0.558128</td>\n",
       "    </tr>\n",
       "    <tr>\n",
       "      <th>8</th>\n",
       "      <td>2016</td>\n",
       "      <td>LT</td>\n",
       "      <td>5.870536</td>\n",
       "      <td>5.846636</td>\n",
       "      <td>0.023900</td>\n",
       "    </tr>\n",
       "    <tr>\n",
       "      <th>9</th>\n",
       "      <td>2016</td>\n",
       "      <td>NC</td>\n",
       "      <td>3.795000</td>\n",
       "      <td>4.643140</td>\n",
       "      <td>0.848140</td>\n",
       "    </tr>\n",
       "    <tr>\n",
       "      <th>10</th>\n",
       "      <td>2017</td>\n",
       "      <td>OB</td>\n",
       "      <td>4.295000</td>\n",
       "      <td>4.508986</td>\n",
       "      <td>0.213986</td>\n",
       "    </tr>\n",
       "    <tr>\n",
       "      <th>11</th>\n",
       "      <td>2017</td>\n",
       "      <td>LG</td>\n",
       "      <td>5.132742</td>\n",
       "      <td>4.343745</td>\n",
       "      <td>0.788997</td>\n",
       "    </tr>\n",
       "    <tr>\n",
       "      <th>12</th>\n",
       "      <td>2017</td>\n",
       "      <td>WO</td>\n",
       "      <td>6.491214</td>\n",
       "      <td>4.949152</td>\n",
       "      <td>1.542062</td>\n",
       "    </tr>\n",
       "    <tr>\n",
       "      <th>13</th>\n",
       "      <td>2017</td>\n",
       "      <td>SK</td>\n",
       "      <td>4.912500</td>\n",
       "      <td>5.293139</td>\n",
       "      <td>0.380639</td>\n",
       "    </tr>\n",
       "    <tr>\n",
       "      <th>14</th>\n",
       "      <td>2017</td>\n",
       "      <td>KT</td>\n",
       "      <td>5.773636</td>\n",
       "      <td>5.871406</td>\n",
       "      <td>0.097770</td>\n",
       "    </tr>\n",
       "    <tr>\n",
       "      <th>15</th>\n",
       "      <td>2017</td>\n",
       "      <td>HH</td>\n",
       "      <td>5.058750</td>\n",
       "      <td>5.491134</td>\n",
       "      <td>0.432384</td>\n",
       "    </tr>\n",
       "    <tr>\n",
       "      <th>16</th>\n",
       "      <td>2017</td>\n",
       "      <td>HT</td>\n",
       "      <td>4.774738</td>\n",
       "      <td>4.792474</td>\n",
       "      <td>0.017737</td>\n",
       "    </tr>\n",
       "    <tr>\n",
       "      <th>17</th>\n",
       "      <td>2017</td>\n",
       "      <td>SS</td>\n",
       "      <td>6.264443</td>\n",
       "      <td>5.857928</td>\n",
       "      <td>0.406515</td>\n",
       "    </tr>\n",
       "    <tr>\n",
       "      <th>18</th>\n",
       "      <td>2017</td>\n",
       "      <td>LT</td>\n",
       "      <td>3.775000</td>\n",
       "      <td>4.749441</td>\n",
       "      <td>0.974441</td>\n",
       "    </tr>\n",
       "    <tr>\n",
       "      <th>19</th>\n",
       "      <td>2017</td>\n",
       "      <td>NC</td>\n",
       "      <td>6.168750</td>\n",
       "      <td>4.527762</td>\n",
       "      <td>1.640988</td>\n",
       "    </tr>\n",
       "    <tr>\n",
       "      <th>20</th>\n",
       "      <td>2018</td>\n",
       "      <td>OB</td>\n",
       "      <td>4.518929</td>\n",
       "      <td>5.087257</td>\n",
       "      <td>0.568328</td>\n",
       "    </tr>\n",
       "    <tr>\n",
       "      <th>21</th>\n",
       "      <td>2018</td>\n",
       "      <td>LG</td>\n",
       "      <td>5.786250</td>\n",
       "      <td>5.373841</td>\n",
       "      <td>0.412409</td>\n",
       "    </tr>\n",
       "    <tr>\n",
       "      <th>22</th>\n",
       "      <td>2018</td>\n",
       "      <td>WO</td>\n",
       "      <td>5.420357</td>\n",
       "      <td>5.156073</td>\n",
       "      <td>0.264284</td>\n",
       "    </tr>\n",
       "    <tr>\n",
       "      <th>23</th>\n",
       "      <td>2018</td>\n",
       "      <td>SK</td>\n",
       "      <td>5.485000</td>\n",
       "      <td>5.112244</td>\n",
       "      <td>0.372756</td>\n",
       "    </tr>\n",
       "    <tr>\n",
       "      <th>24</th>\n",
       "      <td>2018</td>\n",
       "      <td>KT</td>\n",
       "      <td>5.672759</td>\n",
       "      <td>4.787560</td>\n",
       "      <td>0.885199</td>\n",
       "    </tr>\n",
       "    <tr>\n",
       "      <th>25</th>\n",
       "      <td>2018</td>\n",
       "      <td>HH</td>\n",
       "      <td>5.848750</td>\n",
       "      <td>4.838361</td>\n",
       "      <td>1.010389</td>\n",
       "    </tr>\n",
       "    <tr>\n",
       "      <th>26</th>\n",
       "      <td>2018</td>\n",
       "      <td>HT</td>\n",
       "      <td>5.712188</td>\n",
       "      <td>5.790868</td>\n",
       "      <td>0.078680</td>\n",
       "    </tr>\n",
       "    <tr>\n",
       "      <th>27</th>\n",
       "      <td>2018</td>\n",
       "      <td>SS</td>\n",
       "      <td>4.956250</td>\n",
       "      <td>5.348073</td>\n",
       "      <td>0.391823</td>\n",
       "    </tr>\n",
       "    <tr>\n",
       "      <th>28</th>\n",
       "      <td>2018</td>\n",
       "      <td>LT</td>\n",
       "      <td>4.784773</td>\n",
       "      <td>5.574728</td>\n",
       "      <td>0.789955</td>\n",
       "    </tr>\n",
       "    <tr>\n",
       "      <th>29</th>\n",
       "      <td>2018</td>\n",
       "      <td>NC</td>\n",
       "      <td>6.713315</td>\n",
       "      <td>5.460398</td>\n",
       "      <td>1.252917</td>\n",
       "    </tr>\n",
       "    <tr>\n",
       "      <th>30</th>\n",
       "      <td>2019</td>\n",
       "      <td>OB</td>\n",
       "      <td>3.435500</td>\n",
       "      <td>3.637452</td>\n",
       "      <td>0.201952</td>\n",
       "    </tr>\n",
       "    <tr>\n",
       "      <th>31</th>\n",
       "      <td>2019</td>\n",
       "      <td>LG</td>\n",
       "      <td>3.022000</td>\n",
       "      <td>4.166427</td>\n",
       "      <td>1.144427</td>\n",
       "    </tr>\n",
       "    <tr>\n",
       "      <th>32</th>\n",
       "      <td>2019</td>\n",
       "      <td>WO</td>\n",
       "      <td>1.925000</td>\n",
       "      <td>4.044492</td>\n",
       "      <td>2.119492</td>\n",
       "    </tr>\n",
       "    <tr>\n",
       "      <th>33</th>\n",
       "      <td>2019</td>\n",
       "      <td>SK</td>\n",
       "      <td>3.818750</td>\n",
       "      <td>3.498963</td>\n",
       "      <td>0.319787</td>\n",
       "    </tr>\n",
       "    <tr>\n",
       "      <th>34</th>\n",
       "      <td>2019</td>\n",
       "      <td>KT</td>\n",
       "      <td>3.318750</td>\n",
       "      <td>4.349446</td>\n",
       "      <td>1.030696</td>\n",
       "    </tr>\n",
       "    <tr>\n",
       "      <th>35</th>\n",
       "      <td>2019</td>\n",
       "      <td>HH</td>\n",
       "      <td>3.267857</td>\n",
       "      <td>5.167564</td>\n",
       "      <td>1.899706</td>\n",
       "    </tr>\n",
       "    <tr>\n",
       "      <th>36</th>\n",
       "      <td>2019</td>\n",
       "      <td>HT</td>\n",
       "      <td>4.100000</td>\n",
       "      <td>4.875821</td>\n",
       "      <td>0.775821</td>\n",
       "    </tr>\n",
       "    <tr>\n",
       "      <th>37</th>\n",
       "      <td>2019</td>\n",
       "      <td>SS</td>\n",
       "      <td>4.695000</td>\n",
       "      <td>4.674248</td>\n",
       "      <td>0.020752</td>\n",
       "    </tr>\n",
       "    <tr>\n",
       "      <th>38</th>\n",
       "      <td>2019</td>\n",
       "      <td>LT</td>\n",
       "      <td>3.606250</td>\n",
       "      <td>5.090743</td>\n",
       "      <td>1.484493</td>\n",
       "    </tr>\n",
       "    <tr>\n",
       "      <th>39</th>\n",
       "      <td>2019</td>\n",
       "      <td>NC</td>\n",
       "      <td>2.976250</td>\n",
       "      <td>4.298230</td>\n",
       "      <td>1.321980</td>\n",
       "    </tr>\n",
       "  </tbody>\n",
       "</table>\n",
       "</div>"
      ],
      "text/plain": [
       "    year team  Test.ERA  Pred.ERA.Var_automation  \\\n",
       "0   2016   OB  4.579808                 4.495953   \n",
       "1   2016   LG  3.900568                 5.389058   \n",
       "2   2016   WO  5.319519                 5.130204   \n",
       "3   2016   SK  4.903256                 5.122468   \n",
       "4   2016   KT  6.481250                 5.918799   \n",
       "5   2016   HH  5.431250                 5.967527   \n",
       "6   2016   HT  4.045259                 5.349022   \n",
       "7   2016   SS  5.339062                 5.897191   \n",
       "8   2016   LT  5.870536                 5.846636   \n",
       "9   2016   NC  3.795000                 4.643140   \n",
       "10  2017   OB  4.295000                 4.508986   \n",
       "11  2017   LG  5.132742                 4.343745   \n",
       "12  2017   WO  6.491214                 4.949152   \n",
       "13  2017   SK  4.912500                 5.293139   \n",
       "14  2017   KT  5.773636                 5.871406   \n",
       "15  2017   HH  5.058750                 5.491134   \n",
       "16  2017   HT  4.774738                 4.792474   \n",
       "17  2017   SS  6.264443                 5.857928   \n",
       "18  2017   LT  3.775000                 4.749441   \n",
       "19  2017   NC  6.168750                 4.527762   \n",
       "20  2018   OB  4.518929                 5.087257   \n",
       "21  2018   LG  5.786250                 5.373841   \n",
       "22  2018   WO  5.420357                 5.156073   \n",
       "23  2018   SK  5.485000                 5.112244   \n",
       "24  2018   KT  5.672759                 4.787560   \n",
       "25  2018   HH  5.848750                 4.838361   \n",
       "26  2018   HT  5.712188                 5.790868   \n",
       "27  2018   SS  4.956250                 5.348073   \n",
       "28  2018   LT  4.784773                 5.574728   \n",
       "29  2018   NC  6.713315                 5.460398   \n",
       "30  2019   OB  3.435500                 3.637452   \n",
       "31  2019   LG  3.022000                 4.166427   \n",
       "32  2019   WO  1.925000                 4.044492   \n",
       "33  2019   SK  3.818750                 3.498963   \n",
       "34  2019   KT  3.318750                 4.349446   \n",
       "35  2019   HH  3.267857                 5.167564   \n",
       "36  2019   HT  4.100000                 4.875821   \n",
       "37  2019   SS  4.695000                 4.674248   \n",
       "38  2019   LT  3.606250                 5.090743   \n",
       "39  2019   NC  2.976250                 4.298230   \n",
       "\n",
       "    Var_automation_abs_difference  \n",
       "0                        0.083854  \n",
       "1                        1.488490  \n",
       "2                        0.189315  \n",
       "3                        0.219212  \n",
       "4                        0.562451  \n",
       "5                        0.536277  \n",
       "6                        1.303763  \n",
       "7                        0.558128  \n",
       "8                        0.023900  \n",
       "9                        0.848140  \n",
       "10                       0.213986  \n",
       "11                       0.788997  \n",
       "12                       1.542062  \n",
       "13                       0.380639  \n",
       "14                       0.097770  \n",
       "15                       0.432384  \n",
       "16                       0.017737  \n",
       "17                       0.406515  \n",
       "18                       0.974441  \n",
       "19                       1.640988  \n",
       "20                       0.568328  \n",
       "21                       0.412409  \n",
       "22                       0.264284  \n",
       "23                       0.372756  \n",
       "24                       0.885199  \n",
       "25                       1.010389  \n",
       "26                       0.078680  \n",
       "27                       0.391823  \n",
       "28                       0.789955  \n",
       "29                       1.252917  \n",
       "30                       0.201952  \n",
       "31                       1.144427  \n",
       "32                       2.119492  \n",
       "33                       0.319787  \n",
       "34                       1.030696  \n",
       "35                       1.899706  \n",
       "36                       0.775821  \n",
       "37                       0.020752  \n",
       "38                       1.484493  \n",
       "39                       1.321980  "
      ]
     },
     "metadata": {},
     "output_type": "display_data"
    },
    {
     "data": {
      "text/plain": [
       "(0.7163724361730377,\n",
       " 0.5624923732092955,\n",
       "     year team  Test.ERA  Pred.ERA.Var_automation  \\\n",
       " 0   2016   OB  4.579808                 4.495953   \n",
       " 1   2016   LG  3.900568                 5.389058   \n",
       " 2   2016   WO  5.319519                 5.130204   \n",
       " 3   2016   SK  4.903256                 5.122468   \n",
       " 4   2016   KT  6.481250                 5.918799   \n",
       " 5   2016   HH  5.431250                 5.967527   \n",
       " 6   2016   HT  4.045259                 5.349022   \n",
       " 7   2016   SS  5.339062                 5.897191   \n",
       " 8   2016   LT  5.870536                 5.846636   \n",
       " 9   2016   NC  3.795000                 4.643140   \n",
       " 10  2017   OB  4.295000                 4.508986   \n",
       " 11  2017   LG  5.132742                 4.343745   \n",
       " 12  2017   WO  6.491214                 4.949152   \n",
       " 13  2017   SK  4.912500                 5.293139   \n",
       " 14  2017   KT  5.773636                 5.871406   \n",
       " 15  2017   HH  5.058750                 5.491134   \n",
       " 16  2017   HT  4.774738                 4.792474   \n",
       " 17  2017   SS  6.264443                 5.857928   \n",
       " 18  2017   LT  3.775000                 4.749441   \n",
       " 19  2017   NC  6.168750                 4.527762   \n",
       " 20  2018   OB  4.518929                 5.087257   \n",
       " 21  2018   LG  5.786250                 5.373841   \n",
       " 22  2018   WO  5.420357                 5.156073   \n",
       " 23  2018   SK  5.485000                 5.112244   \n",
       " 24  2018   KT  5.672759                 4.787560   \n",
       " 25  2018   HH  5.848750                 4.838361   \n",
       " 26  2018   HT  5.712188                 5.790868   \n",
       " 27  2018   SS  4.956250                 5.348073   \n",
       " 28  2018   LT  4.784773                 5.574728   \n",
       " 29  2018   NC  6.713315                 5.460398   \n",
       " 30  2019   OB  3.435500                 3.637452   \n",
       " 31  2019   LG  3.022000                 4.166427   \n",
       " 32  2019   WO  1.925000                 4.044492   \n",
       " 33  2019   SK  3.818750                 3.498963   \n",
       " 34  2019   KT  3.318750                 4.349446   \n",
       " 35  2019   HH  3.267857                 5.167564   \n",
       " 36  2019   HT  4.100000                 4.875821   \n",
       " 37  2019   SS  4.695000                 4.674248   \n",
       " 38  2019   LT  3.606250                 5.090743   \n",
       " 39  2019   NC  2.976250                 4.298230   \n",
       " \n",
       "     Var_automation_abs_difference  \n",
       " 0                        0.083854  \n",
       " 1                        1.488490  \n",
       " 2                        0.189315  \n",
       " 3                        0.219212  \n",
       " 4                        0.562451  \n",
       " 5                        0.536277  \n",
       " 6                        1.303763  \n",
       " 7                        0.558128  \n",
       " 8                        0.023900  \n",
       " 9                        0.848140  \n",
       " 10                       0.213986  \n",
       " 11                       0.788997  \n",
       " 12                       1.542062  \n",
       " 13                       0.380639  \n",
       " 14                       0.097770  \n",
       " 15                       0.432384  \n",
       " 16                       0.017737  \n",
       " 17                       0.406515  \n",
       " 18                       0.974441  \n",
       " 19                       1.640988  \n",
       " 20                       0.568328  \n",
       " 21                       0.412409  \n",
       " 22                       0.264284  \n",
       " 23                       0.372756  \n",
       " 24                       0.885199  \n",
       " 25                       1.010389  \n",
       " 26                       0.078680  \n",
       " 27                       0.391823  \n",
       " 28                       0.789955  \n",
       " 29                       1.252917  \n",
       " 30                       0.201952  \n",
       " 31                       1.144427  \n",
       " 32                       2.119492  \n",
       " 33                       0.319787  \n",
       " 34                       1.030696  \n",
       " 35                       1.899706  \n",
       " 36                       0.775821  \n",
       " 37                       0.020752  \n",
       " 38                       1.484493  \n",
       " 39                       1.321980  )"
      ]
     },
     "execution_count": 20,
     "metadata": {},
     "output_type": "execute_result"
    }
   ],
   "source": [
    "experiment = Experiment(team_pitcher_eda1, Var_automation, 'ERA')\n",
    "experiment.run()"
   ]
  },
  {
   "cell_type": "code",
   "execution_count": null,
   "metadata": {},
   "outputs": [],
   "source": []
  }
 ],
 "metadata": {
  "kernelspec": {
   "display_name": "Python 3",
   "language": "python",
   "name": "python3"
  },
  "language_info": {
   "codemirror_mode": {
    "name": "ipython",
    "version": 3
   },
   "file_extension": ".py",
   "mimetype": "text/x-python",
   "name": "python",
   "nbconvert_exporter": "python",
   "pygments_lexer": "ipython3",
   "version": "3.7.4"
  }
 },
 "nbformat": 4,
 "nbformat_minor": 4
}
