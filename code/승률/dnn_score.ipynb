{
 "cells": [
  {
   "cell_type": "code",
   "execution_count": 1,
   "metadata": {},
   "outputs": [
    {
     "name": "stderr",
     "output_type": "stream",
     "text": [
      "Using TensorFlow backend.\n"
     ]
    }
   ],
   "source": [
    "import numpy as np\n",
    "import pandas as pd\n",
    "import warnings\n",
    "warnings.filterwarnings(action='ignore')\n",
    "from sklearn.preprocessing import MinMaxScaler\n",
    "from keras.models import Sequential\n",
    "from keras.layers import Dense, Activation, LSTM,Dropout,Bidirectional\n",
    "from keras.callbacks import EarlyStopping"
   ]
  },
  {
   "cell_type": "code",
   "execution_count": 2,
   "metadata": {},
   "outputs": [],
   "source": [
    "PATH ='C:/Users/ckdrj/Google 드라이브/baseball/data/total/'\n",
    "#PATH = 'C:/Users/LIM CHANG GEON/Google 드라이브/baseball/data/total'\n",
    "hiter16 = pd.read_csv(PATH+\"2020빅콘테스트_스포츠투아이_제공데이터_팀타자_2016.csv\")[[\"GDAY_DS\",\"T_ID\",\"HIT\",\"AB\"]]  #\"T_ID\",\"HEADER_NO\"\n",
    "pitcher16 = pd.read_csv(PATH+\"2020빅콘테스트_스포츠투아이_제공데이터_팀투수_2016.csv\")[[\"GDAY_DS\",\"T_ID\",\"ER\",\"INN2\",\"WLS\"]]"
   ]
  },
  {
   "cell_type": "code",
   "execution_count": 3,
   "metadata": {},
   "outputs": [],
   "source": [
    "hiter17 = pd.read_csv(PATH+\"2020빅콘테스트_스포츠투아이_제공데이터_팀타자_2017.csv\")[[\"GDAY_DS\",\"T_ID\",\"HIT\",\"AB\"]]\n",
    "pitcher17 = pd.read_csv(PATH+\"2020빅콘테스트_스포츠투아이_제공데이터_팀투수_2017.csv\")[[\"GDAY_DS\",\"T_ID\",\"ER\",\"INN2\",\"WLS\"]]"
   ]
  },
  {
   "cell_type": "code",
   "execution_count": 4,
   "metadata": {},
   "outputs": [],
   "source": [
    "hiter18 = pd.read_csv(PATH+\"2020빅콘테스트_스포츠투아이_제공데이터_팀타자_2018.csv\")[[\"GDAY_DS\",\"T_ID\",\"HIT\",\"AB\"]]\n",
    "pitcher18 = pd.read_csv(PATH+\"2020빅콘테스트_스포츠투아이_제공데이터_팀투수_2018.csv\")[[\"GDAY_DS\",\"T_ID\",\"ER\",\"INN2\",\"WLS\"]]"
   ]
  },
  {
   "cell_type": "code",
   "execution_count": 5,
   "metadata": {},
   "outputs": [],
   "source": [
    "hiter19 = pd.read_csv(PATH+\"2020빅콘테스트_스포츠투아이_제공데이터_팀타자_2019.csv\")[[\"GDAY_DS\",\"T_ID\",\"HIT\",\"AB\"]]\n",
    "pitcher19 = pd.read_csv(PATH+\"2020빅콘테스트_스포츠투아이_제공데이터_팀투수_2019.csv\")[[\"GDAY_DS\",\"T_ID\",\"ER\",\"INN2\",\"WLS\"]]"
   ]
  },
  {
   "cell_type": "code",
   "execution_count": 6,
   "metadata": {},
   "outputs": [],
   "source": [
    "hiter20 = pd.read_csv(PATH+\"2020빅콘테스트_스포츠투아이_제공데이터_팀타자_2020.csv\")[[\"GDAY_DS\",\"T_ID\",\"HIT\",\"AB\"]]\n",
    "pitcher20 = pd.read_csv(PATH+\"2020빅콘테스트_스포츠투아이_제공데이터_팀투수_2020.csv\")[[\"GDAY_DS\",\"T_ID\",\"ER\",\"INN2\",\"WLS\"]]"
   ]
  },
  {
   "cell_type": "code",
   "execution_count": 7,
   "metadata": {},
   "outputs": [
    {
     "data": {
      "text/html": [
       "<div>\n",
       "<style scoped>\n",
       "    .dataframe tbody tr th:only-of-type {\n",
       "        vertical-align: middle;\n",
       "    }\n",
       "\n",
       "    .dataframe tbody tr th {\n",
       "        vertical-align: top;\n",
       "    }\n",
       "\n",
       "    .dataframe thead th {\n",
       "        text-align: right;\n",
       "    }\n",
       "</style>\n",
       "<table border=\"1\" class=\"dataframe\">\n",
       "  <thead>\n",
       "    <tr style=\"text-align: right;\">\n",
       "      <th></th>\n",
       "      <th>T_ID</th>\n",
       "      <th>AVG</th>\n",
       "      <th>y_m</th>\n",
       "    </tr>\n",
       "  </thead>\n",
       "  <tbody>\n",
       "    <tr>\n",
       "      <th>0</th>\n",
       "      <td>LG</td>\n",
       "      <td>0.214286</td>\n",
       "      <td>1604</td>\n",
       "    </tr>\n",
       "    <tr>\n",
       "      <th>1</th>\n",
       "      <td>HH</td>\n",
       "      <td>0.282609</td>\n",
       "      <td>1604</td>\n",
       "    </tr>\n",
       "    <tr>\n",
       "      <th>2</th>\n",
       "      <td>NC</td>\n",
       "      <td>0.300000</td>\n",
       "      <td>1604</td>\n",
       "    </tr>\n",
       "    <tr>\n",
       "      <th>3</th>\n",
       "      <td>HT</td>\n",
       "      <td>0.235294</td>\n",
       "      <td>1604</td>\n",
       "    </tr>\n",
       "    <tr>\n",
       "      <th>4</th>\n",
       "      <td>SK</td>\n",
       "      <td>0.277778</td>\n",
       "      <td>1604</td>\n",
       "    </tr>\n",
       "  </tbody>\n",
       "</table>\n",
       "</div>"
      ],
      "text/plain": [
       "  T_ID       AVG   y_m\n",
       "0   LG  0.214286  1604\n",
       "1   HH  0.282609  1604\n",
       "2   NC  0.300000  1604\n",
       "3   HT  0.235294  1604\n",
       "4   SK  0.277778  1604"
      ]
     },
     "execution_count": 7,
     "metadata": {},
     "output_type": "execute_result"
    }
   ],
   "source": [
    "hiter = pd.concat([hiter16,hiter17,hiter18,hiter19,hiter20])\n",
    "del hiter16,hiter17,hiter18,hiter19,hiter20\n",
    "hiter['AVG']= hiter['HIT']/hiter['AB']\n",
    "hiter[\"y_m\"]=hiter.GDAY_DS.astype(str).str[2:6]\n",
    "del hiter['HIT'], hiter['AB'], hiter[\"GDAY_DS\"]\n",
    "hiter.head()"
   ]
  },
  {
   "cell_type": "code",
   "execution_count": 8,
   "metadata": {},
   "outputs": [
    {
     "data": {
      "text/html": [
       "<div>\n",
       "<style scoped>\n",
       "    .dataframe tbody tr th:only-of-type {\n",
       "        vertical-align: middle;\n",
       "    }\n",
       "\n",
       "    .dataframe tbody tr th {\n",
       "        vertical-align: top;\n",
       "    }\n",
       "\n",
       "    .dataframe thead th {\n",
       "        text-align: right;\n",
       "    }\n",
       "</style>\n",
       "<table border=\"1\" class=\"dataframe\">\n",
       "  <thead>\n",
       "    <tr style=\"text-align: right;\">\n",
       "      <th></th>\n",
       "      <th>T_ID</th>\n",
       "      <th>WLS</th>\n",
       "      <th>ERA</th>\n",
       "      <th>y_m</th>\n",
       "    </tr>\n",
       "  </thead>\n",
       "  <tbody>\n",
       "    <tr>\n",
       "      <th>0</th>\n",
       "      <td>LG</td>\n",
       "      <td>1.0</td>\n",
       "      <td>3.000000</td>\n",
       "      <td>1604</td>\n",
       "    </tr>\n",
       "    <tr>\n",
       "      <th>1</th>\n",
       "      <td>HH</td>\n",
       "      <td>0.0</td>\n",
       "      <td>3.176471</td>\n",
       "      <td>1604</td>\n",
       "    </tr>\n",
       "    <tr>\n",
       "      <th>2</th>\n",
       "      <td>NC</td>\n",
       "      <td>1.0</td>\n",
       "      <td>4.000000</td>\n",
       "      <td>1604</td>\n",
       "    </tr>\n",
       "    <tr>\n",
       "      <th>3</th>\n",
       "      <td>HT</td>\n",
       "      <td>0.0</td>\n",
       "      <td>5.625000</td>\n",
       "      <td>1604</td>\n",
       "    </tr>\n",
       "    <tr>\n",
       "      <th>4</th>\n",
       "      <td>SK</td>\n",
       "      <td>0.0</td>\n",
       "      <td>8.000000</td>\n",
       "      <td>1604</td>\n",
       "    </tr>\n",
       "  </tbody>\n",
       "</table>\n",
       "</div>"
      ],
      "text/plain": [
       "  T_ID  WLS       ERA   y_m\n",
       "0   LG  1.0  3.000000  1604\n",
       "1   HH  0.0  3.176471  1604\n",
       "2   NC  1.0  4.000000  1604\n",
       "3   HT  0.0  5.625000  1604\n",
       "4   SK  0.0  8.000000  1604"
      ]
     },
     "execution_count": 8,
     "metadata": {},
     "output_type": "execute_result"
    }
   ],
   "source": [
    "pitcher = pd.concat([pitcher16,pitcher17,pitcher18,pitcher19,pitcher20])\n",
    "del pitcher16,pitcher17,pitcher18,pitcher19,pitcher20\n",
    "pitcher[\"ERA\"] = 27*pitcher.ER/pitcher.INN2\n",
    "pitcher.WLS = pitcher.WLS.map({'W':1,'D':0.5,\"L\":0})\n",
    "pitcher[\"y_m\"]=pitcher.GDAY_DS.astype(str).str[2:6]\n",
    "del pitcher[\"ER\"], pitcher[\"INN2\"],pitcher[\"GDAY_DS\"]\n",
    "pitcher.head()"
   ]
  },
  {
   "cell_type": "code",
   "execution_count": 9,
   "metadata": {},
   "outputs": [
    {
     "name": "stdout",
     "output_type": "stream",
     "text": [
      "(34, 5)\n",
      "(34, 5)\n",
      "(34, 5)\n",
      "(33, 5)\n",
      "(33, 5)\n",
      "(33, 5)\n",
      "(34, 5)\n",
      "(33, 5)\n",
      "(33, 5)\n",
      "(33, 5)\n"
     ]
    }
   ],
   "source": [
    "team_list = ['WO','OB','NC','SK','LG','KT','LT','HT','SS','HH']\n",
    "df_mean=pd.DataFrame()\n",
    "code=0\n",
    "for team in team_list:\n",
    "    code +=0.1\n",
    "    pitcher_team= pitcher[pitcher.T_ID==team]\n",
    "    hiter_team=hiter[hiter.T_ID==team]\n",
    "    pitcher_mean = pitcher_team.groupby(['y_m']).mean()\n",
    "    pitcher_mean[\"count\"] =pitcher_team.groupby(['y_m']).count().T_ID\n",
    "    hiter_mean = hiter_team.groupby(['y_m']).mean()\n",
    "    df = pd.concat([pitcher_mean, hiter_mean], axis=1)\n",
    "    df[\"team_code\"] = code\n",
    "    print(df.shape)\n",
    "    df_mean=pd.concat([df_mean,df])"
   ]
  },
  {
   "cell_type": "code",
   "execution_count": null,
   "metadata": {},
   "outputs": [],
   "source": []
  },
  {
   "cell_type": "code",
   "execution_count": 10,
   "metadata": {},
   "outputs": [],
   "source": [
    "df_mean.reset_index(inplace=True, drop=True)"
   ]
  },
  {
   "cell_type": "code",
   "execution_count": 11,
   "metadata": {},
   "outputs": [],
   "source": [
    "df_mean = df_mean[df_mean[\"count\"] > 5]\n",
    "df_mean.reset_index(inplace=True, drop=True)"
   ]
  },
  {
   "cell_type": "code",
   "execution_count": 12,
   "metadata": {},
   "outputs": [],
   "source": [
    "del df_mean[\"count\"]"
   ]
  },
  {
   "cell_type": "code",
   "execution_count": 13,
   "metadata": {},
   "outputs": [],
   "source": [
    "from sklearn.preprocessing import StandardScaler,MinMaxScaler\n",
    "sc_era = MinMaxScaler()\n",
    "sc_avg = MinMaxScaler()\n",
    "df_mean[\"AVG\"]=sc_avg.fit_transform(df_mean[[\"AVG\"]])\n",
    "df_mean[\"ERA\"]=sc_era.fit_transform(df_mean[[\"ERA\"]])"
   ]
  },
  {
   "cell_type": "code",
   "execution_count": 14,
   "metadata": {},
   "outputs": [
    {
     "data": {
      "text/html": [
       "<div>\n",
       "<style scoped>\n",
       "    .dataframe tbody tr th:only-of-type {\n",
       "        vertical-align: middle;\n",
       "    }\n",
       "\n",
       "    .dataframe tbody tr th {\n",
       "        vertical-align: top;\n",
       "    }\n",
       "\n",
       "    .dataframe thead th {\n",
       "        text-align: right;\n",
       "    }\n",
       "</style>\n",
       "<table border=\"1\" class=\"dataframe\">\n",
       "  <thead>\n",
       "    <tr style=\"text-align: right;\">\n",
       "      <th></th>\n",
       "      <th>WLS</th>\n",
       "      <th>ERA</th>\n",
       "      <th>AVG</th>\n",
       "      <th>team_code</th>\n",
       "    </tr>\n",
       "  </thead>\n",
       "  <tbody>\n",
       "    <tr>\n",
       "      <th>0</th>\n",
       "      <td>0.479167</td>\n",
       "      <td>0.307739</td>\n",
       "      <td>0.410674</td>\n",
       "      <td>0.1</td>\n",
       "    </tr>\n",
       "    <tr>\n",
       "      <th>1</th>\n",
       "      <td>0.560000</td>\n",
       "      <td>0.397596</td>\n",
       "      <td>0.409027</td>\n",
       "      <td>0.1</td>\n",
       "    </tr>\n",
       "    <tr>\n",
       "      <th>2</th>\n",
       "      <td>0.560000</td>\n",
       "      <td>0.584479</td>\n",
       "      <td>0.562168</td>\n",
       "      <td>0.1</td>\n",
       "    </tr>\n",
       "    <tr>\n",
       "      <th>3</th>\n",
       "      <td>0.666667</td>\n",
       "      <td>0.467362</td>\n",
       "      <td>0.634089</td>\n",
       "      <td>0.1</td>\n",
       "    </tr>\n",
       "    <tr>\n",
       "      <th>4</th>\n",
       "      <td>0.565217</td>\n",
       "      <td>0.390089</td>\n",
       "      <td>0.518983</td>\n",
       "      <td>0.1</td>\n",
       "    </tr>\n",
       "  </tbody>\n",
       "</table>\n",
       "</div>"
      ],
      "text/plain": [
       "        WLS       ERA       AVG  team_code\n",
       "0  0.479167  0.307739  0.410674        0.1\n",
       "1  0.560000  0.397596  0.409027        0.1\n",
       "2  0.560000  0.584479  0.562168        0.1\n",
       "3  0.666667  0.467362  0.634089        0.1\n",
       "4  0.565217  0.390089  0.518983        0.1"
      ]
     },
     "execution_count": 14,
     "metadata": {},
     "output_type": "execute_result"
    }
   ],
   "source": [
    "df_mean.head()"
   ]
  },
  {
   "cell_type": "code",
   "execution_count": 15,
   "metadata": {},
   "outputs": [],
   "source": [
    "from keras.models import Sequential\n",
    "from keras.layers import Dense, Dropout\n",
    "from keras.callbacks import EarlyStopping"
   ]
  },
  {
   "cell_type": "code",
   "execution_count": 16,
   "metadata": {},
   "outputs": [
    {
     "name": "stderr",
     "output_type": "stream",
     "text": [
      "WARNING: Logging before flag parsing goes to stderr.\n",
      "W0920 01:59:02.221695  1868 deprecation_wrapper.py:119] From F:\\sda\\envs\\dlstudy\\lib\\site-packages\\keras\\backend\\tensorflow_backend.py:74: The name tf.get_default_graph is deprecated. Please use tf.compat.v1.get_default_graph instead.\n",
      "\n",
      "W0920 01:59:02.273658  1868 deprecation_wrapper.py:119] From F:\\sda\\envs\\dlstudy\\lib\\site-packages\\keras\\backend\\tensorflow_backend.py:517: The name tf.placeholder is deprecated. Please use tf.compat.v1.placeholder instead.\n",
      "\n",
      "W0920 01:59:02.277660  1868 deprecation_wrapper.py:119] From F:\\sda\\envs\\dlstudy\\lib\\site-packages\\keras\\backend\\tensorflow_backend.py:4138: The name tf.random_uniform is deprecated. Please use tf.random.uniform instead.\n",
      "\n",
      "W0920 01:59:02.313654  1868 deprecation_wrapper.py:119] From F:\\sda\\envs\\dlstudy\\lib\\site-packages\\keras\\optimizers.py:790: The name tf.train.Optimizer is deprecated. Please use tf.compat.v1.train.Optimizer instead.\n",
      "\n"
     ]
    }
   ],
   "source": [
    "model=Sequential()\n",
    "model.add(Dense(20,activation='relu',input_dim=3))\n",
    "model.add(Dense(5,activation='relu'))\n",
    "model.add(Dense(1))\n",
    "model.compile(optimizer='adam', loss='mse')"
   ]
  },
  {
   "cell_type": "code",
   "execution_count": 17,
   "metadata": {},
   "outputs": [],
   "source": [
    "df_mean=df_mean.sample(frac=1).reset_index(drop=True)"
   ]
  },
  {
   "cell_type": "code",
   "execution_count": 18,
   "metadata": {},
   "outputs": [],
   "source": [
    "x_train=df_mean.iloc[:240,1:]\n",
    "y_train=df_mean.iloc[:240,0]\n",
    "x_test=df_mean.iloc[240:,1:]\n",
    "y_test=df_mean.iloc[240:,0]"
   ]
  },
  {
   "cell_type": "code",
   "execution_count": 19,
   "metadata": {},
   "outputs": [
    {
     "data": {
      "text/plain": [
       "(240, 3)"
      ]
     },
     "execution_count": 19,
     "metadata": {},
     "output_type": "execute_result"
    }
   ],
   "source": [
    "x_train.shape"
   ]
  },
  {
   "cell_type": "code",
   "execution_count": 20,
   "metadata": {},
   "outputs": [
    {
     "name": "stderr",
     "output_type": "stream",
     "text": [
      "W0920 01:59:02.905258  1868 deprecation_wrapper.py:119] From F:\\sda\\envs\\dlstudy\\lib\\site-packages\\keras\\backend\\tensorflow_backend.py:986: The name tf.assign_add is deprecated. Please use tf.compat.v1.assign_add instead.\n",
      "\n",
      "W0920 01:59:02.979238  1868 deprecation_wrapper.py:119] From F:\\sda\\envs\\dlstudy\\lib\\site-packages\\keras\\backend\\tensorflow_backend.py:973: The name tf.assign is deprecated. Please use tf.compat.v1.assign instead.\n",
      "\n"
     ]
    },
    {
     "name": "stdout",
     "output_type": "stream",
     "text": [
      "Train on 204 samples, validate on 36 samples\n",
      "Epoch 1/100\n",
      "204/204 [==============================] - 0s 912us/step - loss: 0.0920 - val_loss: 0.0956\n",
      "Epoch 2/100\n",
      "204/204 [==============================] - 0s 39us/step - loss: 0.0699 - val_loss: 0.0716\n",
      "Epoch 3/100\n",
      "204/204 [==============================] - 0s 29us/step - loss: 0.0531 - val_loss: 0.0543\n",
      "Epoch 4/100\n",
      "204/204 [==============================] - 0s 39us/step - loss: 0.0447 - val_loss: 0.0440\n",
      "Epoch 5/100\n",
      "204/204 [==============================] - 0s 34us/step - loss: 0.0408 - val_loss: 0.0382\n",
      "Epoch 6/100\n",
      "204/204 [==============================] - 0s 39us/step - loss: 0.0379 - val_loss: 0.0336\n",
      "Epoch 7/100\n",
      "204/204 [==============================] - 0s 34us/step - loss: 0.0342 - val_loss: 0.0299\n",
      "Epoch 8/100\n",
      "204/204 [==============================] - 0s 34us/step - loss: 0.0304 - val_loss: 0.0269\n",
      "Epoch 9/100\n",
      "204/204 [==============================] - 0s 29us/step - loss: 0.0271 - val_loss: 0.0244\n",
      "Epoch 10/100\n",
      "204/204 [==============================] - 0s 39us/step - loss: 0.0246 - val_loss: 0.0222\n",
      "Epoch 11/100\n",
      "204/204 [==============================] - 0s 29us/step - loss: 0.0225 - val_loss: 0.0202\n",
      "Epoch 12/100\n",
      "204/204 [==============================] - 0s 39us/step - loss: 0.0208 - val_loss: 0.0184\n",
      "Epoch 13/100\n",
      "204/204 [==============================] - 0s 39us/step - loss: 0.0193 - val_loss: 0.0171\n",
      "Epoch 14/100\n",
      "204/204 [==============================] - 0s 39us/step - loss: 0.0179 - val_loss: 0.0160\n",
      "Epoch 15/100\n",
      "204/204 [==============================] - 0s 34us/step - loss: 0.0169 - val_loss: 0.0149\n",
      "Epoch 16/100\n",
      "204/204 [==============================] - 0s 34us/step - loss: 0.0159 - val_loss: 0.0140\n",
      "Epoch 17/100\n",
      "204/204 [==============================] - 0s 39us/step - loss: 0.0150 - val_loss: 0.0131\n",
      "Epoch 18/100\n",
      "204/204 [==============================] - 0s 34us/step - loss: 0.0143 - val_loss: 0.0121\n",
      "Epoch 19/100\n",
      "204/204 [==============================] - 0s 34us/step - loss: 0.0136 - val_loss: 0.0114\n",
      "Epoch 20/100\n",
      "204/204 [==============================] - 0s 29us/step - loss: 0.0130 - val_loss: 0.0109\n",
      "Epoch 21/100\n",
      "204/204 [==============================] - 0s 44us/step - loss: 0.0125 - val_loss: 0.0105\n",
      "Epoch 22/100\n",
      "204/204 [==============================] - 0s 29us/step - loss: 0.0120 - val_loss: 0.0098\n",
      "Epoch 23/100\n",
      "204/204 [==============================] - 0s 44us/step - loss: 0.0116 - val_loss: 0.0091\n",
      "Epoch 24/100\n",
      "204/204 [==============================] - 0s 34us/step - loss: 0.0112 - val_loss: 0.0086\n",
      "Epoch 25/100\n",
      "204/204 [==============================] - 0s 29us/step - loss: 0.0108 - val_loss: 0.0081\n",
      "Epoch 26/100\n",
      "204/204 [==============================] - 0s 34us/step - loss: 0.0105 - val_loss: 0.0078\n",
      "Epoch 27/100\n",
      "204/204 [==============================] - 0s 34us/step - loss: 0.0102 - val_loss: 0.0075\n",
      "Epoch 28/100\n",
      "204/204 [==============================] - 0s 34us/step - loss: 0.0100 - val_loss: 0.0073\n",
      "Epoch 29/100\n",
      "204/204 [==============================] - 0s 39us/step - loss: 0.0098 - val_loss: 0.0073\n",
      "Epoch 30/100\n",
      "204/204 [==============================] - 0s 34us/step - loss: 0.0096 - val_loss: 0.0072\n",
      "Epoch 31/100\n",
      "204/204 [==============================] - 0s 29us/step - loss: 0.0095 - val_loss: 0.0072\n",
      "Epoch 32/100\n",
      "204/204 [==============================] - 0s 34us/step - loss: 0.0094 - val_loss: 0.0070\n",
      "Epoch 33/100\n",
      "204/204 [==============================] - 0s 34us/step - loss: 0.0094 - val_loss: 0.0068\n",
      "Epoch 34/100\n",
      "204/204 [==============================] - 0s 34us/step - loss: 0.0092 - val_loss: 0.0068\n",
      "Epoch 35/100\n",
      "204/204 [==============================] - 0s 29us/step - loss: 0.0093 - val_loss: 0.0070\n",
      "Epoch 36/100\n",
      "204/204 [==============================] - 0s 34us/step - loss: 0.0092 - val_loss: 0.0068\n",
      "Epoch 37/100\n",
      "204/204 [==============================] - 0s 29us/step - loss: 0.0090 - val_loss: 0.0065\n",
      "Epoch 38/100\n",
      "204/204 [==============================] - 0s 29us/step - loss: 0.0090 - val_loss: 0.0065\n",
      "Epoch 39/100\n",
      "204/204 [==============================] - 0s 29us/step - loss: 0.0089 - val_loss: 0.0067\n",
      "Epoch 40/100\n",
      "204/204 [==============================] - 0s 34us/step - loss: 0.0089 - val_loss: 0.0066\n",
      "Epoch 41/100\n",
      "204/204 [==============================] - 0s 34us/step - loss: 0.0088 - val_loss: 0.0063\n",
      "Epoch 42/100\n",
      "204/204 [==============================] - 0s 39us/step - loss: 0.0088 - val_loss: 0.0063\n",
      "Epoch 43/100\n",
      "204/204 [==============================] - 0s 44us/step - loss: 0.0087 - val_loss: 0.0062\n",
      "Epoch 44/100\n",
      "204/204 [==============================] - 0s 34us/step - loss: 0.0087 - val_loss: 0.0062\n",
      "Epoch 45/100\n",
      "204/204 [==============================] - 0s 34us/step - loss: 0.0086 - val_loss: 0.0062\n",
      "Epoch 46/100\n",
      "204/204 [==============================] - 0s 34us/step - loss: 0.0086 - val_loss: 0.0061\n",
      "Epoch 47/100\n",
      "204/204 [==============================] - 0s 34us/step - loss: 0.0086 - val_loss: 0.0061\n",
      "Epoch 48/100\n",
      "204/204 [==============================] - 0s 29us/step - loss: 0.0085 - val_loss: 0.0059\n",
      "Epoch 49/100\n",
      "204/204 [==============================] - 0s 34us/step - loss: 0.0085 - val_loss: 0.0060\n",
      "Epoch 50/100\n",
      "204/204 [==============================] - 0s 39us/step - loss: 0.0084 - val_loss: 0.0059\n",
      "Epoch 51/100\n",
      "204/204 [==============================] - 0s 34us/step - loss: 0.0084 - val_loss: 0.0059\n",
      "Epoch 00051: early stopping\n"
     ]
    },
    {
     "data": {
      "text/plain": [
       "<keras.callbacks.History at 0x1c6e64b8780>"
      ]
     },
     "execution_count": 20,
     "metadata": {},
     "output_type": "execute_result"
    }
   ],
   "source": [
    "early_stop = EarlyStopping(monitor='val_loss', patience=3, verbose=1)\n",
    "model.reset_states()\n",
    "model.fit(x_train, y_train, epochs=100, validation_split=0.15,callbacks=[early_stop])"
   ]
  },
  {
   "cell_type": "code",
   "execution_count": 21,
   "metadata": {},
   "outputs": [
    {
     "name": "stdout",
     "output_type": "stream",
     "text": [
      "58/58 [==============================] - 0s 35us/step\n"
     ]
    },
    {
     "data": {
      "text/plain": [
       "0.007353849355773679"
      ]
     },
     "execution_count": 21,
     "metadata": {},
     "output_type": "execute_result"
    }
   ],
   "source": [
    "pre = model.predict(x_test)\n",
    "model.evaluate(x_test,y_test)"
   ]
  },
  {
   "cell_type": "code",
   "execution_count": 22,
   "metadata": {},
   "outputs": [
    {
     "data": {
      "text/plain": [
       "array([[0.4365027 , 0.5       ],\n",
       "       [0.41713598, 0.45454545],\n",
       "       [0.53068691, 0.52173913],\n",
       "       [0.37801242, 0.43478261],\n",
       "       [0.49207187, 0.38095238],\n",
       "       [0.55358505, 0.71428571],\n",
       "       [0.46288097, 0.43478261],\n",
       "       [0.5230521 , 0.56818182],\n",
       "       [0.60731983, 0.72      ],\n",
       "       [0.46917063, 0.29166667],\n",
       "       [0.35508314, 0.41666667],\n",
       "       [0.33926272, 0.42      ],\n",
       "       [0.35152778, 0.29166667],\n",
       "       [0.52160627, 0.5       ],\n",
       "       [0.35257405, 0.39130435],\n",
       "       [0.48140407, 0.65384615],\n",
       "       [0.62575215, 0.625     ],\n",
       "       [0.45426261, 0.5       ],\n",
       "       [0.54428655, 0.5       ],\n",
       "       [0.48901612, 0.58333333],\n",
       "       [0.55503702, 0.65384615],\n",
       "       [0.6527065 , 0.59090909],\n",
       "       [0.45872611, 0.28571429],\n",
       "       [0.52050364, 0.52083333],\n",
       "       [0.36562166, 0.33333333],\n",
       "       [0.4782362 , 0.54545455],\n",
       "       [0.58328766, 0.61904762],\n",
       "       [0.5053336 , 0.53846154],\n",
       "       [0.61268783, 0.6       ],\n",
       "       [0.6398629 , 0.7826087 ],\n",
       "       [0.55451155, 0.48      ],\n",
       "       [0.59188068, 0.61904762],\n",
       "       [0.53606737, 0.56      ],\n",
       "       [0.46135768, 0.375     ],\n",
       "       [0.58185524, 0.53846154],\n",
       "       [0.60423303, 0.65217391],\n",
       "       [0.52020907, 0.48      ],\n",
       "       [0.5747658 , 0.5       ],\n",
       "       [0.57502782, 0.52      ],\n",
       "       [0.4769848 , 0.39130435],\n",
       "       [0.65353918, 0.72      ],\n",
       "       [0.46145713, 0.45      ],\n",
       "       [0.47522193, 0.5       ],\n",
       "       [0.39399779, 0.5       ],\n",
       "       [0.36349487, 0.21052632],\n",
       "       [0.59997344, 0.57142857],\n",
       "       [0.56572604, 0.48      ],\n",
       "       [0.56684405, 0.45833333],\n",
       "       [0.31516969, 0.15789474],\n",
       "       [0.52138698, 0.42857143],\n",
       "       [0.4841314 , 0.45833333],\n",
       "       [0.39668673, 0.44      ],\n",
       "       [0.35153505, 0.26086957],\n",
       "       [0.31024587, 0.4       ],\n",
       "       [0.44169843, 0.41666667],\n",
       "       [0.32315314, 0.34090909],\n",
       "       [0.22584829, 0.        ],\n",
       "       [0.36022812, 0.40625   ]])"
      ]
     },
     "execution_count": 22,
     "metadata": {},
     "output_type": "execute_result"
    }
   ],
   "source": [
    "ny_test=y_test.values.reshape(y_test.shape[0],1)\n",
    "np.concatenate((pre,ny_test),axis=1)"
   ]
  },
  {
   "cell_type": "code",
   "execution_count": null,
   "metadata": {},
   "outputs": [],
   "source": []
  },
  {
   "cell_type": "code",
   "execution_count": null,
   "metadata": {},
   "outputs": [],
   "source": []
  },
  {
   "cell_type": "code",
   "execution_count": null,
   "metadata": {},
   "outputs": [],
   "source": []
  },
  {
   "cell_type": "code",
   "execution_count": null,
   "metadata": {},
   "outputs": [],
   "source": []
  }
 ],
 "metadata": {
  "kernelspec": {
   "display_name": "Python 3",
   "language": "python",
   "name": "python3"
  },
  "language_info": {
   "codemirror_mode": {
    "name": "ipython",
    "version": 3
   },
   "file_extension": ".py",
   "mimetype": "text/x-python",
   "name": "python",
   "nbconvert_exporter": "python",
   "pygments_lexer": "ipython3",
   "version": "3.7.3"
  }
 },
 "nbformat": 4,
 "nbformat_minor": 2
}
