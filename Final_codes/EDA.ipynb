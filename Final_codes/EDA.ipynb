{
 "cells": [
  {
   "cell_type": "code",
   "execution_count": 1,
   "metadata": {},
   "outputs": [],
   "source": [
    "import pandas as pd\n",
    "import numpy as np\n",
    "import matplotlib.pyplot as plt\n",
    "import os\n",
    "import seaborn as sns\n",
    "plt.rcParams['font.family'] = 'Malgun Gothic'\n",
    "%matplotlib inline\n",
    "import itertools\n",
    "import warnings\n",
    "warnings.filterwarnings(action='ignore')\n",
    "from sklearn.preprocessing import LabelEncoder\n",
    "\n",
    "\n",
    "\n",
    "# 시계열\n",
    "\n",
    "import statsmodels.api as sm\n",
    "\n",
    "\n",
    "\n",
    "data_dir='C:/Download/2020bigcontest-master/2020bigcontest-master/data/total'\n",
    "data_list = os.listdir(data_dir)\n",
    "\n",
    "\n",
    "#항목별 저장\n",
    "data_list_single_hitter = [data_list[x] for x in range(len(data_list)) if data_list[x].split('_')[-2].startswith('개인타자')]\n",
    "data_single_hitter = [pd.read_csv(os.path.join(data_dir, data_list_single_hitter[x]), encoding='cp949') for x in range(len(data_list_single_hitter))]\n",
    "data_list_single_pitcher = [data_list[x] for x in range(len(data_list)) if data_list[x].split('_')[-2].startswith('개인투수')]\n",
    "data_single_pitcher = [pd.read_csv(os.path.join(data_dir, data_list_single_pitcher[x]), encoding='cp949') for x in range(len(data_list_single_pitcher))]\n",
    "data_list_games = [data_list[x] for x in range(len(data_list)) if data_list[x].split('_')[-2].startswith('경기')]\n",
    "data_games = [pd.read_csv(os.path.join(data_dir, data_list_games[x]), encoding='cp949') for x in range(len(data_list_games))]\n",
    "data_list_player_enroll = [data_list[x] for x in range(len(data_list)) if data_list[x].split('_')[-2].startswith('등록선수')]\n",
    "data_player_enroll = [pd.read_csv(os.path.join(data_dir, data_list_player_enroll[x]), encoding='cp949') for x in range(len(data_list_player_enroll))]\n",
    "data_list_players = [data_list[x] for x in range(len(data_list)) if data_list[x].split('_')[-2].startswith('선수')]\n",
    "data_players = [pd.read_csv(os.path.join(data_dir, data_list_players[x]), encoding='cp949') for x in range(len(data_list_players))]\n",
    "data_list_teams = [data_list[x] for x in range(len(data_list)) if data_list[x].split('_')[-2].startswith('팀')]\n",
    "data_teams = [pd.read_csv(os.path.join(data_dir, data_list_teams[x]), encoding='cp949') for x in range(len(data_list_teams))]\n",
    "data_list_team_hitter = [data_list[x] for x in range(len(data_list)) if data_list[x].split('_')[-2].startswith('팀타자')]\n",
    "data_team_hitter = [pd.read_csv(os.path.join(data_dir, data_list_team_hitter[x]), encoding='cp949') for x in range(len(data_list_team_hitter))]\n",
    "data_list_team_pitcher = [data_list[x] for x in range(len(data_list)) if data_list[x].split('_')[-2].startswith('팀투수')]\n",
    "data_team_pitcher = [pd.read_csv(os.path.join(data_dir, data_list_team_pitcher[x]), encoding='cp949') for x in range(len(data_list_team_pitcher))]\n",
    "\n",
    "\n",
    "team_hitter=pd.concat(data_team_hitter,axis=0)\n",
    "team_pitcher=pd.concat(data_team_pitcher,axis=0)\n",
    "for i in range(0,5):\n",
    "     data_team_hitter[i]['AVG']=data_team_hitter[i]['HIT']/data_team_hitter[i]['AB']\n",
    "\n",
    "\n",
    "from datetime import datetime \n",
    "from datetime import datetime as dt\n",
    "from dateutil.parser import parse\n",
    "team_2016=data_team_hitter[0]\n",
    "team_2017=data_team_hitter[1]\n",
    "team_2018=data_team_hitter[2]\n",
    "team_2019=data_team_hitter[3]\n",
    "team_2020=data_team_hitter[4]\n",
    "df_list=[team_2016,team_2017,team_2018,team_2019,team_2020]\n"
   ]
  },
  {
   "cell_type": "code",
   "execution_count": 2,
   "metadata": {},
   "outputs": [],
   "source": [
    "def add_y_next(df):\n",
    "    df['ym']=df['GDAY_DS'].apply(lambda x: str(x.year)+str(x.month))\n",
    "\n",
    "\n",
    "\n",
    "    a=df['GDAY_DS'].apply(lambda x: str(x.year)+str(x.month)).unique()\n",
    "    b=list(range(len(a)))\n",
    "    list_C = [ x for x in zip(a,b) ]\n",
    "    dict1=dict(list_C)\n",
    "    \n",
    "\n",
    "\n",
    "    df['dummy']=df['ym'].map(dict1)\n",
    "\n",
    "    df['dummy+1']=df['dummy']+1\n",
    "\n",
    "    y_dict=df.groupby(['dummy'])['AVG'].mean().to_dict()\n",
    "    \n",
    "\n",
    "    df['y_next']=df['dummy+1'].map(y_dict)\n",
    "\n",
    "    df.drop(['dummy','dummy+1','ym','GDAY_DS'],axis=1,inplace=True)\n",
    "    #걍 날짜는 삭제(시계열 피쳐로 잡아주니까)\n",
    "    df.dropna(inplace=True)#일단 드랍하고 진행\n",
    "    return df"
   ]
  },
  {
   "cell_type": "code",
   "execution_count": 3,
   "metadata": {},
   "outputs": [],
   "source": [
    "def team_hitter_eda(year, team_name):\n",
    "    year_index = year - 2016 \n",
    "    \n",
    "    # team_hitter data에 해당 경기의 해당 팀의 홈 어웨이 여부 column 추가\n",
    "    data_games_year = data_games[year_index]\n",
    "    data_games_year = data_games_year[['G_ID', 'VISIT_KEY', 'HOME_KEY']]\n",
    "    data_games_year = data_games_year.set_index('G_ID')\n",
    "    \n",
    "    data_team_hitter_year = data_team_hitter[year_index]\n",
    "    data_team_hitter_year = pd.merge(data_team_hitter_year, data_games_year, how='left', on=['G_ID'])\n",
    "\n",
    "    data_team_hitter_year_team = data_team_hitter_year[data_team_hitter_year.T_ID == team_name]\n",
    "    df = data_team_hitter_year_team\n",
    "    df['HOME_KEY'] = df['HOME_KEY'].map(lambda x: 1 if x == team_name else 0 )\n",
    "    df = df.drop(columns = ['VISIT_KEY', 'G_ID'])\n",
    "    \n",
    "    df.reset_index(inplace=True, drop=True) #index 재정렬\n",
    "    \n",
    "    # LabelEncoding\n",
    "    encoder = LabelEncoder()\n",
    "\n",
    "    df['VS_T_ID'] = encoder.fit_transform(df['VS_T_ID']) #상대편\n",
    "    df['TB_SC'] = encoder.fit_transform(df['TB_SC']) #이닝 초/말\n",
    "    \n",
    "    \n",
    "    ### 이부분은 모든 EDA에서 동일하게 작성\n",
    "    \n",
    "    # GDAY_DS => Datetime type\n",
    "    df['GDAY_DS'] = df['GDAY_DS'].astype(str) + (df['HEADER_NO']+1).astype(str)\n",
    "    df['year']=df['GDAY_DS'].str.slice(0,4).astype(int)\n",
    "    df['month']=df['GDAY_DS'].str.slice(4,6).astype(int)\n",
    "    df['H1']=df['HIT']-df['H2']-df['H3']-df['HR']\n",
    "    dt = []\n",
    "    for i in df['GDAY_DS']:\n",
    "        dt_ = datetime.strptime(i, '%Y%m%d%H')\n",
    "        dt.append(dt_)\n",
    "    df['GDAY_DS'] = pd.Series(dt)\n",
    "    df['month']=df['GDAY_DS'].apply(lambda x: x.month)\n",
    "    \n",
    "    #장타율\n",
    "    df['SLG']=(df['HIT']+df['HP']+df['BB'])/(df['AB']+df['BB']+df['HP']+df['SF'])\n",
    "    #출루율\n",
    "    df['OBA']=(df['H1']+2*df['H2']+3*df['H3']+4*df['HR'])/df['AB']\n",
    "    df['W_OPS']=0.57* df['SLG']+0.43*df['OBA']\n",
    "    \n",
    "    \n",
    "    \n",
    "    df = df.drop(columns=['T_ID'])\n",
    "    #lags\n",
    "    #lags=[1,4,6,12,30,60]\n",
    "    #for lag in lags:\n",
    "    #    df['AVG_lag_'+str(lag)]=df['AVG'].shift(lag).astype(np.float16)\n",
    "    #SK Expanding window 추가\n",
    "    #df['expanding_AVG_mean']=df['AVG'].transform(lambda x: x.expanding(2).mean().astype(np.float16))\n",
    "    #rolling window\n",
    "    #df['rolling_AVG_mean']=df['AVG'].transform(lambda x: x.rolling(window=7).mean().astype(np.float16))\n",
    "    #trend\n",
    "    \n",
    "    # 경기당 타율 column 생성\n",
    "    df['AVG'] = df['HIT'] / df['AB']\n",
    "    \n",
    "    df['avg_AVG'] = df['AVG'].mean()\n",
    "    df['AVG_trend'] = (df['AVG'] - df['avg_AVG']).astype(np.float16)\n",
    "    df.drop(['avg_AVG'],axis=1,inplace=True)\n",
    "    \n",
    "    # Drop Categorical feature for 시계열 => coint 과정에서 singular matrix 발생\n",
    "    df = df.drop(columns=[ 'HOME_KEY'])\n",
    "    \n",
    "\n",
    "#     df = df.drop(columns=['T_ID', 'HEADER_NO', 'CG_CK', 'BK'])\n",
    "#     df = df.drop(columns=['TB_SC', 'HR', 'SB', 'VS_T_ID', 'HOME_KEY', 'HOLD', 'INN2', 'BF', 'CS', 'SH', 'HP', 'GD', 'ERR' ,'ER'])\n",
    "    df_year_team_name = df\n",
    "    \n",
    "    return df_year_team_name"
   ]
  },
  {
   "cell_type": "markdown",
   "metadata": {},
   "source": [
    "# 시계열 모델 사용 조건: 정상성 만족\n",
    "- 이에 따라 팀 투수, 팀 타자 데이터에 대해 adfuller 정상성 검정 시행\n",
    "\n"
   ]
  },
  {
   "cell_type": "code",
   "execution_count": 4,
   "metadata": {},
   "outputs": [],
   "source": [
    "from statsmodels.tsa.stattools import adfuller\n",
    "\n",
    "def print_adfuller(inputSeries):\n",
    "    result = adfuller(inputSeries)\n",
    "    \n",
    "    return result[1]"
   ]
  },
  {
   "cell_type": "code",
   "execution_count": 5,
   "metadata": {},
   "outputs": [],
   "source": [
    "t=list(team_hitter['T_ID'].unique())\n",
    "hit_team_list=[0]*10\n",
    "for i in range(len(hit_team_list)):\n",
    "    hit_team_list[i]=team_hitter[team_hitter['T_ID']==t[i]]"
   ]
  },
  {
   "cell_type": "code",
   "execution_count": 6,
   "metadata": {},
   "outputs": [],
   "source": [
    "t=list(team_pitcher['T_ID'].unique())\n",
    "pit_team_list=[0]*10\n",
    "for i in range(len(pit_team_list)):\n",
    "\n",
    "    pit_team_list[i]=team_pitcher[team_pitcher['T_ID']==t[i]]"
   ]
  },
  {
   "cell_type": "markdown",
   "metadata": {},
   "source": [
    "## 팀 타자 데이터 정상성 검정"
   ]
  },
  {
   "cell_type": "code",
   "execution_count": 7,
   "metadata": {},
   "outputs": [
    {
     "name": "stdout",
     "output_type": "stream",
     "text": [
      "KK\n"
     ]
    }
   ],
   "source": [
    "\n",
    "hit_con_cols=team_hitter.columns[6:]\n",
    "\n",
    "results=[]\n",
    "for t in hit_team_list:\n",
    "\n",
    "    for i in hit_con_cols:\n",
    "        \n",
    "        \n",
    "        pvalue=print_adfuller(t[i])\n",
    "        if pvalue>0.05:\n",
    "            print(i)\n",
    "        results.append(pvalue)"
   ]
  },
  {
   "cell_type": "code",
   "execution_count": 8,
   "metadata": {},
   "outputs": [
    {
     "data": {
      "image/png": "[encoded data removed]",
      "text/plain": [
       "<Figure size 432x288 with 1 Axes>"
      ]
     },
     "metadata": {
      "needs_background": "light"
     },
     "output_type": "display_data"
    }
   ],
   "source": [
    "\n",
    "df=pd.DataFrame()\n",
    "df['p-value']=results\n",
    "df['significance']=df['p-value']<0.05\n",
    "plt.title('Variable is stationary')\n",
    "ax=sns.countplot(df['significance'],palette=['green','lightcoral'])"
   ]
  },
  {
   "cell_type": "code",
   "execution_count": 9,
   "metadata": {},
   "outputs": [
    {
     "data": {
      "text/plain": [
       "147    0.05187\n",
       "Name: p-value, dtype: float64"
      ]
     },
     "execution_count": 9,
     "metadata": {},
     "output_type": "execute_result"
    }
   ],
   "source": [
    "# 0.05에서 크게 벗어나지 않는 수준\n",
    "df[df['significance']==False]['p-value']"
   ]
  },
  {
   "cell_type": "markdown",
   "metadata": {},
   "source": [
    "## 팀 투수 데이터 정상성 검정"
   ]
  },
  {
   "cell_type": "code",
   "execution_count": 10,
   "metadata": {},
   "outputs": [],
   "source": [
    "pit_con_cols=team_pitcher.columns[8:]\n",
    "\n",
    "\n",
    "\n",
    "results=[]\n",
    "for t in pit_team_list:\n",
    "\n",
    "    for i in pit_con_cols:\n",
    "        \n",
    "        \n",
    "        pvalue=print_adfuller(t[i])\n",
    "        if pvalue>0.05:\n",
    "            print(i)\n",
    "        results.append(pvalue)"
   ]
  },
  {
   "cell_type": "code",
   "execution_count": 11,
   "metadata": {
    "scrolled": true
   },
   "outputs": [
    {
     "data": {
      "image/png": "[encoded data removed]",
      "text/plain": [
       "<Figure size 432x288 with 1 Axes>"
      ]
     },
     "metadata": {
      "needs_background": "light"
     },
     "output_type": "display_data"
    }
   ],
   "source": [
    "#투수데이터 정상성 검정\n",
    "df=pd.DataFrame()\n",
    "df['p-value']=results\n",
    "df['significance']=df['p-value']<0.05\n",
    "plt.title('Variable is stationary')\n",
    "ax=sns.countplot(df['significance'],palette=['green','lightcoral'])"
   ]
  },
  {
   "cell_type": "markdown",
   "metadata": {},
   "source": [
    "# 정규성 검정"
   ]
  },
  {
   "cell_type": "code",
   "execution_count": 12,
   "metadata": {},
   "outputs": [],
   "source": [
    "#데이터 전체 취합하기\n",
    "names=team_2016['T_ID'].unique()\n",
    "df_list=[0]*5\n",
    "df_list2=[0]*10\n",
    "for i in range(len(df_list2)):\n",
    "    for name in names:\n",
    "        df_list[0]=team_hitter_eda(2016, name)\n",
    "        df_list[1]=team_hitter_eda(2017, name)\n",
    "        df_list[2]=team_hitter_eda(2018, name)\n",
    "        df_list[3]=team_hitter_eda(2019, name)\n",
    "        df_list[4]=team_hitter_eda(2020, name)\n",
    "        df_list2[i]=add_y_next(pd.concat([df_list[0],df_list[1],df_list[2],df_list[3],df_list[4]],axis=0))\n",
    "\n",
    "\n",
    "\n",
    "data=pd.concat([df_list2[0],df_list2[1],df_list2[2],df_list2[3],df_list2[4]\n",
    "               ,df_list2[5],df_list2[6],df_list2[7],df_list2[8],df_list2[9]],axis=0)"
   ]
  },
  {
   "cell_type": "code",
   "execution_count": 13,
   "metadata": {},
   "outputs": [],
   "source": [
    "#LG데이터만 대상으로 실행\n",
    "LG=df_list2[0]\n",
    "LG=LG.drop(['VS_T_ID','HEADER_NO'],axis=1)"
   ]
  },
  {
   "cell_type": "code",
   "execution_count": 14,
   "metadata": {},
   "outputs": [
    {
     "data": {
      "text/html": [
       "<div>\n",
       "<style scoped>\n",
       "    .dataframe tbody tr th:only-of-type {\n",
       "        vertical-align: middle;\n",
       "    }\n",
       "\n",
       "    .dataframe tbody tr th {\n",
       "        vertical-align: top;\n",
       "    }\n",
       "\n",
       "    .dataframe thead th {\n",
       "        text-align: right;\n",
       "    }\n",
       "</style>\n",
       "<table border=\"1\" class=\"dataframe\">\n",
       "  <thead>\n",
       "    <tr style=\"text-align: right;\">\n",
       "      <th></th>\n",
       "      <th>TB_SC</th>\n",
       "      <th>PA</th>\n",
       "      <th>AB</th>\n",
       "      <th>RBI</th>\n",
       "      <th>RUN</th>\n",
       "      <th>HIT</th>\n",
       "      <th>H2</th>\n",
       "      <th>H3</th>\n",
       "      <th>HR</th>\n",
       "      <th>SB</th>\n",
       "      <th>...</th>\n",
       "      <th>P_HIT_CN</th>\n",
       "      <th>AVG</th>\n",
       "      <th>year</th>\n",
       "      <th>month</th>\n",
       "      <th>H1</th>\n",
       "      <th>SLG</th>\n",
       "      <th>OBA</th>\n",
       "      <th>W_OPS</th>\n",
       "      <th>AVG_trend</th>\n",
       "      <th>y_next</th>\n",
       "    </tr>\n",
       "  </thead>\n",
       "  <tbody>\n",
       "    <tr>\n",
       "      <th>0</th>\n",
       "      <td>1</td>\n",
       "      <td>37</td>\n",
       "      <td>31</td>\n",
       "      <td>4</td>\n",
       "      <td>5</td>\n",
       "      <td>8</td>\n",
       "      <td>0</td>\n",
       "      <td>0</td>\n",
       "      <td>2</td>\n",
       "      <td>2</td>\n",
       "      <td>...</td>\n",
       "      <td>1</td>\n",
       "      <td>0.258065</td>\n",
       "      <td>2016</td>\n",
       "      <td>4</td>\n",
       "      <td>6</td>\n",
       "      <td>0.333333</td>\n",
       "      <td>0.451613</td>\n",
       "      <td>0.384194</td>\n",
       "      <td>-0.034760</td>\n",
       "      <td>0.322273</td>\n",
       "    </tr>\n",
       "    <tr>\n",
       "      <th>1</th>\n",
       "      <td>1</td>\n",
       "      <td>42</td>\n",
       "      <td>38</td>\n",
       "      <td>6</td>\n",
       "      <td>6</td>\n",
       "      <td>12</td>\n",
       "      <td>6</td>\n",
       "      <td>0</td>\n",
       "      <td>1</td>\n",
       "      <td>1</td>\n",
       "      <td>...</td>\n",
       "      <td>3</td>\n",
       "      <td>0.315789</td>\n",
       "      <td>2016</td>\n",
       "      <td>4</td>\n",
       "      <td>5</td>\n",
       "      <td>0.380952</td>\n",
       "      <td>0.552632</td>\n",
       "      <td>0.454774</td>\n",
       "      <td>0.022949</td>\n",
       "      <td>0.322273</td>\n",
       "    </tr>\n",
       "    <tr>\n",
       "      <th>2</th>\n",
       "      <td>0</td>\n",
       "      <td>39</td>\n",
       "      <td>28</td>\n",
       "      <td>5</td>\n",
       "      <td>6</td>\n",
       "      <td>6</td>\n",
       "      <td>1</td>\n",
       "      <td>1</td>\n",
       "      <td>0</td>\n",
       "      <td>2</td>\n",
       "      <td>...</td>\n",
       "      <td>2</td>\n",
       "      <td>0.214286</td>\n",
       "      <td>2016</td>\n",
       "      <td>4</td>\n",
       "      <td>4</td>\n",
       "      <td>0.435897</td>\n",
       "      <td>0.321429</td>\n",
       "      <td>0.386676</td>\n",
       "      <td>-0.078552</td>\n",
       "      <td>0.322273</td>\n",
       "    </tr>\n",
       "    <tr>\n",
       "      <th>3</th>\n",
       "      <td>0</td>\n",
       "      <td>32</td>\n",
       "      <td>30</td>\n",
       "      <td>2</td>\n",
       "      <td>2</td>\n",
       "      <td>5</td>\n",
       "      <td>0</td>\n",
       "      <td>0</td>\n",
       "      <td>1</td>\n",
       "      <td>0</td>\n",
       "      <td>...</td>\n",
       "      <td>1</td>\n",
       "      <td>0.166667</td>\n",
       "      <td>2016</td>\n",
       "      <td>4</td>\n",
       "      <td>4</td>\n",
       "      <td>0.218750</td>\n",
       "      <td>0.266667</td>\n",
       "      <td>0.239354</td>\n",
       "      <td>-0.126221</td>\n",
       "      <td>0.322273</td>\n",
       "    </tr>\n",
       "    <tr>\n",
       "      <th>4</th>\n",
       "      <td>0</td>\n",
       "      <td>40</td>\n",
       "      <td>36</td>\n",
       "      <td>2</td>\n",
       "      <td>2</td>\n",
       "      <td>10</td>\n",
       "      <td>1</td>\n",
       "      <td>0</td>\n",
       "      <td>0</td>\n",
       "      <td>0</td>\n",
       "      <td>...</td>\n",
       "      <td>1</td>\n",
       "      <td>0.277778</td>\n",
       "      <td>2016</td>\n",
       "      <td>4</td>\n",
       "      <td>9</td>\n",
       "      <td>0.350000</td>\n",
       "      <td>0.305556</td>\n",
       "      <td>0.330889</td>\n",
       "      <td>-0.015060</td>\n",
       "      <td>0.322273</td>\n",
       "    </tr>\n",
       "    <tr>\n",
       "      <th>...</th>\n",
       "      <td>...</td>\n",
       "      <td>...</td>\n",
       "      <td>...</td>\n",
       "      <td>...</td>\n",
       "      <td>...</td>\n",
       "      <td>...</td>\n",
       "      <td>...</td>\n",
       "      <td>...</td>\n",
       "      <td>...</td>\n",
       "      <td>...</td>\n",
       "      <td>...</td>\n",
       "      <td>...</td>\n",
       "      <td>...</td>\n",
       "      <td>...</td>\n",
       "      <td>...</td>\n",
       "      <td>...</td>\n",
       "      <td>...</td>\n",
       "      <td>...</td>\n",
       "      <td>...</td>\n",
       "      <td>...</td>\n",
       "      <td>...</td>\n",
       "    </tr>\n",
       "    <tr>\n",
       "      <th>43</th>\n",
       "      <td>1</td>\n",
       "      <td>33</td>\n",
       "      <td>31</td>\n",
       "      <td>0</td>\n",
       "      <td>0</td>\n",
       "      <td>4</td>\n",
       "      <td>0</td>\n",
       "      <td>0</td>\n",
       "      <td>0</td>\n",
       "      <td>0</td>\n",
       "      <td>...</td>\n",
       "      <td>0</td>\n",
       "      <td>0.129032</td>\n",
       "      <td>2020</td>\n",
       "      <td>6</td>\n",
       "      <td>4</td>\n",
       "      <td>0.181818</td>\n",
       "      <td>0.129032</td>\n",
       "      <td>0.159120</td>\n",
       "      <td>-0.165894</td>\n",
       "      <td>0.324305</td>\n",
       "    </tr>\n",
       "    <tr>\n",
       "      <th>44</th>\n",
       "      <td>0</td>\n",
       "      <td>37</td>\n",
       "      <td>32</td>\n",
       "      <td>2</td>\n",
       "      <td>3</td>\n",
       "      <td>7</td>\n",
       "      <td>2</td>\n",
       "      <td>0</td>\n",
       "      <td>0</td>\n",
       "      <td>0</td>\n",
       "      <td>...</td>\n",
       "      <td>2</td>\n",
       "      <td>0.218750</td>\n",
       "      <td>2020</td>\n",
       "      <td>6</td>\n",
       "      <td>5</td>\n",
       "      <td>0.324324</td>\n",
       "      <td>0.281250</td>\n",
       "      <td>0.305802</td>\n",
       "      <td>-0.076233</td>\n",
       "      <td>0.324305</td>\n",
       "    </tr>\n",
       "    <tr>\n",
       "      <th>45</th>\n",
       "      <td>0</td>\n",
       "      <td>40</td>\n",
       "      <td>33</td>\n",
       "      <td>11</td>\n",
       "      <td>12</td>\n",
       "      <td>13</td>\n",
       "      <td>1</td>\n",
       "      <td>0</td>\n",
       "      <td>2</td>\n",
       "      <td>0</td>\n",
       "      <td>...</td>\n",
       "      <td>6</td>\n",
       "      <td>0.393939</td>\n",
       "      <td>2020</td>\n",
       "      <td>6</td>\n",
       "      <td>10</td>\n",
       "      <td>0.450000</td>\n",
       "      <td>0.606061</td>\n",
       "      <td>0.517106</td>\n",
       "      <td>0.098938</td>\n",
       "      <td>0.324305</td>\n",
       "    </tr>\n",
       "    <tr>\n",
       "      <th>46</th>\n",
       "      <td>0</td>\n",
       "      <td>35</td>\n",
       "      <td>33</td>\n",
       "      <td>0</td>\n",
       "      <td>0</td>\n",
       "      <td>5</td>\n",
       "      <td>0</td>\n",
       "      <td>0</td>\n",
       "      <td>0</td>\n",
       "      <td>0</td>\n",
       "      <td>...</td>\n",
       "      <td>0</td>\n",
       "      <td>0.151515</td>\n",
       "      <td>2020</td>\n",
       "      <td>6</td>\n",
       "      <td>5</td>\n",
       "      <td>0.200000</td>\n",
       "      <td>0.151515</td>\n",
       "      <td>0.179152</td>\n",
       "      <td>-0.143433</td>\n",
       "      <td>0.324305</td>\n",
       "    </tr>\n",
       "    <tr>\n",
       "      <th>47</th>\n",
       "      <td>1</td>\n",
       "      <td>35</td>\n",
       "      <td>33</td>\n",
       "      <td>2</td>\n",
       "      <td>2</td>\n",
       "      <td>7</td>\n",
       "      <td>2</td>\n",
       "      <td>0</td>\n",
       "      <td>1</td>\n",
       "      <td>0</td>\n",
       "      <td>...</td>\n",
       "      <td>1</td>\n",
       "      <td>0.212121</td>\n",
       "      <td>2020</td>\n",
       "      <td>6</td>\n",
       "      <td>4</td>\n",
       "      <td>0.257143</td>\n",
       "      <td>0.363636</td>\n",
       "      <td>0.302935</td>\n",
       "      <td>-0.082886</td>\n",
       "      <td>0.324305</td>\n",
       "    </tr>\n",
       "  </tbody>\n",
       "</table>\n",
       "<p>624 rows × 32 columns</p>\n",
       "</div>"
      ],
      "text/plain": [
       "    TB_SC  PA  AB  RBI  RUN  HIT  H2  H3  HR  SB  ...  P_HIT_CN       AVG  \\\n",
       "0       1  37  31    4    5    8   0   0   2   2  ...         1  0.258065   \n",
       "1       1  42  38    6    6   12   6   0   1   1  ...         3  0.315789   \n",
       "2       0  39  28    5    6    6   1   1   0   2  ...         2  0.214286   \n",
       "3       0  32  30    2    2    5   0   0   1   0  ...         1  0.166667   \n",
       "4       0  40  36    2    2   10   1   0   0   0  ...         1  0.277778   \n",
       "..    ...  ..  ..  ...  ...  ...  ..  ..  ..  ..  ...       ...       ...   \n",
       "43      1  33  31    0    0    4   0   0   0   0  ...         0  0.129032   \n",
       "44      0  37  32    2    3    7   2   0   0   0  ...         2  0.218750   \n",
       "45      0  40  33   11   12   13   1   0   2   0  ...         6  0.393939   \n",
       "46      0  35  33    0    0    5   0   0   0   0  ...         0  0.151515   \n",
       "47      1  35  33    2    2    7   2   0   1   0  ...         1  0.212121   \n",
       "\n",
       "    year  month  H1       SLG       OBA     W_OPS  AVG_trend    y_next  \n",
       "0   2016      4   6  0.333333  0.451613  0.384194  -0.034760  0.322273  \n",
       "1   2016      4   5  0.380952  0.552632  0.454774   0.022949  0.322273  \n",
       "2   2016      4   4  0.435897  0.321429  0.386676  -0.078552  0.322273  \n",
       "3   2016      4   4  0.218750  0.266667  0.239354  -0.126221  0.322273  \n",
       "4   2016      4   9  0.350000  0.305556  0.330889  -0.015060  0.322273  \n",
       "..   ...    ...  ..       ...       ...       ...        ...       ...  \n",
       "43  2020      6   4  0.181818  0.129032  0.159120  -0.165894  0.324305  \n",
       "44  2020      6   5  0.324324  0.281250  0.305802  -0.076233  0.324305  \n",
       "45  2020      6  10  0.450000  0.606061  0.517106   0.098938  0.324305  \n",
       "46  2020      6   5  0.200000  0.151515  0.179152  -0.143433  0.324305  \n",
       "47  2020      6   4  0.257143  0.363636  0.302935  -0.082886  0.324305  \n",
       "\n",
       "[624 rows x 32 columns]"
      ]
     },
     "execution_count": 14,
     "metadata": {},
     "output_type": "execute_result"
    }
   ],
   "source": [
    "LG"
   ]
  },
  {
   "cell_type": "code",
   "execution_count": 15,
   "metadata": {},
   "outputs": [
    {
     "data": {
      "text/plain": [
       "(0.9282090067863464, 1.0536190553081529e-16)"
      ]
     },
     "execution_count": 15,
     "metadata": {},
     "output_type": "execute_result"
    }
   ],
   "source": [
    "from scipy.stats import shapiro\n",
    "\n",
    "shapiro(LG['y_next'])\n",
    "#LG만 해도p값이 0.05보다 작다. 즉, 유의수준 0.05하에서 타깃 값이 정규성을 만족한다는 귀무가설을 기각하게 된다"
   ]
  },
  {
   "cell_type": "code",
   "execution_count": 16,
   "metadata": {
    "scrolled": true
   },
   "outputs": [
    {
     "name": "stdout",
     "output_type": "stream",
     "text": [
      "optimal lambda: 1.4029907791756053\n"
     ]
    },
    {
     "data": {
      "image/png": "[encoded data removed]",
      "text/plain": [
       "<Figure size 432x288 with 1 Axes>"
      ]
     },
     "metadata": {
      "needs_background": "light"
     },
     "output_type": "display_data"
    }
   ],
   "source": [
    "import scipy as sp\n",
    "\n",
    "x, y = sp.stats.boxcox_normplot(LG['y_next'], -2, 2)\n",
    "plt.plot(x, y);\n",
    "y2, l = sp.stats.boxcox(LG['y_next'])\n",
    "plt.axvline(x=l, color='r', ls=\"--\");\n",
    "print(\"optimal lambda:\", l)"
   ]
  },
  {
   "cell_type": "code",
   "execution_count": 17,
   "metadata": {
    "scrolled": true
   },
   "outputs": [
    {
     "data": {
      "image/png": "[encoded data removed]",
      "text/plain": [
       "<Figure size 432x288 with 2 Axes>"
      ]
     },
     "metadata": {
      "needs_background": "light"
     },
     "output_type": "display_data"
    }
   ],
   "source": [
    "\n",
    "import statsmodels.graphics.gofplots as sm\n",
    "ax1 = plt.subplot(121);\n",
    "sm.qqplot(LG['y_next'], fit=True, line='45', ax=ax1);\n",
    "ax1.axis(\"square\"); ax1.set_xlim(-4, 4); ax1.set_ylim(-4, 4); \n",
    "ax2 = plt.subplot(122);\n",
    "sm.qqplot(y2, fit=True, line='45', ax=ax2);\n",
    "ax2.axis(\"square\"); ax2.set_xlim(-4, 4); ax2.set_ylim(-4, 4);"
   ]
  },
  {
   "cell_type": "code",
   "execution_count": 18,
   "metadata": {},
   "outputs": [
    {
     "data": {
      "text/plain": [
       "(0.9315124154090881, 2.7151434659955704e-16)"
      ]
     },
     "execution_count": 18,
     "metadata": {},
     "output_type": "execute_result"
    }
   ],
   "source": [
    "from scipy.stats import shapiro\n",
    "\n",
    "shapiro(y2)\n",
    "#optimal lambda에서 box-cox변환 취해도, shapiro wilk test 결과 정규성을 만족하지 않는다."
   ]
  },
  {
   "cell_type": "markdown",
   "metadata": {},
   "source": [
    "- optimal lambda 를 사용하여 box-cox변환을 취해도 정규성을 만족시킬 방법이 없음\n",
    "- 노이즈를 추가하면 정규성을 만족시킬 수 있으나 적절하지 못한 방법임.\n",
    "- 따라서 논문에서 읽었던 best subset selection이나 ridge, lasso등의 회귀 기반의 모델은 사용이 어려워짐\n",
    "- 이에 따라 분포에 대한 가정이 필요 없는 non-parametric한 방법의 사용이 필요하게 됨"
   ]
  },
  {
   "cell_type": "markdown",
   "metadata": {},
   "source": [
    "# OUTLIER DETECTION\n"
   ]
  },
  {
   "cell_type": "markdown",
   "metadata": {},
   "source": [
    " ## 1. COLD GAME"
   ]
  },
  {
   "cell_type": "code",
   "execution_count": 19,
   "metadata": {},
   "outputs": [
    {
     "data": {
      "text/html": [
       "<div>\n",
       "<style scoped>\n",
       "    .dataframe tbody tr th:only-of-type {\n",
       "        vertical-align: middle;\n",
       "    }\n",
       "\n",
       "    .dataframe tbody tr th {\n",
       "        vertical-align: top;\n",
       "    }\n",
       "\n",
       "    .dataframe thead th {\n",
       "        text-align: right;\n",
       "    }\n",
       "</style>\n",
       "<table border=\"1\" class=\"dataframe\">\n",
       "  <thead>\n",
       "    <tr style=\"text-align: right;\">\n",
       "      <th></th>\n",
       "      <th>G_ID</th>\n",
       "      <th>GDAY_DS</th>\n",
       "      <th>T_ID</th>\n",
       "      <th>VS_T_ID</th>\n",
       "      <th>HEADER_NO</th>\n",
       "      <th>TB_SC</th>\n",
       "      <th>PA</th>\n",
       "      <th>AB</th>\n",
       "      <th>RBI</th>\n",
       "      <th>RUN</th>\n",
       "      <th>...</th>\n",
       "      <th>IB</th>\n",
       "      <th>HP</th>\n",
       "      <th>KK</th>\n",
       "      <th>GD</th>\n",
       "      <th>ERR</th>\n",
       "      <th>LOB</th>\n",
       "      <th>P_HRA_RT</th>\n",
       "      <th>P_AB_CN</th>\n",
       "      <th>P_HIT_CN</th>\n",
       "      <th>AVG</th>\n",
       "    </tr>\n",
       "  </thead>\n",
       "  <tbody>\n",
       "    <tr>\n",
       "      <th>766</th>\n",
       "      <td>20170702HTLG0</td>\n",
       "      <td>20170702</td>\n",
       "      <td>LG</td>\n",
       "      <td>HT</td>\n",
       "      <td>0</td>\n",
       "      <td>B</td>\n",
       "      <td>26</td>\n",
       "      <td>22</td>\n",
       "      <td>4</td>\n",
       "      <td>4</td>\n",
       "      <td>...</td>\n",
       "      <td>0</td>\n",
       "      <td>0</td>\n",
       "      <td>4</td>\n",
       "      <td>1</td>\n",
       "      <td>1</td>\n",
       "      <td>4</td>\n",
       "      <td>0.400000</td>\n",
       "      <td>10</td>\n",
       "      <td>4</td>\n",
       "      <td>0.363636</td>\n",
       "    </tr>\n",
       "    <tr>\n",
       "      <th>767</th>\n",
       "      <td>20170702HTLG0</td>\n",
       "      <td>20170702</td>\n",
       "      <td>HT</td>\n",
       "      <td>LG</td>\n",
       "      <td>0</td>\n",
       "      <td>T</td>\n",
       "      <td>41</td>\n",
       "      <td>34</td>\n",
       "      <td>12</td>\n",
       "      <td>13</td>\n",
       "      <td>...</td>\n",
       "      <td>1</td>\n",
       "      <td>2</td>\n",
       "      <td>7</td>\n",
       "      <td>0</td>\n",
       "      <td>0</td>\n",
       "      <td>8</td>\n",
       "      <td>0.333333</td>\n",
       "      <td>15</td>\n",
       "      <td>5</td>\n",
       "      <td>0.411765</td>\n",
       "    </tr>\n",
       "    <tr>\n",
       "      <th>768</th>\n",
       "      <td>20170702NCLT0</td>\n",
       "      <td>20170702</td>\n",
       "      <td>LT</td>\n",
       "      <td>NC</td>\n",
       "      <td>0</td>\n",
       "      <td>B</td>\n",
       "      <td>37</td>\n",
       "      <td>32</td>\n",
       "      <td>2</td>\n",
       "      <td>2</td>\n",
       "      <td>...</td>\n",
       "      <td>0</td>\n",
       "      <td>1</td>\n",
       "      <td>6</td>\n",
       "      <td>0</td>\n",
       "      <td>0</td>\n",
       "      <td>11</td>\n",
       "      <td>0.000000</td>\n",
       "      <td>7</td>\n",
       "      <td>0</td>\n",
       "      <td>0.250000</td>\n",
       "    </tr>\n",
       "    <tr>\n",
       "      <th>769</th>\n",
       "      <td>20170702NCLT0</td>\n",
       "      <td>20170702</td>\n",
       "      <td>NC</td>\n",
       "      <td>LT</td>\n",
       "      <td>0</td>\n",
       "      <td>T</td>\n",
       "      <td>36</td>\n",
       "      <td>30</td>\n",
       "      <td>1</td>\n",
       "      <td>1</td>\n",
       "      <td>...</td>\n",
       "      <td>0</td>\n",
       "      <td>1</td>\n",
       "      <td>8</td>\n",
       "      <td>1</td>\n",
       "      <td>2</td>\n",
       "      <td>8</td>\n",
       "      <td>0.000000</td>\n",
       "      <td>4</td>\n",
       "      <td>0</td>\n",
       "      <td>0.166667</td>\n",
       "    </tr>\n",
       "    <tr>\n",
       "      <th>770</th>\n",
       "      <td>20170702SSSK0</td>\n",
       "      <td>20170702</td>\n",
       "      <td>SK</td>\n",
       "      <td>SS</td>\n",
       "      <td>0</td>\n",
       "      <td>B</td>\n",
       "      <td>25</td>\n",
       "      <td>25</td>\n",
       "      <td>6</td>\n",
       "      <td>6</td>\n",
       "      <td>...</td>\n",
       "      <td>0</td>\n",
       "      <td>0</td>\n",
       "      <td>4</td>\n",
       "      <td>0</td>\n",
       "      <td>0</td>\n",
       "      <td>6</td>\n",
       "      <td>0.333333</td>\n",
       "      <td>12</td>\n",
       "      <td>4</td>\n",
       "      <td>0.480000</td>\n",
       "    </tr>\n",
       "    <tr>\n",
       "      <th>771</th>\n",
       "      <td>20170702SSSK0</td>\n",
       "      <td>20170702</td>\n",
       "      <td>SS</td>\n",
       "      <td>SK</td>\n",
       "      <td>0</td>\n",
       "      <td>T</td>\n",
       "      <td>29</td>\n",
       "      <td>24</td>\n",
       "      <td>5</td>\n",
       "      <td>5</td>\n",
       "      <td>...</td>\n",
       "      <td>0</td>\n",
       "      <td>1</td>\n",
       "      <td>4</td>\n",
       "      <td>1</td>\n",
       "      <td>0</td>\n",
       "      <td>9</td>\n",
       "      <td>0.250000</td>\n",
       "      <td>8</td>\n",
       "      <td>2</td>\n",
       "      <td>0.416667</td>\n",
       "    </tr>\n",
       "    <tr>\n",
       "      <th>772</th>\n",
       "      <td>20170702WOKT0</td>\n",
       "      <td>20170702</td>\n",
       "      <td>KT</td>\n",
       "      <td>WO</td>\n",
       "      <td>0</td>\n",
       "      <td>B</td>\n",
       "      <td>19</td>\n",
       "      <td>17</td>\n",
       "      <td>1</td>\n",
       "      <td>1</td>\n",
       "      <td>...</td>\n",
       "      <td>0</td>\n",
       "      <td>0</td>\n",
       "      <td>3</td>\n",
       "      <td>0</td>\n",
       "      <td>2</td>\n",
       "      <td>3</td>\n",
       "      <td>0.000000</td>\n",
       "      <td>3</td>\n",
       "      <td>0</td>\n",
       "      <td>0.176471</td>\n",
       "    </tr>\n",
       "    <tr>\n",
       "      <th>773</th>\n",
       "      <td>20170702WOKT0</td>\n",
       "      <td>20170702</td>\n",
       "      <td>WO</td>\n",
       "      <td>KT</td>\n",
       "      <td>0</td>\n",
       "      <td>T</td>\n",
       "      <td>30</td>\n",
       "      <td>27</td>\n",
       "      <td>5</td>\n",
       "      <td>5</td>\n",
       "      <td>...</td>\n",
       "      <td>0</td>\n",
       "      <td>0</td>\n",
       "      <td>6</td>\n",
       "      <td>0</td>\n",
       "      <td>0</td>\n",
       "      <td>7</td>\n",
       "      <td>0.400000</td>\n",
       "      <td>10</td>\n",
       "      <td>4</td>\n",
       "      <td>0.333333</td>\n",
       "    </tr>\n",
       "  </tbody>\n",
       "</table>\n",
       "<p>8 rows × 29 columns</p>\n",
       "</div>"
      ],
      "text/plain": [
       "              G_ID   GDAY_DS T_ID VS_T_ID  HEADER_NO TB_SC  PA  AB  RBI  RUN  \\\n",
       "766  20170702HTLG0  20170702   LG      HT          0     B  26  22    4    4   \n",
       "767  20170702HTLG0  20170702   HT      LG          0     T  41  34   12   13   \n",
       "768  20170702NCLT0  20170702   LT      NC          0     B  37  32    2    2   \n",
       "769  20170702NCLT0  20170702   NC      LT          0     T  36  30    1    1   \n",
       "770  20170702SSSK0  20170702   SK      SS          0     B  25  25    6    6   \n",
       "771  20170702SSSK0  20170702   SS      SK          0     T  29  24    5    5   \n",
       "772  20170702WOKT0  20170702   KT      WO          0     B  19  17    1    1   \n",
       "773  20170702WOKT0  20170702   WO      KT          0     T  30  27    5    5   \n",
       "\n",
       "     ...  IB  HP  KK  GD  ERR  LOB  P_HRA_RT  P_AB_CN  P_HIT_CN       AVG  \n",
       "766  ...   0   0   4   1    1    4  0.400000       10         4  0.363636  \n",
       "767  ...   1   2   7   0    0    8  0.333333       15         5  0.411765  \n",
       "768  ...   0   1   6   0    0   11  0.000000        7         0  0.250000  \n",
       "769  ...   0   1   8   1    2    8  0.000000        4         0  0.166667  \n",
       "770  ...   0   0   4   0    0    6  0.333333       12         4  0.480000  \n",
       "771  ...   0   1   4   1    0    9  0.250000        8         2  0.416667  \n",
       "772  ...   0   0   3   0    2    3  0.000000        3         0  0.176471  \n",
       "773  ...   0   0   6   0    0    7  0.400000       10         4  0.333333  \n",
       "\n",
       "[8 rows x 29 columns]"
      ]
     },
     "execution_count": 19,
     "metadata": {},
     "output_type": "execute_result"
    }
   ],
   "source": [
    "\n",
    "#2017년 7월 2일 kt와 넥센의 경기 역시 강우콜드 처리되어 넥센이 승리를 가져갔다.\n",
    "#이날 삼성 - SK 경기에선 5회 말 5대 6 리드 상황에서 우천 취소되어 SK가 이겼으며, \n",
    "#잠실에서 벌어진 KIA - LG의 경기 역시 강우콜드 선언이 되었다. \n",
    "team_2017[ (team_2017['GDAY_DS']==20170702)]\n",
    "#즉,20170702WOKT0,20170702SSSK0,20170702HTLG0는 이상치로 간주하고 제거하는게 좋을 것 같다."
   ]
  },
  {
   "cell_type": "markdown",
   "metadata": {},
   "source": [
    "2019년 4월 7일 한화 이글스와 롯데 자이언츠의 경기에서도 7회 초에 우천 중단 되었다가 콜드게임이 선언되었다. "
   ]
  },
  {
   "cell_type": "code",
   "execution_count": 20,
   "metadata": {},
   "outputs": [
    {
     "data": {
      "text/html": [
       "<div>\n",
       "<style scoped>\n",
       "    .dataframe tbody tr th:only-of-type {\n",
       "        vertical-align: middle;\n",
       "    }\n",
       "\n",
       "    .dataframe tbody tr th {\n",
       "        vertical-align: top;\n",
       "    }\n",
       "\n",
       "    .dataframe thead th {\n",
       "        text-align: right;\n",
       "    }\n",
       "</style>\n",
       "<table border=\"1\" class=\"dataframe\">\n",
       "  <thead>\n",
       "    <tr style=\"text-align: right;\">\n",
       "      <th></th>\n",
       "      <th>G_ID</th>\n",
       "      <th>GDAY_DS</th>\n",
       "      <th>T_ID</th>\n",
       "      <th>VS_T_ID</th>\n",
       "      <th>HEADER_NO</th>\n",
       "      <th>TB_SC</th>\n",
       "      <th>PA</th>\n",
       "      <th>AB</th>\n",
       "      <th>RBI</th>\n",
       "      <th>RUN</th>\n",
       "      <th>...</th>\n",
       "      <th>IB</th>\n",
       "      <th>HP</th>\n",
       "      <th>KK</th>\n",
       "      <th>GD</th>\n",
       "      <th>ERR</th>\n",
       "      <th>LOB</th>\n",
       "      <th>P_HRA_RT</th>\n",
       "      <th>P_AB_CN</th>\n",
       "      <th>P_HIT_CN</th>\n",
       "      <th>AVG</th>\n",
       "    </tr>\n",
       "  </thead>\n",
       "  <tbody>\n",
       "    <tr>\n",
       "      <th>130</th>\n",
       "      <td>20190407HHLT0</td>\n",
       "      <td>20190407</td>\n",
       "      <td>HH</td>\n",
       "      <td>LT</td>\n",
       "      <td>0</td>\n",
       "      <td>T</td>\n",
       "      <td>39</td>\n",
       "      <td>36</td>\n",
       "      <td>16</td>\n",
       "      <td>16</td>\n",
       "      <td>...</td>\n",
       "      <td>0</td>\n",
       "      <td>0</td>\n",
       "      <td>7</td>\n",
       "      <td>2</td>\n",
       "      <td>0</td>\n",
       "      <td>5</td>\n",
       "      <td>0.6</td>\n",
       "      <td>15</td>\n",
       "      <td>9</td>\n",
       "      <td>0.527778</td>\n",
       "    </tr>\n",
       "  </tbody>\n",
       "</table>\n",
       "<p>1 rows × 29 columns</p>\n",
       "</div>"
      ],
      "text/plain": [
       "              G_ID   GDAY_DS T_ID VS_T_ID  HEADER_NO TB_SC  PA  AB  RBI  RUN  \\\n",
       "130  20190407HHLT0  20190407   HH      LT          0     T  39  36   16   16   \n",
       "\n",
       "     ...  IB  HP  KK  GD  ERR  LOB  P_HRA_RT  P_AB_CN  P_HIT_CN       AVG  \n",
       "130  ...   0   0   7   2    0    5       0.6       15         9  0.527778  \n",
       "\n",
       "[1 rows x 29 columns]"
      ]
     },
     "execution_count": 20,
     "metadata": {},
     "output_type": "execute_result"
    }
   ],
   "source": [
    "team_2019[ (team_2019['GDAY_DS']==20190407)&(team_2019['T_ID']=='HH')]"
   ]
  },
  {
   "cell_type": "markdown",
   "metadata": {},
   "source": [
    "2020년 6월 10일 수원 케이티 위즈 파크에서 열린 KIA 타이거즈와 kt wiz의 경기에서도 KIA가 10대 0으로 크게 이기고 있는 상황에서 5회 말 종료 이후 우천 중단 되었다가 콜드게임이 선언되었다."
   ]
  },
  {
   "cell_type": "code",
   "execution_count": 21,
   "metadata": {},
   "outputs": [
    {
     "data": {
      "text/html": [
       "<div>\n",
       "<style scoped>\n",
       "    .dataframe tbody tr th:only-of-type {\n",
       "        vertical-align: middle;\n",
       "    }\n",
       "\n",
       "    .dataframe tbody tr th {\n",
       "        vertical-align: top;\n",
       "    }\n",
       "\n",
       "    .dataframe thead th {\n",
       "        text-align: right;\n",
       "    }\n",
       "</style>\n",
       "<table border=\"1\" class=\"dataframe\">\n",
       "  <thead>\n",
       "    <tr style=\"text-align: right;\">\n",
       "      <th></th>\n",
       "      <th>G_ID</th>\n",
       "      <th>GDAY_DS</th>\n",
       "      <th>T_ID</th>\n",
       "      <th>VS_T_ID</th>\n",
       "      <th>HEADER_NO</th>\n",
       "      <th>TB_SC</th>\n",
       "      <th>PA</th>\n",
       "      <th>AB</th>\n",
       "      <th>RBI</th>\n",
       "      <th>RUN</th>\n",
       "      <th>...</th>\n",
       "      <th>IB</th>\n",
       "      <th>HP</th>\n",
       "      <th>KK</th>\n",
       "      <th>GD</th>\n",
       "      <th>ERR</th>\n",
       "      <th>LOB</th>\n",
       "      <th>P_HRA_RT</th>\n",
       "      <th>P_AB_CN</th>\n",
       "      <th>P_HIT_CN</th>\n",
       "      <th>AVG</th>\n",
       "    </tr>\n",
       "  </thead>\n",
       "  <tbody>\n",
       "    <tr>\n",
       "      <th>307</th>\n",
       "      <td>20200610HTKT0</td>\n",
       "      <td>20200610</td>\n",
       "      <td>HT</td>\n",
       "      <td>KT</td>\n",
       "      <td>0</td>\n",
       "      <td>T</td>\n",
       "      <td>32</td>\n",
       "      <td>21</td>\n",
       "      <td>9</td>\n",
       "      <td>10</td>\n",
       "      <td>...</td>\n",
       "      <td>0</td>\n",
       "      <td>2</td>\n",
       "      <td>3</td>\n",
       "      <td>0</td>\n",
       "      <td>0</td>\n",
       "      <td>7</td>\n",
       "      <td>0.272727</td>\n",
       "      <td>11</td>\n",
       "      <td>3</td>\n",
       "      <td>0.333333</td>\n",
       "    </tr>\n",
       "  </tbody>\n",
       "</table>\n",
       "<p>1 rows × 29 columns</p>\n",
       "</div>"
      ],
      "text/plain": [
       "              G_ID   GDAY_DS T_ID VS_T_ID  HEADER_NO TB_SC  PA  AB  RBI  RUN  \\\n",
       "307  20200610HTKT0  20200610   HT      KT          0     T  32  21    9   10   \n",
       "\n",
       "     ...  IB  HP  KK  GD  ERR  LOB  P_HRA_RT  P_AB_CN  P_HIT_CN       AVG  \n",
       "307  ...   0   2   3   0    0    7  0.272727       11         3  0.333333  \n",
       "\n",
       "[1 rows x 29 columns]"
      ]
     },
     "execution_count": 21,
     "metadata": {},
     "output_type": "execute_result"
    }
   ],
   "source": [
    "team_2020[ (team_2020['GDAY_DS']==20200610)&(team_2020['T_ID']=='HT')]"
   ]
  },
  {
   "cell_type": "code",
   "execution_count": 22,
   "metadata": {},
   "outputs": [],
   "source": [
    "#최종적으로 콜드게임으로 인한 이상치로 규정한 경기들:\n",
    "cold_list=['20170702WOKT0','20170702SSSK0','20170702HTLG0','20190407HHLT0','20200610HTKT0']"
   ]
  },
  {
   "cell_type": "markdown",
   "metadata": {},
   "source": [
    "# OUTLIER DETECTION using IQR-팀타자\n",
    "- 오직 팀타자 데이터 한정 이상치 제거\n",
    "- 타깃 변수 및 운적인 요소를 많이 받는 지표들에 대해서 이상치 검정을 시행\n",
    "- 만약 2개 이상의 변수에 대해 이상치 판정을 받는다면, 운 적인 요소가 많이 작용했던 경기로 간주하고 제거하는 방법 채택(n을 더 크게 설정하면 더 보수적인 이상치 선정이 됨)"
   ]
  },
  {
   "cell_type": "code",
   "execution_count": 23,
   "metadata": {},
   "outputs": [],
   "source": [
    "\n",
    "team_2016=data_team_hitter[0]\n",
    "team_2017=data_team_hitter[1]\n",
    "team_2018=data_team_hitter[2]\n",
    "team_2019=data_team_hitter[3]\n",
    "team_2020=data_team_hitter[4]\n",
    "df_list=[team_2016,team_2017,team_2018,team_2019,team_2020]\n",
    "team=pd.concat(df_list,axis=0)"
   ]
  },
  {
   "cell_type": "code",
   "execution_count": 24,
   "metadata": {},
   "outputs": [
    {
     "data": {
      "text/plain": [
       "<seaborn.axisgrid.FacetGrid at 0x1e92d27e548>"
      ]
     },
     "execution_count": 24,
     "metadata": {},
     "output_type": "execute_result"
    },
    {
     "data": {
      "image/png": "[encoded data removed]",
      "text/plain": [
       "<Figure size 360x360 with 1 Axes>"
      ]
     },
     "metadata": {
      "needs_background": "light"
     },
     "output_type": "display_data"
    }
   ],
   "source": [
    "sns.factorplot(data=team,x='T_ID',y='CS',kind='box')"
   ]
  },
  {
   "cell_type": "code",
   "execution_count": 25,
   "metadata": {},
   "outputs": [
    {
     "data": {
      "text/plain": [
       "<seaborn.axisgrid.FacetGrid at 0x1e92d8e9b48>"
      ]
     },
     "execution_count": 25,
     "metadata": {},
     "output_type": "execute_result"
    },
    {
     "data": {
      "image/png": "[encoded data removed]",
      "text/plain": [
       "<Figure size 360x360 with 1 Axes>"
      ]
     },
     "metadata": {
      "needs_background": "light"
     },
     "output_type": "display_data"
    }
   ],
   "source": [
    "sns.factorplot(data=team,x='T_ID',y='HP',kind='box')"
   ]
  },
  {
   "cell_type": "code",
   "execution_count": 26,
   "metadata": {},
   "outputs": [],
   "source": [
    "\n",
    "from collections import Counter\n",
    "def detect_outliers(df, n, features):\n",
    "    outlier_indices = [] \n",
    "    for col in features:\n",
    "        Q1 = np.percentile(df[col], 25)\n",
    "        Q3 = np.percentile(df[col], 75)\n",
    "        IQR = Q3 - Q1 \n",
    "        outlier_step = 1.5 * IQR \n",
    "        outlier_list_col = df[(df[col] < Q1 - outlier_step) | (df[col] > Q3 + outlier_step)].index \n",
    "        outlier_indices.extend(outlier_list_col) \n",
    "    outlier_indices = Counter(outlier_indices) \n",
    "    multiple_outliers = list(k for k, v in outlier_indices.items() if v > n) \n",
    "    return multiple_outliers \n",
    "\n",
    "#운적인 지표 및 타율에 대해서만 이상치 제거 시행.\n",
    "#2개 이상의 피쳐에 대해서 이상치가 발생했다면 이상치로 규정(운적인 요소가 많이 작용했을 가능성이 높기 때문에)"
   ]
  },
  {
   "cell_type": "code",
   "execution_count": 27,
   "metadata": {},
   "outputs": [
    {
     "data": {
      "text/plain": [
       "['20200610HTKT0',\n",
       " '20190407HHLT0',\n",
       " '20190928NCKT0',\n",
       " '20190630HTKT0',\n",
       " '20190823NCLG0',\n",
       " '20170617SKSS0',\n",
       " '20170919KTLG0',\n",
       " '20180613SKHT0',\n",
       " '20170708HTKT0',\n",
       " '20170818HHNC0',\n",
       " '20180811HTSK0',\n",
       " '20180915NCOB0',\n",
       " '20170702HTLG0',\n",
       " '20170521WOKT0',\n",
       " '20170719NCHH0',\n",
       " '20170702WOKT0',\n",
       " '20190820HTLG0',\n",
       " '20190825WOSS0',\n",
       " '20190515KTHT0',\n",
       " '20160831NCKT0',\n",
       " '20170930WONC0',\n",
       " '20170702SSSK0',\n",
       " '20200625NCKT2',\n",
       " '20180904LGKT0',\n",
       " '20170917OBSS0',\n",
       " '20190831WONC0']"
      ]
     },
     "execution_count": 27,
     "metadata": {},
     "output_type": "execute_result"
    }
   ],
   "source": [
    "team_list=team_2016['T_ID'].unique()\n",
    "outlier_G_list_hitter=[]\n",
    "for i in team_list:    \n",
    "    Outliers_to_drop = detect_outliers(team[team['T_ID']==i], 2, [ \n",
    "       'CS',  'HP', 'ERR', 'P_HRA_RT', 'P_AB_CN', 'P_HIT_CN'])\n",
    "    ID=team[team['T_ID']==i].loc[Outliers_to_drop]['G_ID'].unique()\n",
    "    outlier_G_list_hitter.extend(ID)\n",
    "outlier_G_list_hitter.extend(cold_list)    \n",
    "\n",
    "#고유값 갖게 하기 위해\n",
    "outlier_G_list_hitter=list(set(outlier_G_list_hitter))\n",
    "\n",
    "outlier_G_list_hitter"
   ]
  },
  {
   "cell_type": "markdown",
   "metadata": {},
   "source": [
    "# OUTLIER DETECTION using IQR-팀투수"
   ]
  },
  {
   "cell_type": "code",
   "execution_count": 28,
   "metadata": {},
   "outputs": [
    {
     "data": {
      "text/plain": [
       "<seaborn.axisgrid.FacetGrid at 0x1e92e278888>"
      ]
     },
     "execution_count": 28,
     "metadata": {},
     "output_type": "execute_result"
    },
    {
     "data": {
      "image/png": "[encoded data removed]",
      "text/plain": [
       "<Figure size 360x360 with 1 Axes>"
      ]
     },
     "metadata": {
      "needs_background": "light"
     },
     "output_type": "display_data"
    }
   ],
   "source": [
    "team_2016=data_team_pitcher[0]\n",
    "team_2017=data_team_pitcher[1]\n",
    "team_2018=data_team_pitcher[2]\n",
    "team_2019=data_team_pitcher[3]\n",
    "team_2020=data_team_pitcher[4]\n",
    "df_list=[team_2016,team_2017,team_2018,team_2019,team_2020]\n",
    "team=pd.concat(df_list,axis=0)\n",
    "sns.factorplot(data=team,x='T_ID',y='BK',kind='box')\n"
   ]
  },
  {
   "cell_type": "code",
   "execution_count": 29,
   "metadata": {},
   "outputs": [
    {
     "data": {
      "text/plain": [
       "<seaborn.axisgrid.FacetGrid at 0x1e92c6ceac8>"
      ]
     },
     "execution_count": 29,
     "metadata": {},
     "output_type": "execute_result"
    },
    {
     "data": {
      "image/png": "[encoded data removed]",
      "text/plain": [
       "<Figure size 360x360 with 1 Axes>"
      ]
     },
     "metadata": {
      "needs_background": "light"
     },
     "output_type": "display_data"
    }
   ],
   "source": [
    "sns.factorplot(data=team,x='T_ID',y='WP',kind='box')\n"
   ]
  },
  {
   "cell_type": "code",
   "execution_count": 30,
   "metadata": {},
   "outputs": [
    {
     "data": {
      "text/plain": [
       "['20200610HTKT0',\n",
       " '20190407HHLT0',\n",
       " '20200512HTHH0',\n",
       " '20180523OBHH0',\n",
       " '20190608LTKT0',\n",
       " '20200705LGSS0',\n",
       " '20170702HTLG0',\n",
       " '20180610WOKT0',\n",
       " '20160408HTKT0',\n",
       " '20160505OBLG0',\n",
       " '20180422WOHH0',\n",
       " '20190521OBKT0',\n",
       " '20170616HHKT0',\n",
       " '20180529KTSS0',\n",
       " '20170702WOKT0',\n",
       " '20170502OBSS0',\n",
       " '20200602WOHH0',\n",
       " '20160619NCKT0',\n",
       " '20170702SSSK0',\n",
       " '20180426OBSK0']"
      ]
     },
     "execution_count": 30,
     "metadata": {},
     "output_type": "execute_result"
    }
   ],
   "source": [
    "\n",
    "outlier_G_list_pitcher=[]\n",
    "for i in team_list:    \n",
    "    Outliers_to_drop = detect_outliers(team[team['T_ID']==i], 3, [ \n",
    "       'CS',  'HP', 'ERR', 'BK', 'WP','ER'])\n",
    "    ID=team[team['T_ID']==i].loc[Outliers_to_drop]['G_ID'].unique()\n",
    "    outlier_G_list_pitcher.extend(ID)\n",
    "outlier_G_list_pitcher.extend(cold_list)    \n",
    "\n",
    "#고유값 갖게 하기 위해\n",
    "outlier_G_list_pitcher=list(set(outlier_G_list_pitcher))\n",
    "\n",
    "outlier_G_list_pitcher"
   ]
  },
  {
   "cell_type": "markdown",
   "metadata": {},
   "source": [
    "- 최종적으로는 팀 투수 데이터에서는 outlier_G_list_pitcher에 있는 데이터를, 팀 타자 데이터에서는 outlier_G_list_hitter에 있는 경기 데이터를 지우고 학습 진행"
   ]
  },
  {
   "cell_type": "code",
   "execution_count": null,
   "metadata": {},
   "outputs": [],
   "source": []
  }
 ],
 "metadata": {
  "kernelspec": {
   "display_name": "Python 3",
   "language": "python",
   "name": "python3"
  },
  "language_info": {
   "codemirror_mode": {
    "name": "ipython",
    "version": 3
   },
   "file_extension": ".py",
   "mimetype": "text/x-python",
   "name": "python",
   "nbconvert_exporter": "python",
   "pygments_lexer": "ipython3",
   "version": "3.7.6"
  }
 },
 "nbformat": 4,
 "nbformat_minor": 4
}
