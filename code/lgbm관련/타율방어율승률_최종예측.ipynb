{
 "cells": [
  {
   "cell_type": "markdown",
   "metadata": {},
   "source": [
    "참고 : 해당하는 달까지에 대한 데이터를 넣어주면, 최종적으로 다음달을 예측함!!!\n",
    "\n",
    "- 현재 이 코드는 7월까지 있어서 8월(7월의 y_next)을 예측함 !!!!\n",
    "- 우리가 9월데이터까지를 추가하면 10월꺼를 예측하는 것임!!! \n"
   ]
  },
  {
   "cell_type": "code",
   "execution_count": 19,
   "metadata": {},
   "outputs": [],
   "source": [
    "# 기본\n",
    "import os\n",
    "import itertools\n",
    "import numpy as np\n",
    "import pandas as pd\n",
    "import seaborn as sns\n",
    "import matplotlib as mpl\n",
    "import matplotlib.pyplot as plt\n",
    "%matplotlib inline\n",
    "from sklearn.externals import joblib \n",
    "from sklearn.metrics import make_scorer\n",
    "from sklearn.metrics import mean_absolute_error\n",
    "from sklearn.metrics import mean_squared_error\n",
    "from datetime import datetime as dt\n",
    "\n",
    "# 회귀분석\n",
    "from sklearn.svm import SVR\n",
    "from xgboost import XGBRegressor\n",
    "from sklearn.ensemble import RandomForestRegressor\n",
    "from sklearn.pipeline import make_pipeline, Pipeline\n",
    "from sklearn.ensemble import GradientBoostingRegressor\n",
    "from sklearn.model_selection import KFold, cross_val_score, GridSearchCV, train_test_split\n",
    "from sklearn.linear_model import LinearRegression, Ridge, Lasso, ElasticNet\n",
    "from sklearn.ensemble import RandomForestRegressor\n",
    "from xgboost import XGBRegressor\n",
    "from lightgbm import LGBMRegressor\n",
    "from math import sqrt\n",
    "\n",
    "import warnings\n",
    "warnings.filterwarnings(\"ignore\")"
   ]
  },
  {
   "cell_type": "code",
   "execution_count": 20,
   "metadata": {},
   "outputs": [],
   "source": [
    "data_dir='C:/Users/KimMinyoung/desktop/깃헙관련/빅콘git/data/total'\n",
    "data_list = os.listdir(data_dir)\n",
    "#print(len(data_list))\n",
    "#print(data_list)"
   ]
  },
  {
   "cell_type": "code",
   "execution_count": 21,
   "metadata": {
    "scrolled": false
   },
   "outputs": [],
   "source": [
    "#년도별 저장\n",
    "data_list_2016 = [data_list[x] for x in range(len(data_list)) if data_list[x].split('_')[-1].startswith('2016') ]\n",
    "data_2016 = [pd.read_csv(os.path.join(data_dir,data_list_2016[x]),encoding='cp949') for x in range(len(data_list_2016))]\n",
    "data_list_2017 = [data_list[x] for x in range(len(data_list)) if data_list[x].split('_')[-1].startswith('2017') ]\n",
    "data_2017 = [pd.read_csv(os.path.join(data_dir,data_list_2017[x]),encoding='cp949') for x in range(len(data_list_2017))]\n",
    "data_list_2018 = [data_list[x] for x in range(len(data_list)) if data_list[x].split('_')[-1].startswith('2018') ]\n",
    "data_2018 = [pd.read_csv(os.path.join(data_dir,data_list_2018[x]),encoding='cp949') for x in range(len(data_list_2018))]\n",
    "data_list_2019 = [data_list[x] for x in range(len(data_list)) if data_list[x].split('_')[-1].startswith('2019') ]\n",
    "data_2019 = [pd.read_csv(os.path.join(data_dir,data_list_2019[x]),encoding='cp949') for x in range(len(data_list_2019))]\n",
    "data_list_2020 = [data_list[x] for x in range(len(data_list)) if data_list[x].split('_')[-1].startswith('2020') ]\n",
    "data_2020 = [pd.read_csv(os.path.join(data_dir,data_list_2020[x]),encoding='cp949') for x in range(len(data_list_2020))]\n",
    "#print('2020년 데이터: \\n', data_2020)\n",
    "\n",
    "#항목별 저장\n",
    "data_list_single_hitter = [data_list[x] for x in range(len(data_list)) if data_list[x].split('_')[-2].startswith('개인타자')]\n",
    "data_single_hitter = [pd.read_csv(os.path.join(data_dir, data_list_single_hitter[x]), encoding='cp949') for x in range(len(data_list_single_hitter))]\n",
    "data_list_single_pitcher = [data_list[x] for x in range(len(data_list)) if data_list[x].split('_')[-2].startswith('개인투수')]\n",
    "data_single_pitcher = [pd.read_csv(os.path.join(data_dir, data_list_single_pitcher[x]), encoding='cp949') for x in range(len(data_list_single_pitcher))]\n",
    "data_list_games = [data_list[x] for x in range(len(data_list)) if data_list[x].split('_')[-2].startswith('경기')]\n",
    "data_games = [pd.read_csv(os.path.join(data_dir, data_list_games[x]), encoding='cp949') for x in range(len(data_list_games))]\n",
    "data_list_player_enroll = [data_list[x] for x in range(len(data_list)) if data_list[x].split('_')[-2].startswith('등록선수')]\n",
    "data_player_enroll = [pd.read_csv(os.path.join(data_dir, data_list_player_enroll[x]), encoding='cp949') for x in range(len(data_list_player_enroll))]\n",
    "data_list_players = [data_list[x] for x in range(len(data_list)) if data_list[x].split('_')[-2].startswith('선수')]\n",
    "data_players = [pd.read_csv(os.path.join(data_dir, data_list_players[x]), encoding='cp949') for x in range(len(data_list_players))]\n",
    "data_list_teams = [data_list[x] for x in range(len(data_list)) if data_list[x].split('_')[-2].startswith('팀')]\n",
    "data_teams = [pd.read_csv(os.path.join(data_dir, data_list_teams[x]), encoding='cp949') for x in range(len(data_list_teams))]\n",
    "data_list_team_hitter = [data_list[x] for x in range(len(data_list)) if data_list[x].split('_')[-2].startswith('팀타자')]\n",
    "data_team_hitter = [pd.read_csv(os.path.join(data_dir, data_list_team_hitter[x]), encoding='cp949') for x in range(len(data_list_team_hitter))]\n",
    "data_list_team_pitcher = [data_list[x] for x in range(len(data_list)) if data_list[x].split('_')[-2].startswith('팀투수')]\n",
    "data_team_pitcher = [pd.read_csv(os.path.join(data_dir, data_list_team_pitcher[x]), encoding='cp949') for x in range(len(data_list_team_pitcher))]\n",
    "#print('팀투수 데이터:\\n', data_team_pitcher)"
   ]
  },
  {
   "cell_type": "markdown",
   "metadata": {},
   "source": [
    "# 전처리"
   ]
  },
  {
   "cell_type": "markdown",
   "metadata": {},
   "source": [
    "### 1. 투수"
   ]
  },
  {
   "cell_type": "code",
   "execution_count": 22,
   "metadata": {},
   "outputs": [],
   "source": [
    "from sklearn.preprocessing import LabelEncoder\n",
    "\n",
    "def team_pitcher_eda(year, team_name):\n",
    "    year_index = year - 2016 \n",
    "    \n",
    "    # team_pitcher data에 해당 경기의 해당 팀의 홈 어웨이 여부 column 추가\n",
    "    data_games_year = data_games[year_index]\n",
    "    data_games_year = data_games_year[['G_ID', 'VISIT_KEY', 'HOME_KEY']]\n",
    "    data_games_year = data_games_year.set_index('G_ID')\n",
    "    \n",
    "    data_team_pitcher_year = data_team_pitcher[year_index]\n",
    "    data_team_pitcher_year = pd.merge(data_team_pitcher_year, data_games_year, how='left', on=['G_ID'])\n",
    "\n",
    "    data_team_pitcher_year_team = data_team_pitcher_year[data_team_pitcher_year.T_ID == team_name]\n",
    "    df = data_team_pitcher_year_team\n",
    "    df['HOME_KEY'] = df['HOME_KEY'].map(lambda x: 1 if x == team_name else 0 )\n",
    "    df = df.drop(columns = ['VISIT_KEY', 'GDAY_DS'])\n",
    "    \n",
    "    # LabelEncoding\n",
    "    encoder = LabelEncoder()\n",
    "\n",
    "    df['VS_T_ID'] = encoder.fit_transform(df['VS_T_ID']) #상대편\n",
    "    df['TB_SC'] = encoder.fit_transform(df['TB_SC']) #이닝 초/말\n",
    "    df['WLS'] = encoder.fit_transform(df['WLS']) #승패무 여부\n",
    "    \n",
    "    \n",
    "    ### 이부분은 모든 EDA에서 동일하게 작성\n",
    "    \n",
    "    df['H1']=df['HIT']-df['H2']-df['H3']-df['HR']\n",
    "\n",
    "    #df['G_ID'] = pd.Series(dt)\n",
    "    df['year']=df['G_ID'].str.slice(0,4).astype(int)\n",
    "    df['month']=df['G_ID'].str.slice(4,6).astype(int)\n",
    "    \n",
    "    df[\"FIP\"] = ((13*df.HR+3*(df.BB+df.HP-df.IB)-2*df.KK)/(df.INN2/3)) +3.2\n",
    "    df[\"BABIP\"] = (df.HIT-df.HR)/(df.AB-df.KK-df.HR+df.SF)\n",
    "    df['SLG']=(df['HIT']+df['HP']+df['BB'])/(df['AB']+df['BB']+df['HP']+df['SF'])\n",
    "    df['OBA']=(df['H1']+2*df['H2']+3*df['H3']+4*df['HR'])/df['AB']\n",
    "    df['W_OPS']=0.57* df['SLG']+0.43*df['OBA']\n",
    "\n",
    "    # 시계열 데이터(경기당 방어율 계산)이기 때문에 경기 코드를 index로\n",
    "    df = df.set_index('G_ID')\n",
    "\n",
    "    # 경기당 방어율 column 생성\n",
    "    df['ERA'] = df['ER'] * 27 / df['INN2']\n",
    "\n",
    "    df = df.drop(columns=['T_ID'])\n",
    "    df_year_team_name = df\n",
    "    \n",
    "    return df_year_team_name"
   ]
  },
  {
   "cell_type": "markdown",
   "metadata": {},
   "source": [
    "### 2. 타자"
   ]
  },
  {
   "cell_type": "code",
   "execution_count": 23,
   "metadata": {},
   "outputs": [],
   "source": [
    "from sklearn.preprocessing import LabelEncoder\n",
    "from datetime import datetime\n",
    "\n",
    "def team_hitter_eda(year, team_name):\n",
    "    year_index = year - 2016 \n",
    "    \n",
    "    # team_hitter data에 해당 경기의 해당 팀의 홈 어웨이 여부 column 추가\n",
    "    data_games_year = data_games[year_index]\n",
    "    data_games_year = data_games_year[['G_ID', 'VISIT_KEY', 'HOME_KEY']]\n",
    "    data_games_year = data_games_year.set_index('G_ID')\n",
    "    \n",
    "    data_team_hitter_year = data_team_hitter[year_index]\n",
    "    data_team_hitter_year = pd.merge(data_team_hitter_year, data_games_year, how='left', on=['G_ID'])\n",
    "\n",
    "    data_team_hitter_year_team = data_team_hitter_year[data_team_hitter_year.T_ID == team_name]\n",
    "    df = data_team_hitter_year_team\n",
    "    df['HOME_KEY'] = df['HOME_KEY'].map(lambda x: 1 if x == team_name else 0 )\n",
    "    df = df.drop(columns = ['VISIT_KEY', 'G_ID'])\n",
    "    \n",
    "    df.reset_index(inplace=True, drop=True) #index 재정렬\n",
    "    \n",
    "    # LabelEncoding\n",
    "    encoder = LabelEncoder()\n",
    "\n",
    "    df['VS_T_ID'] = encoder.fit_transform(df['VS_T_ID']) #상대편\n",
    "    df['TB_SC'] = encoder.fit_transform(df['TB_SC']) #이닝 초/말\n",
    "    \n",
    "    \n",
    "    ### 이부분은 모든 EDA에서 동일하게 작성\n",
    "    \n",
    "    # GDAY_DS => Datetime type\n",
    "    df['GDAY_DS'] = df['GDAY_DS'].astype(str) + (df['HEADER_NO']+1).astype(str)\n",
    "    df['year']=df['GDAY_DS'].str.slice(0,4).astype(int)\n",
    "    df['month']=df['GDAY_DS'].str.slice(4,6).astype(int)\n",
    "    df['H1']=df['HIT']-df['H2']-df['H3']-df['HR']\n",
    "    dt = []\n",
    "    for i in df['GDAY_DS']:\n",
    "        dt_ = datetime.strptime(i, '%Y%m%d%H')\n",
    "        dt.append(dt_)\n",
    "    df['GDAY_DS'] = pd.Series(dt)\n",
    "    df['month']=df['GDAY_DS'].apply(lambda x: x.month)\n",
    "    \n",
    "    #장타율\n",
    "    df['SLG']=(df['HIT']+df['HP']+df['BB'])/(df['AB']+df['BB']+df['HP']+df['SF'])\n",
    "    #출루율\n",
    "    df['OBA']=(df['H1']+2*df['H2']+3*df['H3']+4*df['HR'])/df['AB']\n",
    "    df['W_OPS']=0.57* df['SLG']+0.43*df['OBA']\n",
    "    \n",
    "    \n",
    "    \n",
    "    df = df.drop(columns=['T_ID'])\n",
    "    #lags\n",
    "    #lags=[1,4,6,12,30,60]\n",
    "    #for lag in lags:\n",
    "    #    df['AVG_lag_'+str(lag)]=df['AVG'].shift(lag).astype(np.float16)\n",
    "    #SK Expanding window 추가\n",
    "    #df['expanding_AVG_mean']=df['AVG'].transform(lambda x: x.expanding(2).mean().astype(np.float16))\n",
    "    #rolling window\n",
    "    #df['rolling_AVG_mean']=df['AVG'].transform(lambda x: x.rolling(window=7).mean().astype(np.float16))\n",
    "    #trend\n",
    "    \n",
    "    # 경기당 타율 column 생성\n",
    "    df['AVG'] = df['HIT'] / df['AB']\n",
    "    \n",
    "    df['avg_AVG'] = df['AVG'].mean()\n",
    "    df['AVG_trend'] = (df['AVG'] - df['avg_AVG']).astype(np.float16)\n",
    "    df.drop(['avg_AVG'],axis=1,inplace=True)\n",
    "    \n",
    "    # Drop Categorical feature for 시계열 => coint 과정에서 singular matrix 발생\n",
    "    df = df.drop(columns=[ 'HOME_KEY'])\n",
    "    \n",
    "\n",
    "#     df = df.drop(columns=['T_ID', 'HEADER_NO', 'CG_CK', 'BK'])\n",
    "#     df = df.drop(columns=['TB_SC', 'HR', 'SB', 'VS_T_ID', 'HOME_KEY', 'HOLD', 'INN2', 'BF', 'CS', 'SH', 'HP', 'GD', 'ERR' ,'ER'])\n",
    "    df_year_team_name = df\n",
    "    \n",
    "    return df_year_team_name"
   ]
  },
  {
   "cell_type": "markdown",
   "metadata": {},
   "source": [
    "### 3. 승률\n",
    "\n",
    "- 승률은 타자, 투수 전처리한 결과물을 사용하도록 하겠음"
   ]
  },
  {
   "cell_type": "markdown",
   "metadata": {},
   "source": [
    "# Modeling"
   ]
  },
  {
   "cell_type": "code",
   "execution_count": 29,
   "metadata": {},
   "outputs": [],
   "source": [
    "from sklearn.metrics import make_scorer\n",
    "\n",
    "def mae(prediction, correct):\n",
    "    prediction = np.array(prediction)\n",
    "    correct = np.array(correct)\n",
    "    \n",
    "    difference = correct - prediction\n",
    "    abs_val = abs(difference)\n",
    "    \n",
    "    score = abs_val.mean()\n",
    "    \n",
    "    return score\n",
    "\n",
    "def mse(prediction, correct):\n",
    "    prediction = np.array(prediction)\n",
    "    correct = np.array(correct)\n",
    "    \n",
    "    difference = correct - prediction\n",
    "    sqr_val = difference ** 2\n",
    "    \n",
    "    score = sqr_val.mean()\n",
    "    \n",
    "    return score\n",
    "\n",
    "\n",
    "def plot_train_test_pred_graph(trainset, testset, pred):\n",
    "    plt.figure(figsize=(15,3))\n",
    "    plt.plot(trainset.ERA, label='train')\n",
    "    plt.plot(testset.ERA, label='test')\n",
    "    plt.plot(testset.index, pred, label='prediction')\n",
    "    plt.legend()\n",
    "    plt.show()"
   ]
  },
  {
   "cell_type": "code",
   "execution_count": 30,
   "metadata": {},
   "outputs": [],
   "source": [
    "# 얘는 쓰지 않음\n",
    "def predict_columns(data_frame, x_cols, y_col):\n",
    "    size = int(len(data_frame) * 0.7)\n",
    "    train = data_frame[:size]\n",
    "    test = data_frame[size:]\n",
    "    \n",
    "    reg_models = [LinearRegression(), Ridge(), Lasso(), ElasticNet(), GradientBoostingRegressor(), SVR(), XGBRegressor(), LGBMRegressor()]\n",
    "    reg_model_names = [\"LinearRegression\", \"Ridge\", \"Lasso\", \"ElasticNet\", \"GradientBoositng\", \" SupportVector\", \"XGBoost\",\"lgbm\"]\n",
    "\n",
    "    for i in range(len(reg_models)):\n",
    "        reg = reg_models[i].fit(train[x_cols], train[y_col])\n",
    "        pred = reg_models[i].predict(test[x_cols])\n",
    "        print('{} : {}'.format(reg_model_names[i], mae(test[y_col], pred.astype(int))))\n",
    "        #print(pred)"
   ]
  },
  {
   "cell_type": "code",
   "execution_count": 31,
   "metadata": {},
   "outputs": [],
   "source": [
    "# 파라미터 지정\n",
    "\n",
    "params_grid = {\n",
    "    'num_leaves': [5,10,20,30],\n",
    "    'reg_alpha': [0.1, 0.5],\n",
    "    'min_data_in_leaf': [10,30, 50, 100],\n",
    "    'lambda_l1': [0, 1, 1.5],\n",
    "    'lambda_l2': [0, 1]\n",
    "    }"
   ]
  },
  {
   "cell_type": "markdown",
   "metadata": {},
   "source": [
    "### 1. 투수"
   ]
  },
  {
   "cell_type": "code",
   "execution_count": 32,
   "metadata": {},
   "outputs": [],
   "source": [
    "def team_pitcher_modeling(score, t):\n",
    "    df_2016 = team_pitcher_eda(2016, t)\n",
    "    df_2017 = team_pitcher_eda(2017, t)\n",
    "    df_2018 = team_pitcher_eda(2018, t)\n",
    "    df_2019 = team_pitcher_eda(2019, t)\n",
    "    df_2020 = team_pitcher_eda(2020, t)\n",
    "    \n",
    "    df_all = pd.concat([df_2016,df_2017,df_2018,df_2019,df_2020])\n",
    "    df_all =df_all.reset_index()\n",
    "    \n",
    "    df_all['ym']=df_all['G_ID'].str.slice(0,6)\n",
    "\n",
    "    a=df_all['ym'].unique()\n",
    "    b=list(range(len(a)))\n",
    "    list_C = [ x for x in zip(a,b) ]\n",
    "    dict1=dict(list_C)\n",
    "\n",
    "    df_all['dummy']=df_all['ym'].map(dict1)\n",
    "    df_all['dummy+1']=df_all['dummy']+1\n",
    "\n",
    "    y_dict=df_all.groupby(['dummy'])['ERA'].mean().to_dict()\n",
    "\n",
    "    df_all['y_next']=df_all['dummy+1'].map(y_dict)\n",
    "    df_all.drop(['dummy','dummy+1','ym'],axis=1,inplace=True)\n",
    "    \n",
    "    # 테스트용 데이터 뽑기\n",
    "    final_test = df_all[df_all['y_next'].isnull()]; \n",
    "    \n",
    "    df_all.dropna(inplace=True)#일단 드랍하고 진행\n",
    "    \n",
    "    df_all=df_all.drop(['G_ID'],axis=1)\n",
    "\n",
    "    # 범주형 변수 지정\n",
    "    cat_features = ['VS_T_ID' ,'HEADER_NO', 'TB_SC' ]\n",
    "    df_all[cat_features] = df_all[cat_features].astype('category')\n",
    "\n",
    "    # X,y Train split\n",
    "    X = df_all.drop(columns = ['y_next'])\n",
    "    y = df_all['y_next']\n",
    "\n",
    "    X_train, X_val, y_train, y_val = train_test_split(X, y, test_size = 0.15, shuffle = True, random_state = 2020)\n",
    " \n",
    "    X_train.columns = [\"\".join (c if c.isalnum() else \"_\" for c in str(x)) for x in X_train.columns]\n",
    "    X_val.columns = [\"\".join (c if c.isalnum() else \"_\" for c in str(x)) for x in X_val.columns]\n",
    "\n",
    "    \n",
    "    lgb = LGBMRegressor(boosting_type='gbdt', num_boost_round=2000, learning_rate=0.01)\n",
    "    lgb_grid = GridSearchCV(estimator=lgb,\n",
    "                        param_grid=params_grid,\n",
    "                        n_jobs=10,\n",
    "                        verbose=3)\n",
    "    lgb_grid.fit(X_train,y_train) \n",
    "    \n",
    "    final_test = final_test.drop(['G_ID','y_next'],axis=1)\n",
    "    final_test[cat_features] = final_test[cat_features].astype('category')\n",
    "    \n",
    "    final_predict = lgb_grid.predict(final_test)\n",
    "\n",
    "    return final_predict"
   ]
  },
  {
   "cell_type": "markdown",
   "metadata": {},
   "source": [
    "### 2. 타자"
   ]
  },
  {
   "cell_type": "code",
   "execution_count": 33,
   "metadata": {},
   "outputs": [],
   "source": [
    "def team_hitter_modeling(score, t):\n",
    "    df_2016 = team_hitter_eda(2016, t)\n",
    "    df_2017 = team_hitter_eda(2017, t)\n",
    "    df_2018 = team_hitter_eda(2018, t)\n",
    "    df_2019 = team_hitter_eda(2019, t)\n",
    "    df_2020 = team_hitter_eda(2020, t)\n",
    "    \n",
    "    df_all = pd.concat([df_2016,df_2017,df_2018,df_2019,df_2020])\n",
    "    df_all =df_all.reset_index()\n",
    "    \n",
    "    df_all['ym']=df_all['GDAY_DS'].apply(lambda x: str(x.year)+str(x.month))\n",
    "\n",
    "    a=df_all['GDAY_DS'].apply(lambda x: str(x.year)+str(x.month)).unique()\n",
    "    b=list(range(len(a)))\n",
    "    list_C = [ x for x in zip(a,b) ]\n",
    "    dict1=dict(list_C)\n",
    "\n",
    "    df_all['dummy']=df_all['ym'].map(dict1)\n",
    "\n",
    "    df_all['dummy+1']=df_all['dummy']+1\n",
    "\n",
    "    y_dict=df_all.groupby(['dummy'])['AVG'].mean().to_dict()\n",
    "\n",
    "    df_all['y_next']=df_all['dummy+1'].map(y_dict)\n",
    "\n",
    "    df_all.drop(['dummy','dummy+1','ym'],axis=1,inplace=True)\n",
    "\n",
    "\n",
    "    # 테스트용 데이터 뽑기\n",
    "    final_test = df_all[df_all['y_next'].isnull()]; \n",
    "    \n",
    "    df_all.dropna(inplace=True)#일단 드랍하고 진행\n",
    "    \n",
    "    df_all = df_all.drop(['GDAY_DS'],axis=1)\n",
    "\n",
    "    # 범주형 변수 지정\n",
    "    cat_features = ['VS_T_ID' ,'HEADER_NO', 'TB_SC' ]\n",
    "    df_all[cat_features] = df_all[cat_features].astype('category')\n",
    "\n",
    "    # X,y Train test val split\n",
    "    X = df_all.drop(columns = ['y_next'])\n",
    "    y = df_all['y_next']\n",
    "\n",
    "    X_train, X_val, y_train, y_val = train_test_split(X, y, test_size = 0.15, shuffle = True, random_state = 2020)\n",
    " \n",
    "    X_train.columns = [\"\".join (c if c.isalnum() else \"_\" for c in str(x)) for x in X_train.columns]\n",
    "    X_val.columns = [\"\".join (c if c.isalnum() else \"_\" for c in str(x)) for x in X_val.columns]\n",
    "\n",
    "    \n",
    "    lgb = LGBMRegressor(boosting_type='gbdt', num_boost_round=2000, learning_rate=0.01)\n",
    "    lgb_grid = GridSearchCV(estimator=lgb,\n",
    "                        param_grid=params_grid,\n",
    "                        n_jobs=10,\n",
    "                        verbose=3)\n",
    "    lgb_grid.fit(X_train,y_train) \n",
    "    \n",
    "    print(final_test.columns)\n",
    "    print(df_all.columns)\n",
    "    final_test = final_test.drop(['GDAY_DS','y_next'],axis=1)\n",
    "    final_test[cat_features] = final_test[cat_features].astype('category')\n",
    "    \n",
    "    final_predict = lgb_grid.predict(final_test)\n",
    "\n",
    "    return final_predict"
   ]
  },
  {
   "cell_type": "markdown",
   "metadata": {},
   "source": [
    "### 3. 승률\n",
    "\n",
    "각 팀별 득점, 실점 예측 이후 기대승률 내기"
   ]
  },
  {
   "cell_type": "markdown",
   "metadata": {},
   "source": [
    "lose predict : RUN 값을 예측 (실점)"
   ]
  },
  {
   "cell_type": "code",
   "execution_count": 37,
   "metadata": {},
   "outputs": [],
   "source": [
    "def team_lose_modeling(score, t):\n",
    "    df_2016 = team_pitcher_eda(2016, t)\n",
    "    df_2017 = team_pitcher_eda(2017, t)\n",
    "    df_2018 = team_pitcher_eda(2018, t)\n",
    "    df_2019 = team_pitcher_eda(2019, t)\n",
    "    df_2020 = team_pitcher_eda(2020, t)\n",
    "    \n",
    "    df_all = pd.concat([df_2016,df_2017,df_2018,df_2019,df_2020])\n",
    "    df_all =df_all.reset_index()\n",
    "    \n",
    "    df_all['ym']=df_all['G_ID'].str.slice(0,6)\n",
    "\n",
    "    a=df_all['ym'].unique()\n",
    "    b=list(range(len(a)))\n",
    "    list_C = [ x for x in zip(a,b) ]\n",
    "    dict1=dict(list_C)\n",
    "\n",
    "    df_all['dummy']=df_all['ym'].map(dict1)\n",
    "    df_all['dummy+1']=df_all['dummy']+1\n",
    "\n",
    "    # RUN 값을 예측\n",
    "    y_dict=df_all.groupby(['dummy'])['RUN'].mean().to_dict()\n",
    "\n",
    "    df_all['y_next']=df_all['dummy+1'].map(y_dict)\n",
    "    df_all.drop(['dummy','dummy+1','ym'],axis=1,inplace=True)\n",
    "    \n",
    "    # 테스트용 데이터 뽑기\n",
    "    final_test = df_all[df_all['y_next'].isnull()]; \n",
    "    \n",
    "    df_all.dropna(inplace=True)#일단 드랍하고 진행\n",
    "    \n",
    "    df_all=df_all.drop(['G_ID'],axis=1)\n",
    "\n",
    "    # 범주형 변수 지정\n",
    "    cat_features = ['VS_T_ID' ,'HEADER_NO', 'TB_SC' ]\n",
    "    df_all[cat_features] = df_all[cat_features].astype('category')\n",
    "\n",
    "    # X,y Train split\n",
    "    X = df_all.drop(columns = ['y_next'])\n",
    "    y = df_all['y_next']\n",
    "\n",
    "    X_train, X_val, y_train, y_val = train_test_split(X, y, test_size = 0.15, shuffle = True, random_state = 2020)\n",
    " \n",
    "    X_train.columns = [\"\".join (c if c.isalnum() else \"_\" for c in str(x)) for x in X_train.columns]\n",
    "    X_val.columns = [\"\".join (c if c.isalnum() else \"_\" for c in str(x)) for x in X_val.columns]\n",
    "\n",
    "    \n",
    "    lgb = LGBMRegressor(boosting_type='gbdt', num_boost_round=2000, learning_rate=0.01)\n",
    "    lgb_grid = GridSearchCV(estimator=lgb,\n",
    "                        param_grid=params_grid,\n",
    "                        n_jobs=10,\n",
    "                        verbose=3)\n",
    "    lgb_grid.fit(X_train,y_train) \n",
    "    \n",
    "    final_test = final_test.drop(['G_ID','y_next'],axis=1)\n",
    "    final_test[cat_features] = final_test[cat_features].astype('category')\n",
    "    \n",
    "    final_predict = lgb_grid.predict(final_test)\n",
    "\n",
    "    return final_predict\n",
    "    "
   ]
  },
  {
   "cell_type": "markdown",
   "metadata": {},
   "source": [
    "score_predict : RUN 값을 예측 (득점)"
   ]
  },
  {
   "cell_type": "code",
   "execution_count": 38,
   "metadata": {},
   "outputs": [],
   "source": [
    "def team_score_modeling(score,t):\n",
    "    df_2016 = team_hitter_eda(2016, t)\n",
    "    df_2017 = team_hitter_eda(2017, t)\n",
    "    df_2018 = team_hitter_eda(2018, t)\n",
    "    df_2019 = team_hitter_eda(2019, t)\n",
    "    df_2020 = team_hitter_eda(2020, t)\n",
    "    \n",
    "    df_all = pd.concat([df_2016,df_2017,df_2018,df_2019,df_2020])\n",
    "    df_all =df_all.reset_index()\n",
    "    \n",
    "    df_all['ym']=df_all['GDAY_DS'].apply(lambda x: str(x.year)+str(x.month))\n",
    "\n",
    "    a=df_all['GDAY_DS'].apply(lambda x: str(x.year)+str(x.month)).unique()\n",
    "    b=list(range(len(a)))\n",
    "    list_C = [ x for x in zip(a,b) ]\n",
    "    dict1=dict(list_C)\n",
    "\n",
    "    df_all['dummy']=df_all['ym'].map(dict1)\n",
    "\n",
    "    df_all['dummy+1']=df_all['dummy']+1\n",
    "\n",
    "    # RUN을 예측\n",
    "    y_dict=df_all.groupby(['dummy'])['RUN'].mean().to_dict()\n",
    "\n",
    "    df_all['y_next']=df_all['dummy+1'].map(y_dict)\n",
    "\n",
    "    df_all.drop(['dummy','dummy+1','ym'],axis=1,inplace=True)\n",
    "\n",
    "\n",
    "    # 테스트용 데이터 뽑기\n",
    "    final_test = df_all[df_all['y_next'].isnull()]; \n",
    "    \n",
    "    df_all.dropna(inplace=True)#일단 드랍하고 진행\n",
    "    \n",
    "    df_all = df_all.drop(['GDAY_DS'],axis=1)\n",
    "\n",
    "    # 범주형 변수 지정\n",
    "    cat_features = ['VS_T_ID' ,'HEADER_NO', 'TB_SC' ]\n",
    "    df_all[cat_features] = df_all[cat_features].astype('category')\n",
    "\n",
    "    # X,y Train test val split\n",
    "    X = df_all.drop(columns = ['y_next'])\n",
    "    y = df_all['y_next']\n",
    "\n",
    "    X_train, X_val, y_train, y_val = train_test_split(X, y, test_size = 0.15, shuffle = True, random_state = 2020)\n",
    " \n",
    "    X_train.columns = [\"\".join (c if c.isalnum() else \"_\" for c in str(x)) for x in X_train.columns]\n",
    "    X_val.columns = [\"\".join (c if c.isalnum() else \"_\" for c in str(x)) for x in X_val.columns]\n",
    "\n",
    "\n",
    "    lgb = LGBMRegressor(boosting_type='gbdt', num_boost_round=2000, learning_rate=0.01)\n",
    "    lgb_grid = GridSearchCV(estimator=lgb,\n",
    "                        param_grid=params_grid,\n",
    "                        n_jobs=10,\n",
    "                        verbose=3)\n",
    "    lgb_grid.fit(X_train,y_train) \n",
    "    \n",
    "    final_test = final_test.drop(['GDAY_DS','y_next'],axis=1)\n",
    "    final_test[cat_features] = final_test[cat_features].astype('category')\n",
    "    \n",
    "    final_predict = lgb_grid.predict(final_test)\n",
    "    \n",
    "    return final_predict"
   ]
  },
  {
   "cell_type": "markdown",
   "metadata": {},
   "source": [
    "## 팀별 최종 예측(타율, 방어율, 승률)"
   ]
  },
  {
   "cell_type": "code",
   "execution_count": 34,
   "metadata": {},
   "outputs": [],
   "source": [
    "team_list = ['WO','OB','NC','SK','LG','KT','LT','HT','SS','HH']"
   ]
  },
  {
   "cell_type": "markdown",
   "metadata": {},
   "source": [
    "### 팀별 최종 예측 방어율 (주어진 데이터 다음달)"
   ]
  },
  {
   "cell_type": "code",
   "execution_count": 35,
   "metadata": {},
   "outputs": [
    {
     "name": "stdout",
     "output_type": "stream",
     "text": [
      "WO\n",
      "Fitting 5 folds for each of 192 candidates, totalling 960 fits\n"
     ]
    },
    {
     "name": "stderr",
     "output_type": "stream",
     "text": [
      "[Parallel(n_jobs=10)]: Using backend LokyBackend with 10 concurrent workers.\n",
      "[Parallel(n_jobs=10)]: Done  12 tasks      | elapsed:   14.5s\n",
      "[Parallel(n_jobs=10)]: Done 108 tasks      | elapsed:   53.0s\n",
      "[Parallel(n_jobs=10)]: Done 268 tasks      | elapsed:  2.1min\n",
      "[Parallel(n_jobs=10)]: Done 492 tasks      | elapsed:  3.4min\n",
      "[Parallel(n_jobs=10)]: Done 780 tasks      | elapsed:  5.2min\n",
      "[Parallel(n_jobs=10)]: Done 960 out of 960 | elapsed:  6.0min finished\n"
     ]
    },
    {
     "name": "stdout",
     "output_type": "stream",
     "text": [
      "[6.9726035  6.9561132  7.00281868 6.92071306 6.97481522 6.96090552\n",
      " 6.99309408 6.96436265 7.0067505  6.78305224 7.00390641 6.99967562\n",
      " 6.96427327 6.92688602 6.97780671 6.91648301 6.89268184]\n",
      "OB\n",
      "Fitting 5 folds for each of 192 candidates, totalling 960 fits\n"
     ]
    },
    {
     "name": "stderr",
     "output_type": "stream",
     "text": [
      "[Parallel(n_jobs=10)]: Using backend LokyBackend with 10 concurrent workers.\n",
      "[Parallel(n_jobs=10)]: Done  12 tasks      | elapsed:    7.6s\n",
      "[Parallel(n_jobs=10)]: Done 108 tasks      | elapsed:  1.0min\n",
      "[Parallel(n_jobs=10)]: Done 268 tasks      | elapsed:  1.9min\n",
      "[Parallel(n_jobs=10)]: Done 492 tasks      | elapsed:  3.2min\n",
      "[Parallel(n_jobs=10)]: Done 780 tasks      | elapsed:  4.7min\n",
      "[Parallel(n_jobs=10)]: Done 960 out of 960 | elapsed:  5.7min finished\n"
     ]
    },
    {
     "name": "stdout",
     "output_type": "stream",
     "text": [
      "[4.23500846 4.3936456  4.39989345 4.35974791 4.37556724 4.42247042\n",
      " 4.38276152 4.40353315 4.40698629 4.36250141 4.46351284 4.37319985\n",
      " 4.36192646 4.37245784 4.35544063 4.38848759]\n",
      "NC\n",
      "Fitting 5 folds for each of 192 candidates, totalling 960 fits\n"
     ]
    },
    {
     "name": "stderr",
     "output_type": "stream",
     "text": [
      "[Parallel(n_jobs=10)]: Using backend LokyBackend with 10 concurrent workers.\n",
      "[Parallel(n_jobs=10)]: Done  12 tasks      | elapsed:    5.5s\n",
      "[Parallel(n_jobs=10)]: Done 108 tasks      | elapsed:   57.9s\n",
      "[Parallel(n_jobs=10)]: Done 268 tasks      | elapsed:  2.3min\n",
      "[Parallel(n_jobs=10)]: Done 492 tasks      | elapsed:  3.5min\n",
      "[Parallel(n_jobs=10)]: Done 780 tasks      | elapsed:  5.1min\n",
      "[Parallel(n_jobs=10)]: Done 960 out of 960 | elapsed:  6.3min finished\n"
     ]
    },
    {
     "name": "stdout",
     "output_type": "stream",
     "text": [
      "[3.92502318 3.9709747  3.90639477 3.90967646 3.90854536 3.92259424\n",
      " 3.93803332 3.9408075  3.92238333 3.88942197 3.95315241 3.93088421\n",
      " 3.97903834 3.91689426 3.90874171 3.90010997]\n",
      "SK\n",
      "Fitting 5 folds for each of 192 candidates, totalling 960 fits\n"
     ]
    },
    {
     "name": "stderr",
     "output_type": "stream",
     "text": [
      "[Parallel(n_jobs=10)]: Using backend LokyBackend with 10 concurrent workers.\n",
      "[Parallel(n_jobs=10)]: Done  12 tasks      | elapsed:    5.9s\n",
      "[Parallel(n_jobs=10)]: Done 108 tasks      | elapsed:   50.5s\n",
      "[Parallel(n_jobs=10)]: Done 268 tasks      | elapsed:  2.3min\n",
      "[Parallel(n_jobs=10)]: Done 492 tasks      | elapsed:  3.2min\n",
      "[Parallel(n_jobs=10)]: Done 780 tasks      | elapsed:  4.9min\n",
      "[Parallel(n_jobs=10)]: Done 960 out of 960 | elapsed:  5.7min finished\n"
     ]
    },
    {
     "name": "stdout",
     "output_type": "stream",
     "text": [
      "[5.35768119 5.32179158 5.35721331 5.34679075 5.32914479 5.34870593\n",
      " 5.35030299 5.34897858 5.35085406 5.32965817 5.35651022 5.38409899\n",
      " 5.39071329 5.34934011 5.31930288 5.35049306 5.35046815]\n",
      "LG\n",
      "Fitting 5 folds for each of 192 candidates, totalling 960 fits\n"
     ]
    },
    {
     "name": "stderr",
     "output_type": "stream",
     "text": [
      "[Parallel(n_jobs=10)]: Using backend LokyBackend with 10 concurrent workers.\n",
      "[Parallel(n_jobs=10)]: Done  12 tasks      | elapsed:    7.1s\n",
      "[Parallel(n_jobs=10)]: Done 108 tasks      | elapsed:  1.1min\n",
      "[Parallel(n_jobs=10)]: Done 268 tasks      | elapsed:  2.0min\n",
      "[Parallel(n_jobs=10)]: Done 492 tasks      | elapsed:  3.3min\n",
      "[Parallel(n_jobs=10)]: Done 780 tasks      | elapsed:  4.8min\n",
      "[Parallel(n_jobs=10)]: Done 960 out of 960 | elapsed:  5.8min finished\n"
     ]
    },
    {
     "name": "stdout",
     "output_type": "stream",
     "text": [
      "[4.96902794 5.25043541 5.09526496 5.14211325 5.26662974 5.18709292\n",
      " 5.02620817 5.19265506 5.3771162  5.25251887 5.097818   5.0466785\n",
      " 5.30746779 5.33509333 5.26091073 5.23238088]\n",
      "KT\n",
      "Fitting 5 folds for each of 192 candidates, totalling 960 fits\n"
     ]
    },
    {
     "name": "stderr",
     "output_type": "stream",
     "text": [
      "[Parallel(n_jobs=10)]: Using backend LokyBackend with 10 concurrent workers.\n",
      "[Parallel(n_jobs=10)]: Done  12 tasks      | elapsed:    6.1s\n",
      "[Parallel(n_jobs=10)]: Done 108 tasks      | elapsed:   51.2s\n",
      "[Parallel(n_jobs=10)]: Done 268 tasks      | elapsed:  2.1min\n",
      "[Parallel(n_jobs=10)]: Done 492 tasks      | elapsed:  3.0min\n",
      "[Parallel(n_jobs=10)]: Done 780 tasks      | elapsed:  4.6min\n",
      "[Parallel(n_jobs=10)]: Done 960 out of 960 | elapsed:  5.3min finished\n"
     ]
    },
    {
     "name": "stdout",
     "output_type": "stream",
     "text": [
      "[3.54376402 3.50377696 3.53234224 3.57668537 3.55275207 3.50576458\n",
      " 3.49113796 3.51198747 3.52989924 3.53921087 3.53826544 3.53325283\n",
      " 3.45613765 3.54052188 3.5563307  3.54480353]\n",
      "LT\n",
      "Fitting 5 folds for each of 192 candidates, totalling 960 fits\n"
     ]
    },
    {
     "name": "stderr",
     "output_type": "stream",
     "text": [
      "[Parallel(n_jobs=10)]: Using backend LokyBackend with 10 concurrent workers.\n",
      "[Parallel(n_jobs=10)]: Done  12 tasks      | elapsed:    7.4s\n",
      "[Parallel(n_jobs=10)]: Done 108 tasks      | elapsed:  1.1min\n",
      "[Parallel(n_jobs=10)]: Done 268 tasks      | elapsed:  2.0min\n",
      "[Parallel(n_jobs=10)]: Done 492 tasks      | elapsed:  3.2min\n",
      "[Parallel(n_jobs=10)]: Done 780 tasks      | elapsed:  4.5min\n",
      "[Parallel(n_jobs=10)]: Done 960 out of 960 | elapsed:  5.5min finished\n"
     ]
    },
    {
     "name": "stdout",
     "output_type": "stream",
     "text": [
      "[4.59779733 4.42059936 4.67283261 4.56584934 4.62705256 4.7068173\n",
      " 4.60474494 4.60658142 4.6800199  4.75170674 4.52456634 4.45678712\n",
      " 4.38246765 4.23004945 4.5587403  4.50599915]\n",
      "HT\n",
      "Fitting 5 folds for each of 192 candidates, totalling 960 fits\n"
     ]
    },
    {
     "name": "stderr",
     "output_type": "stream",
     "text": [
      "[Parallel(n_jobs=10)]: Using backend LokyBackend with 10 concurrent workers.\n",
      "[Parallel(n_jobs=10)]: Done  12 tasks      | elapsed:    5.6s\n",
      "[Parallel(n_jobs=10)]: Done 108 tasks      | elapsed:   43.8s\n",
      "[Parallel(n_jobs=10)]: Done 268 tasks      | elapsed:  1.9min\n",
      "[Parallel(n_jobs=10)]: Done 492 tasks      | elapsed:  2.9min\n",
      "[Parallel(n_jobs=10)]: Done 780 tasks      | elapsed:  4.9min\n",
      "[Parallel(n_jobs=10)]: Done 960 out of 960 | elapsed:  5.9min finished\n"
     ]
    },
    {
     "name": "stdout",
     "output_type": "stream",
     "text": [
      "[4.67343227 4.67087258 4.69704272 4.58325948 4.49819847 4.3699429\n",
      " 4.56861277 4.51083427 4.6382409  4.59038297 4.70504382 4.56356848\n",
      " 4.66022709 4.58112087 4.69935395 4.56484976 4.47506779]\n",
      "SS\n",
      "Fitting 5 folds for each of 192 candidates, totalling 960 fits\n"
     ]
    },
    {
     "name": "stderr",
     "output_type": "stream",
     "text": [
      "[Parallel(n_jobs=10)]: Using backend LokyBackend with 10 concurrent workers.\n",
      "[Parallel(n_jobs=10)]: Done  12 tasks      | elapsed:    9.9s\n",
      "[Parallel(n_jobs=10)]: Done 108 tasks      | elapsed:   55.2s\n",
      "[Parallel(n_jobs=10)]: Done 268 tasks      | elapsed:  2.0min\n",
      "[Parallel(n_jobs=10)]: Done 492 tasks      | elapsed:  3.0min\n",
      "[Parallel(n_jobs=10)]: Done 780 tasks      | elapsed:  4.6min\n",
      "[Parallel(n_jobs=10)]: Done 960 out of 960 | elapsed:  5.3min finished\n"
     ]
    },
    {
     "name": "stdout",
     "output_type": "stream",
     "text": [
      "[5.98100231 5.97558575 6.07337439 5.99426902 5.93442673 5.98453679\n",
      " 5.98446538 5.99480211 6.01914963 5.98310309 5.99296554 5.98992041\n",
      " 6.00400665 5.97517584 5.98959885 5.99080126]\n",
      "HH\n",
      "Fitting 5 folds for each of 192 candidates, totalling 960 fits\n"
     ]
    },
    {
     "name": "stderr",
     "output_type": "stream",
     "text": [
      "[Parallel(n_jobs=10)]: Using backend LokyBackend with 10 concurrent workers.\n",
      "[Parallel(n_jobs=10)]: Done  12 tasks      | elapsed:    5.6s\n",
      "[Parallel(n_jobs=10)]: Done 108 tasks      | elapsed:   48.4s\n",
      "[Parallel(n_jobs=10)]: Done 268 tasks      | elapsed:  2.0min\n",
      "[Parallel(n_jobs=10)]: Done 492 tasks      | elapsed:  3.0min\n",
      "[Parallel(n_jobs=10)]: Done 780 tasks      | elapsed:  4.7min\n",
      "[Parallel(n_jobs=10)]: Done 960 out of 960 | elapsed:  5.6min finished\n"
     ]
    },
    {
     "name": "stdout",
     "output_type": "stream",
     "text": [
      "[4.77425838 4.64235886 4.71275596 4.74098765 4.73385342 4.49794362\n",
      " 4.70809713 4.6400968  4.76352986 4.86476507 4.82921616 4.71050844\n",
      " 4.61959333 4.70036326 4.62962245 4.6676827  4.67929766]\n"
     ]
    }
   ],
   "source": [
    "for t in team_list:\n",
    "    print(t)\n",
    "    print(team_pitcher_modeling(\"mae\",t))"
   ]
  },
  {
   "cell_type": "markdown",
   "metadata": {},
   "source": [
    "KT 방어율 왜이렇게 좋지 했는데 올해 KT 잘나갔었구나.. . 씁슬 하네..^^"
   ]
  },
  {
   "cell_type": "markdown",
   "metadata": {},
   "source": [
    "### 팀별 최종 예측 타율"
   ]
  },
  {
   "cell_type": "code",
   "execution_count": 36,
   "metadata": {},
   "outputs": [
    {
     "name": "stdout",
     "output_type": "stream",
     "text": [
      "WO\n",
      "Fitting 5 folds for each of 192 candidates, totalling 960 fits\n"
     ]
    },
    {
     "name": "stderr",
     "output_type": "stream",
     "text": [
      "[Parallel(n_jobs=10)]: Using backend LokyBackend with 10 concurrent workers.\n",
      "[Parallel(n_jobs=10)]: Done  12 tasks      | elapsed:    9.9s\n",
      "[Parallel(n_jobs=10)]: Done 108 tasks      | elapsed:   59.8s\n",
      "[Parallel(n_jobs=10)]: Done 268 tasks      | elapsed:  1.9min\n",
      "[Parallel(n_jobs=10)]: Done 492 tasks      | elapsed:  2.6min\n",
      "[Parallel(n_jobs=10)]: Done 780 tasks      | elapsed:  3.2min\n",
      "[Parallel(n_jobs=10)]: Done 960 out of 960 | elapsed:  3.5min finished\n"
     ]
    },
    {
     "name": "stdout",
     "output_type": "stream",
     "text": [
      "Index(['index', 'GDAY_DS', 'VS_T_ID', 'HEADER_NO', 'TB_SC', 'PA', 'AB', 'RBI',\n",
      "       'RUN', 'HIT', 'H2', 'H3', 'HR', 'SB', 'CS', 'SH', 'SF', 'BB', 'IB',\n",
      "       'HP', 'KK', 'GD', 'ERR', 'LOB', 'P_HRA_RT', 'P_AB_CN', 'P_HIT_CN',\n",
      "       'year', 'month', 'H1', 'SLG', 'OBA', 'W_OPS', 'AVG', 'AVG_trend',\n",
      "       'y_next'],\n",
      "      dtype='object')\n",
      "Index(['index', 'VS_T_ID', 'HEADER_NO', 'TB_SC', 'PA', 'AB', 'RBI', 'RUN',\n",
      "       'HIT', 'H2', 'H3', 'HR', 'SB', 'CS', 'SH', 'SF', 'BB', 'IB', 'HP', 'KK',\n",
      "       'GD', 'ERR', 'LOB', 'P_HRA_RT', 'P_AB_CN', 'P_HIT_CN', 'year', 'month',\n",
      "       'H1', 'SLG', 'OBA', 'W_OPS', 'AVG', 'AVG_trend', 'y_next'],\n",
      "      dtype='object')\n",
      "[0.27737563 0.27748469 0.27766532 0.27673621 0.27538334 0.27707777\n",
      " 0.27746792 0.27722747 0.27779517 0.27699844 0.27495303 0.27697455\n",
      " 0.2775953  0.27802795 0.27759159 0.27710495 0.2772502 ]\n",
      "OB\n",
      "Fitting 5 folds for each of 192 candidates, totalling 960 fits\n"
     ]
    },
    {
     "name": "stderr",
     "output_type": "stream",
     "text": [
      "[Parallel(n_jobs=10)]: Using backend LokyBackend with 10 concurrent workers.\n",
      "[Parallel(n_jobs=10)]: Done  12 tasks      | elapsed:    5.7s\n",
      "[Parallel(n_jobs=10)]: Done 108 tasks      | elapsed:   53.1s\n",
      "[Parallel(n_jobs=10)]: Done 268 tasks      | elapsed:  2.0min\n",
      "[Parallel(n_jobs=10)]: Done 492 tasks      | elapsed:  2.3min\n",
      "[Parallel(n_jobs=10)]: Done 780 tasks      | elapsed:  2.6min\n",
      "[Parallel(n_jobs=10)]: Done 960 out of 960 | elapsed:  2.8min finished\n"
     ]
    },
    {
     "name": "stdout",
     "output_type": "stream",
     "text": [
      "Index(['index', 'GDAY_DS', 'VS_T_ID', 'HEADER_NO', 'TB_SC', 'PA', 'AB', 'RBI',\n",
      "       'RUN', 'HIT', 'H2', 'H3', 'HR', 'SB', 'CS', 'SH', 'SF', 'BB', 'IB',\n",
      "       'HP', 'KK', 'GD', 'ERR', 'LOB', 'P_HRA_RT', 'P_AB_CN', 'P_HIT_CN',\n",
      "       'year', 'month', 'H1', 'SLG', 'OBA', 'W_OPS', 'AVG', 'AVG_trend',\n",
      "       'y_next'],\n",
      "      dtype='object')\n",
      "Index(['index', 'VS_T_ID', 'HEADER_NO', 'TB_SC', 'PA', 'AB', 'RBI', 'RUN',\n",
      "       'HIT', 'H2', 'H3', 'HR', 'SB', 'CS', 'SH', 'SF', 'BB', 'IB', 'HP', 'KK',\n",
      "       'GD', 'ERR', 'LOB', 'P_HRA_RT', 'P_AB_CN', 'P_HIT_CN', 'year', 'month',\n",
      "       'H1', 'SLG', 'OBA', 'W_OPS', 'AVG', 'AVG_trend', 'y_next'],\n",
      "      dtype='object')\n",
      "[0.32244152 0.32318864 0.32446245 0.32449296 0.32350357 0.32323422\n",
      " 0.32506544 0.32396271 0.32420219 0.32408127 0.32431412 0.32275057\n",
      " 0.3236242  0.32158211 0.32255904 0.3242975 ]\n",
      "NC\n",
      "Fitting 5 folds for each of 192 candidates, totalling 960 fits\n"
     ]
    },
    {
     "name": "stderr",
     "output_type": "stream",
     "text": [
      "[Parallel(n_jobs=10)]: Using backend LokyBackend with 10 concurrent workers.\n",
      "[Parallel(n_jobs=10)]: Done  12 tasks      | elapsed:    7.9s\n",
      "[Parallel(n_jobs=10)]: Done 108 tasks      | elapsed:  1.1min\n",
      "[Parallel(n_jobs=10)]: Done 268 tasks      | elapsed:  2.0min\n",
      "[Parallel(n_jobs=10)]: Done 492 tasks      | elapsed:  2.6min\n",
      "[Parallel(n_jobs=10)]: Done 780 tasks      | elapsed:  3.4min\n",
      "[Parallel(n_jobs=10)]: Done 960 out of 960 | elapsed:  3.7min finished\n"
     ]
    },
    {
     "name": "stdout",
     "output_type": "stream",
     "text": [
      "Index(['index', 'GDAY_DS', 'VS_T_ID', 'HEADER_NO', 'TB_SC', 'PA', 'AB', 'RBI',\n",
      "       'RUN', 'HIT', 'H2', 'H3', 'HR', 'SB', 'CS', 'SH', 'SF', 'BB', 'IB',\n",
      "       'HP', 'KK', 'GD', 'ERR', 'LOB', 'P_HRA_RT', 'P_AB_CN', 'P_HIT_CN',\n",
      "       'year', 'month', 'H1', 'SLG', 'OBA', 'W_OPS', 'AVG', 'AVG_trend',\n",
      "       'y_next'],\n",
      "      dtype='object')\n",
      "Index(['index', 'VS_T_ID', 'HEADER_NO', 'TB_SC', 'PA', 'AB', 'RBI', 'RUN',\n",
      "       'HIT', 'H2', 'H3', 'HR', 'SB', 'CS', 'SH', 'SF', 'BB', 'IB', 'HP', 'KK',\n",
      "       'GD', 'ERR', 'LOB', 'P_HRA_RT', 'P_AB_CN', 'P_HIT_CN', 'year', 'month',\n",
      "       'H1', 'SLG', 'OBA', 'W_OPS', 'AVG', 'AVG_trend', 'y_next'],\n",
      "      dtype='object')\n",
      "[0.27764494 0.27812369 0.27685606 0.27852265 0.27574714 0.27882394\n",
      " 0.27723033 0.27790044 0.27386182 0.27839397 0.27675212 0.28089724\n",
      " 0.28010022 0.27783152 0.27878634 0.27895358]\n",
      "SK\n",
      "Fitting 5 folds for each of 192 candidates, totalling 960 fits\n"
     ]
    },
    {
     "name": "stderr",
     "output_type": "stream",
     "text": [
      "[Parallel(n_jobs=10)]: Using backend LokyBackend with 10 concurrent workers.\n",
      "[Parallel(n_jobs=10)]: Done  12 tasks      | elapsed:    6.0s\n",
      "[Parallel(n_jobs=10)]: Done 108 tasks      | elapsed:  1.0min\n",
      "[Parallel(n_jobs=10)]: Done 268 tasks      | elapsed:  2.3min\n",
      "[Parallel(n_jobs=10)]: Done 492 tasks      | elapsed:  2.8min\n",
      "[Parallel(n_jobs=10)]: Done 780 tasks      | elapsed:  3.6min\n",
      "[Parallel(n_jobs=10)]: Done 960 out of 960 | elapsed:  4.1min finished\n"
     ]
    },
    {
     "name": "stdout",
     "output_type": "stream",
     "text": [
      "Index(['index', 'GDAY_DS', 'VS_T_ID', 'HEADER_NO', 'TB_SC', 'PA', 'AB', 'RBI',\n",
      "       'RUN', 'HIT', 'H2', 'H3', 'HR', 'SB', 'CS', 'SH', 'SF', 'BB', 'IB',\n",
      "       'HP', 'KK', 'GD', 'ERR', 'LOB', 'P_HRA_RT', 'P_AB_CN', 'P_HIT_CN',\n",
      "       'year', 'month', 'H1', 'SLG', 'OBA', 'W_OPS', 'AVG', 'AVG_trend',\n",
      "       'y_next'],\n",
      "      dtype='object')\n",
      "Index(['index', 'VS_T_ID', 'HEADER_NO', 'TB_SC', 'PA', 'AB', 'RBI', 'RUN',\n",
      "       'HIT', 'H2', 'H3', 'HR', 'SB', 'CS', 'SH', 'SF', 'BB', 'IB', 'HP', 'KK',\n",
      "       'GD', 'ERR', 'LOB', 'P_HRA_RT', 'P_AB_CN', 'P_HIT_CN', 'year', 'month',\n",
      "       'H1', 'SLG', 'OBA', 'W_OPS', 'AVG', 'AVG_trend', 'y_next'],\n",
      "      dtype='object')\n",
      "[0.24857418 0.24838563 0.24848812 0.24859906 0.24956824 0.24724526\n",
      " 0.24816672 0.24812472 0.24836415 0.24956573 0.24941275 0.24794981\n",
      " 0.24836049 0.24821869 0.24842058 0.24816749 0.24847043]\n",
      "LG\n",
      "Fitting 5 folds for each of 192 candidates, totalling 960 fits\n"
     ]
    },
    {
     "name": "stderr",
     "output_type": "stream",
     "text": [
      "[Parallel(n_jobs=10)]: Using backend LokyBackend with 10 concurrent workers.\n",
      "[Parallel(n_jobs=10)]: Done  12 tasks      | elapsed:    7.3s\n",
      "[Parallel(n_jobs=10)]: Done 108 tasks      | elapsed:   49.1s\n",
      "[Parallel(n_jobs=10)]: Done 268 tasks      | elapsed:  2.2min\n",
      "[Parallel(n_jobs=10)]: Done 492 tasks      | elapsed:  2.7min\n",
      "[Parallel(n_jobs=10)]: Done 780 tasks      | elapsed:  3.4min\n",
      "[Parallel(n_jobs=10)]: Done 960 out of 960 | elapsed:  3.8min finished\n"
     ]
    },
    {
     "name": "stdout",
     "output_type": "stream",
     "text": [
      "Index(['index', 'GDAY_DS', 'VS_T_ID', 'HEADER_NO', 'TB_SC', 'PA', 'AB', 'RBI',\n",
      "       'RUN', 'HIT', 'H2', 'H3', 'HR', 'SB', 'CS', 'SH', 'SF', 'BB', 'IB',\n",
      "       'HP', 'KK', 'GD', 'ERR', 'LOB', 'P_HRA_RT', 'P_AB_CN', 'P_HIT_CN',\n",
      "       'year', 'month', 'H1', 'SLG', 'OBA', 'W_OPS', 'AVG', 'AVG_trend',\n",
      "       'y_next'],\n",
      "      dtype='object')\n",
      "Index(['index', 'VS_T_ID', 'HEADER_NO', 'TB_SC', 'PA', 'AB', 'RBI', 'RUN',\n",
      "       'HIT', 'H2', 'H3', 'HR', 'SB', 'CS', 'SH', 'SF', 'BB', 'IB', 'HP', 'KK',\n",
      "       'GD', 'ERR', 'LOB', 'P_HRA_RT', 'P_AB_CN', 'P_HIT_CN', 'year', 'month',\n",
      "       'H1', 'SLG', 'OBA', 'W_OPS', 'AVG', 'AVG_trend', 'y_next'],\n",
      "      dtype='object')\n",
      "[0.24332145 0.24359841 0.24325133 0.24306967 0.24307857 0.24295278\n",
      " 0.24336755 0.24686931 0.25646251 0.25683145 0.25755122 0.2561961\n",
      " 0.25665864 0.25619686 0.25604856 0.25637422]\n",
      "KT\n",
      "Fitting 5 folds for each of 192 candidates, totalling 960 fits\n"
     ]
    },
    {
     "name": "stderr",
     "output_type": "stream",
     "text": [
      "[Parallel(n_jobs=10)]: Using backend LokyBackend with 10 concurrent workers.\n",
      "[Parallel(n_jobs=10)]: Done  12 tasks      | elapsed:    8.4s\n",
      "[Parallel(n_jobs=10)]: Done 108 tasks      | elapsed:   50.1s\n",
      "[Parallel(n_jobs=10)]: Done 268 tasks      | elapsed:  1.9min\n",
      "[Parallel(n_jobs=10)]: Done 492 tasks      | elapsed:  2.6min\n",
      "[Parallel(n_jobs=10)]: Done 780 tasks      | elapsed:  3.0min\n",
      "[Parallel(n_jobs=10)]: Done 960 out of 960 | elapsed:  3.3min finished\n"
     ]
    },
    {
     "name": "stdout",
     "output_type": "stream",
     "text": [
      "Index(['index', 'GDAY_DS', 'VS_T_ID', 'HEADER_NO', 'TB_SC', 'PA', 'AB', 'RBI',\n",
      "       'RUN', 'HIT', 'H2', 'H3', 'HR', 'SB', 'CS', 'SH', 'SF', 'BB', 'IB',\n",
      "       'HP', 'KK', 'GD', 'ERR', 'LOB', 'P_HRA_RT', 'P_AB_CN', 'P_HIT_CN',\n",
      "       'year', 'month', 'H1', 'SLG', 'OBA', 'W_OPS', 'AVG', 'AVG_trend',\n",
      "       'y_next'],\n",
      "      dtype='object')\n",
      "Index(['index', 'VS_T_ID', 'HEADER_NO', 'TB_SC', 'PA', 'AB', 'RBI', 'RUN',\n",
      "       'HIT', 'H2', 'H3', 'HR', 'SB', 'CS', 'SH', 'SF', 'BB', 'IB', 'HP', 'KK',\n",
      "       'GD', 'ERR', 'LOB', 'P_HRA_RT', 'P_AB_CN', 'P_HIT_CN', 'year', 'month',\n",
      "       'H1', 'SLG', 'OBA', 'W_OPS', 'AVG', 'AVG_trend', 'y_next'],\n",
      "      dtype='object')\n",
      "[0.28470977 0.29059142 0.29257927 0.28988083 0.28662691 0.28848446\n",
      " 0.29118399 0.29110531 0.28843603 0.28784471 0.29016823 0.28993864\n",
      " 0.28988541 0.28893508 0.29038415 0.29049233]\n",
      "LT\n",
      "Fitting 5 folds for each of 192 candidates, totalling 960 fits\n"
     ]
    },
    {
     "name": "stderr",
     "output_type": "stream",
     "text": [
      "[Parallel(n_jobs=10)]: Using backend LokyBackend with 10 concurrent workers.\n",
      "[Parallel(n_jobs=10)]: Done  12 tasks      | elapsed:    5.9s\n",
      "[Parallel(n_jobs=10)]: Done 108 tasks      | elapsed:  1.0min\n",
      "[Parallel(n_jobs=10)]: Done 268 tasks      | elapsed:  2.1min\n",
      "[Parallel(n_jobs=10)]: Done 492 tasks      | elapsed:  2.5min\n",
      "[Parallel(n_jobs=10)]: Done 780 tasks      | elapsed:  3.3min\n",
      "[Parallel(n_jobs=10)]: Done 960 out of 960 | elapsed:  3.7min finished\n"
     ]
    },
    {
     "name": "stdout",
     "output_type": "stream",
     "text": [
      "Index(['index', 'GDAY_DS', 'VS_T_ID', 'HEADER_NO', 'TB_SC', 'PA', 'AB', 'RBI',\n",
      "       'RUN', 'HIT', 'H2', 'H3', 'HR', 'SB', 'CS', 'SH', 'SF', 'BB', 'IB',\n",
      "       'HP', 'KK', 'GD', 'ERR', 'LOB', 'P_HRA_RT', 'P_AB_CN', 'P_HIT_CN',\n",
      "       'year', 'month', 'H1', 'SLG', 'OBA', 'W_OPS', 'AVG', 'AVG_trend',\n",
      "       'y_next'],\n",
      "      dtype='object')\n",
      "Index(['index', 'VS_T_ID', 'HEADER_NO', 'TB_SC', 'PA', 'AB', 'RBI', 'RUN',\n",
      "       'HIT', 'H2', 'H3', 'HR', 'SB', 'CS', 'SH', 'SF', 'BB', 'IB', 'HP', 'KK',\n",
      "       'GD', 'ERR', 'LOB', 'P_HRA_RT', 'P_AB_CN', 'P_HIT_CN', 'year', 'month',\n",
      "       'H1', 'SLG', 'OBA', 'W_OPS', 'AVG', 'AVG_trend', 'y_next'],\n",
      "      dtype='object')\n",
      "[0.25806011 0.26139262 0.2624233  0.26231409 0.26168784 0.26234644\n",
      " 0.26101278 0.26281056 0.26350685 0.26350844 0.26316522 0.24567968\n",
      " 0.24296845 0.24518121 0.24543087 0.24495553]\n",
      "HT\n",
      "Fitting 5 folds for each of 192 candidates, totalling 960 fits\n"
     ]
    },
    {
     "name": "stderr",
     "output_type": "stream",
     "text": [
      "[Parallel(n_jobs=10)]: Using backend LokyBackend with 10 concurrent workers.\n",
      "[Parallel(n_jobs=10)]: Done  12 tasks      | elapsed:    5.7s\n",
      "[Parallel(n_jobs=10)]: Done 108 tasks      | elapsed:   44.1s\n",
      "[Parallel(n_jobs=10)]: Done 268 tasks      | elapsed:  1.9min\n",
      "[Parallel(n_jobs=10)]: Done 492 tasks      | elapsed:  2.4min\n",
      "[Parallel(n_jobs=10)]: Done 780 tasks      | elapsed:  2.9min\n",
      "[Parallel(n_jobs=10)]: Done 960 out of 960 | elapsed:  3.1min finished\n"
     ]
    },
    {
     "name": "stdout",
     "output_type": "stream",
     "text": [
      "Index(['index', 'GDAY_DS', 'VS_T_ID', 'HEADER_NO', 'TB_SC', 'PA', 'AB', 'RBI',\n",
      "       'RUN', 'HIT', 'H2', 'H3', 'HR', 'SB', 'CS', 'SH', 'SF', 'BB', 'IB',\n",
      "       'HP', 'KK', 'GD', 'ERR', 'LOB', 'P_HRA_RT', 'P_AB_CN', 'P_HIT_CN',\n",
      "       'year', 'month', 'H1', 'SLG', 'OBA', 'W_OPS', 'AVG', 'AVG_trend',\n",
      "       'y_next'],\n",
      "      dtype='object')\n",
      "Index(['index', 'VS_T_ID', 'HEADER_NO', 'TB_SC', 'PA', 'AB', 'RBI', 'RUN',\n",
      "       'HIT', 'H2', 'H3', 'HR', 'SB', 'CS', 'SH', 'SF', 'BB', 'IB', 'HP', 'KK',\n",
      "       'GD', 'ERR', 'LOB', 'P_HRA_RT', 'P_AB_CN', 'P_HIT_CN', 'year', 'month',\n",
      "       'H1', 'SLG', 'OBA', 'W_OPS', 'AVG', 'AVG_trend', 'y_next'],\n",
      "      dtype='object')\n",
      "[0.28267957 0.28273902 0.28235862 0.2826356  0.28239446 0.28363675\n",
      " 0.28249187 0.28206949 0.28250235 0.28224196 0.28254981 0.282596\n",
      " 0.28273769 0.28250202 0.28278967 0.28212841 0.2824492 ]\n",
      "SS\n",
      "Fitting 5 folds for each of 192 candidates, totalling 960 fits\n"
     ]
    },
    {
     "name": "stderr",
     "output_type": "stream",
     "text": [
      "[Parallel(n_jobs=10)]: Using backend LokyBackend with 10 concurrent workers.\n",
      "[Parallel(n_jobs=10)]: Done  12 tasks      | elapsed:    5.6s\n",
      "[Parallel(n_jobs=10)]: Done 108 tasks      | elapsed:  1.1min\n",
      "[Parallel(n_jobs=10)]: Done 268 tasks      | elapsed:  2.1min\n",
      "[Parallel(n_jobs=10)]: Done 492 tasks      | elapsed:  2.7min\n",
      "[Parallel(n_jobs=10)]: Done 780 tasks      | elapsed:  3.5min\n",
      "[Parallel(n_jobs=10)]: Done 960 out of 960 | elapsed:  3.8min finished\n"
     ]
    },
    {
     "name": "stdout",
     "output_type": "stream",
     "text": [
      "Index(['index', 'GDAY_DS', 'VS_T_ID', 'HEADER_NO', 'TB_SC', 'PA', 'AB', 'RBI',\n",
      "       'RUN', 'HIT', 'H2', 'H3', 'HR', 'SB', 'CS', 'SH', 'SF', 'BB', 'IB',\n",
      "       'HP', 'KK', 'GD', 'ERR', 'LOB', 'P_HRA_RT', 'P_AB_CN', 'P_HIT_CN',\n",
      "       'year', 'month', 'H1', 'SLG', 'OBA', 'W_OPS', 'AVG', 'AVG_trend',\n",
      "       'y_next'],\n",
      "      dtype='object')\n",
      "Index(['index', 'VS_T_ID', 'HEADER_NO', 'TB_SC', 'PA', 'AB', 'RBI', 'RUN',\n",
      "       'HIT', 'H2', 'H3', 'HR', 'SB', 'CS', 'SH', 'SF', 'BB', 'IB', 'HP', 'KK',\n",
      "       'GD', 'ERR', 'LOB', 'P_HRA_RT', 'P_AB_CN', 'P_HIT_CN', 'year', 'month',\n",
      "       'H1', 'SLG', 'OBA', 'W_OPS', 'AVG', 'AVG_trend', 'y_next'],\n",
      "      dtype='object')\n",
      "[0.31300113 0.31288963 0.31341681 0.31426173 0.3136989  0.31419514\n",
      " 0.31396953 0.25605365 0.25672545 0.25722956 0.2571712  0.25615103\n",
      " 0.2565415  0.25664989 0.25639513 0.25684056]\n",
      "HH\n",
      "Fitting 5 folds for each of 192 candidates, totalling 960 fits\n"
     ]
    },
    {
     "name": "stderr",
     "output_type": "stream",
     "text": [
      "[Parallel(n_jobs=10)]: Using backend LokyBackend with 10 concurrent workers.\n",
      "[Parallel(n_jobs=10)]: Done  12 tasks      | elapsed:    5.2s\n",
      "[Parallel(n_jobs=10)]: Done 108 tasks      | elapsed:   47.4s\n",
      "[Parallel(n_jobs=10)]: Done 268 tasks      | elapsed:  2.0min\n",
      "[Parallel(n_jobs=10)]: Done 492 tasks      | elapsed:  2.3min\n",
      "[Parallel(n_jobs=10)]: Done 780 tasks      | elapsed:  2.8min\n",
      "[Parallel(n_jobs=10)]: Done 960 out of 960 | elapsed:  3.1min finished\n"
     ]
    },
    {
     "name": "stdout",
     "output_type": "stream",
     "text": [
      "Index(['index', 'GDAY_DS', 'VS_T_ID', 'HEADER_NO', 'TB_SC', 'PA', 'AB', 'RBI',\n",
      "       'RUN', 'HIT', 'H2', 'H3', 'HR', 'SB', 'CS', 'SH', 'SF', 'BB', 'IB',\n",
      "       'HP', 'KK', 'GD', 'ERR', 'LOB', 'P_HRA_RT', 'P_AB_CN', 'P_HIT_CN',\n",
      "       'year', 'month', 'H1', 'SLG', 'OBA', 'W_OPS', 'AVG', 'AVG_trend',\n",
      "       'y_next'],\n",
      "      dtype='object')\n",
      "Index(['index', 'VS_T_ID', 'HEADER_NO', 'TB_SC', 'PA', 'AB', 'RBI', 'RUN',\n",
      "       'HIT', 'H2', 'H3', 'HR', 'SB', 'CS', 'SH', 'SF', 'BB', 'IB', 'HP', 'KK',\n",
      "       'GD', 'ERR', 'LOB', 'P_HRA_RT', 'P_AB_CN', 'P_HIT_CN', 'year', 'month',\n",
      "       'H1', 'SLG', 'OBA', 'W_OPS', 'AVG', 'AVG_trend', 'y_next'],\n",
      "      dtype='object')\n",
      "[0.23600137 0.23612207 0.23574671 0.23646251 0.23595199 0.23717994\n",
      " 0.23605918 0.23626659 0.24663451 0.24657533 0.24658031 0.24672749\n",
      " 0.24667387 0.24715761 0.24644584 0.24686396 0.24680643]\n"
     ]
    }
   ],
   "source": [
    "for t in team_list:\n",
    "    print(t)\n",
    "    print(team_hitter_modeling(\"mae\",t))"
   ]
  },
  {
   "cell_type": "markdown",
   "metadata": {},
   "source": [
    "### 팀별 최종 예측 승률"
   ]
  },
  {
   "cell_type": "markdown",
   "metadata": {},
   "source": [
    "기대승률 = 예측한득점²÷(예측한득점²+예측한실점²)"
   ]
  },
  {
   "cell_type": "code",
   "execution_count": null,
   "metadata": {},
   "outputs": [],
   "source": [
    "for t in team_list:\n",
    "    print(t)\n",
    "    score = team_score_modeling(\"mae\",t)\n",
    "    lose = team_lose_modeling(\"mae\",t)\n",
    "    win_rate=score**2/(score**2 + lose**2)\n",
    "    print(win_rate)"
   ]
  }
 ],
 "metadata": {
  "kernelspec": {
   "display_name": "Python 3",
   "language": "python",
   "name": "python3"
  },
  "language_info": {
   "codemirror_mode": {
    "name": "ipython",
    "version": 3
   },
   "file_extension": ".py",
   "mimetype": "text/x-python",
   "name": "python",
   "nbconvert_exporter": "python",
   "pygments_lexer": "ipython3",
   "version": "3.7.6"
  }
 },
 "nbformat": 4,
 "nbformat_minor": 2
}
