{
 "cells": [
  {
   "cell_type": "code",
   "execution_count": 1,
   "metadata": {},
   "outputs": [
    {
     "name": "stderr",
     "output_type": "stream",
     "text": [
      "Using TensorFlow backend.\n"
     ]
    }
   ],
   "source": [
    "import numpy as np\n",
    "import pandas as pd\n",
    "import warnings\n",
    "warnings.filterwarnings(action='ignore')\n",
    "from sklearn.preprocessing import MinMaxScaler\n",
    "from keras.models import Sequential\n",
    "from keras.layers import Dense, Activation, LSTM,Dropout,Bidirectional\n",
    "from keras.callbacks import EarlyStopping"
   ]
  },
  {
   "cell_type": "code",
   "execution_count": 3,
   "metadata": {},
   "outputs": [],
   "source": [
    "PATH ='C:/Users/ckdrj/Google 드라이브/baseball/data/total/'\n",
    "#PATH = 'C:/Users/LIM CHANG GEON/Google 드라이브/baseball/data/total'\n",
    "hiter = pd.read_csv(PATH+\"2020빅콘테스트_스포츠투아이_제공데이터_팀타자_2016.csv\")\n",
    "pitcher = pd.read_csv(PATH+\"2020빅콘테스트_스포츠투아이_제공데이터_팀투수_2016.csv\")\n",
    "pitcher[\"ERA\"] = 27*pitcher.ER/pitcher.INN2\n",
    "hiter['AVG']= hiter['HIT']/hiter['AB']\n"
   ]
  },
  {
   "cell_type": "code",
   "execution_count": 2,
   "metadata": {},
   "outputs": [],
   "source": [
    "def create_dataset(signal_data, look_back=1):\n",
    "    dataX, dataY = [], []\n",
    "    for i in range(len(signal_data)-look_back):\n",
    "        dataX.append(signal_data[i:(i+look_back), 0])\n",
    "        dataY.append(signal_data[i + look_back, 0])\n",
    "    return np.array(dataX), np.array(dataY)"
   ]
  },
  {
   "cell_type": "code",
   "execution_count": 4,
   "metadata": {},
   "outputs": [],
   "source": [
    "def univariate_ans(data, look_back,team,feature):\n",
    "    signal_data = data[data.T_ID==team][[feature]]\n",
    "    # 데이터 전처리\n",
    "    \n",
    "    scaler = MinMaxScaler(feature_range=(0, 1))\n",
    "    signal_data = scaler.fit_transform(signal_data)\n",
    "    last_data = signal_data[-10:]\n",
    "    # 데이터셋 생성\n",
    "    x_train, y_train = create_dataset(signal_data, look_back)\n",
    "    \n",
    "    x_train = np.reshape(x_train,(x_train.shape[0],look_back,1)) #(size, timestamp,feature)\n",
    "    #x_test = np.reshape(x_test,(x_test.shape[0],look_back,1))\n",
    "    \n",
    "    return x_train, y_train,scaler, look_back, last_data"
   ]
  },
  {
   "cell_type": "code",
   "execution_count": 6,
   "metadata": {},
   "outputs": [],
   "source": [
    "def run_stateful_ans(x_train,  y_train, look_back,box):\n",
    "    model = Sequential()\n",
    "    model.add(LSTM(box, batch_input_shape=(1, look_back, 1), stateful=True))\n",
    "    model.add(Dropout(0.1))\n",
    "    model.add(Dense(1))\n",
    "    model.compile(loss='mean_squared_error', optimizer='adam')\n",
    "    \n",
    "    early_stop = EarlyStopping(monitor='loss', patience=3, verbose=1)\n",
    "\n",
    "    model.fit(x_train, y_train, epochs=100, batch_size=1, verbose=1, callbacks=[early_stop])\n",
    "    return model"
   ]
  },
  {
   "cell_type": "code",
   "execution_count": 10,
   "metadata": {},
   "outputs": [
    {
     "name": "stdout",
     "output_type": "stream",
     "text": [
      "Epoch 1/100\n",
      "134/134 [==============================] - 1s 11ms/step - loss: 0.1036\n",
      "Epoch 2/100\n",
      "134/134 [==============================] - 1s 5ms/step - loss: 0.0623\n",
      "Epoch 3/100\n",
      "134/134 [==============================] - 1s 5ms/step - loss: 0.0681\n",
      "Epoch 4/100\n",
      "134/134 [==============================] - 1s 5ms/step - loss: 0.0621\n",
      "Epoch 5/100\n",
      "134/134 [==============================] - 1s 5ms/step - loss: 0.0635\n",
      "Epoch 6/100\n",
      "134/134 [==============================] - 1s 5ms/step - loss: 0.0638\n",
      "Epoch 7/100\n",
      "134/134 [==============================] - 1s 5ms/step - loss: 0.0619\n",
      "Epoch 8/100\n",
      "134/134 [==============================] - 1s 5ms/step - loss: 0.0622\n",
      "Epoch 9/100\n",
      "134/134 [==============================] - 1s 5ms/step - loss: 0.0582\n",
      "Epoch 10/100\n",
      "134/134 [==============================] - 1s 5ms/step - loss: 0.0598\n",
      "Epoch 11/100\n",
      "134/134 [==============================] - 1s 5ms/step - loss: 0.0632\n",
      "Epoch 12/100\n",
      "134/134 [==============================] - 1s 5ms/step - loss: 0.0590\n",
      "Epoch 00012: early stopping\n",
      "5.255401\n"
     ]
    }
   ],
   "source": [
    "x_train, y_train,scaler, look_back,last_data = univariate_ans(pitcher,10,'SS',\"ERA\")\n",
    "model = run_stateful_ans(x_train,  y_train, look_back,10)\n",
    "pred_date = 20 \n",
    "seq_in = [i[0] for i in last_data]\n",
    "seq_out = []\n",
    "for i in range(pred_date):\n",
    "    #sample_in = np.array(seq_in)\n",
    "    sample_in = np.reshape(seq_in, (1, look_back,1)) # batch_size, feature\n",
    "    pred_out = model.predict(sample_in)[0][0]\n",
    "    seq_out.append(pred_out)\n",
    "    seq_in.append(pred_out)\n",
    "    seq_in.pop(0)\n",
    "ans = scaler.inverse_transform(np.array(seq_out).reshape(pred_date,1))\n",
    "ans_mean=ans.mean()\n",
    "print(ans_mean)"
   ]
  },
  {
   "cell_type": "code",
   "execution_count": 9,
   "metadata": {},
   "outputs": [
    {
     "name": "stdout",
     "output_type": "stream",
     "text": [
      "Epoch 1/100\n",
      "134/134 [==============================] - 1s 10ms/step - loss: 0.1570\n",
      "Epoch 2/100\n",
      "134/134 [==============================] - 1s 5ms/step - loss: 0.0476\n",
      "Epoch 3/100\n",
      "134/134 [==============================] - 1s 5ms/step - loss: 0.0527\n",
      "Epoch 4/100\n",
      "134/134 [==============================] - 1s 5ms/step - loss: 0.0430\n",
      "Epoch 5/100\n",
      "134/134 [==============================] - 1s 5ms/step - loss: 0.0495\n",
      "Epoch 6/100\n",
      "134/134 [==============================] - 1s 5ms/step - loss: 0.0469\n",
      "Epoch 7/100\n",
      "134/134 [==============================] - 1s 5ms/step - loss: 0.0419\n",
      "Epoch 8/100\n",
      "134/134 [==============================] - 1s 5ms/step - loss: 0.0427\n",
      "Epoch 9/100\n",
      "134/134 [==============================] - 1s 5ms/step - loss: 0.0461\n",
      "Epoch 10/100\n",
      "134/134 [==============================] - 1s 5ms/step - loss: 0.0458\n",
      "Epoch 00010: early stopping\n",
      "0.26409534\n"
     ]
    }
   ],
   "source": [
    "x_train, y_train,scaler, look_back,last_data = univariate_ans(hiter,10,'SS',\"AVG\")\n",
    "model = run_stateful_ans(x_train,  y_train, look_back,10)\n",
    "pred_date = 20 \n",
    "seq_in = [i[0] for i in last_data]\n",
    "seq_out = []\n",
    "for i in range(pred_date):\n",
    "    #sample_in = np.array(seq_in)\n",
    "    sample_in = np.reshape(sample_in, (1, look_back,1)) # batch_size, feature\n",
    "    pred_out = model.predict(sample_in)[0][0]\n",
    "    seq_out.append(pred_out)\n",
    "    seq_in.append(pred_out)\n",
    "    seq_in.pop(0)\n",
    "ans = scaler.inverse_transform(np.array(seq_out).reshape(pred_date,1))\n",
    "ans_mean=ans.mean()\n",
    "print(ans_mean)"
   ]
  }
 ],
 "metadata": {
  "kernelspec": {
   "display_name": "Python 3",
   "language": "python",
   "name": "python3"
  },
  "language_info": {
   "codemirror_mode": {
    "name": "ipython",
    "version": 3
   },
   "file_extension": ".py",
   "mimetype": "text/x-python",
   "name": "python",
   "nbconvert_exporter": "python",
   "pygments_lexer": "ipython3",
   "version": "3.7.3"
  }
 },
 "nbformat": 4,
 "nbformat_minor": 2
}
