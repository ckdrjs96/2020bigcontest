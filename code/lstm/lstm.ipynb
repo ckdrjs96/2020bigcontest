{
 "cells": [
  {
   "cell_type": "code",
   "execution_count": 1,
   "metadata": {},
   "outputs": [],
   "source": [
    "import numpy as np\n",
    "import pandas as pd\n",
    "import warnings\n",
    "warnings.filterwarnings(action='ignore')\n",
    "from sklearn.preprocessing import MinMaxScaler\n"
   ]
  },
  {
   "cell_type": "code",
   "execution_count": 2,
   "metadata": {},
   "outputs": [],
   "source": [
    "PATH ='C:/Users/ckdrj/Google 드라이브/baseball/data/total/'\n",
    "hiter16 = pd.read_csv(PATH+\"2020빅콘테스트_스포츠투아이_제공데이터_팀타자_2016.csv\")\n",
    "pitcher16 = pd.read_csv(PATH+\"2020빅콘테스트_스포츠투아이_제공데이터_팀투수_2016.csv\")"
   ]
  },
  {
   "cell_type": "code",
   "execution_count": 3,
   "metadata": {},
   "outputs": [],
   "source": [
    "TEAM_ID ='SS'\n",
    "pitcher16 = pitcher16[pitcher16.T_ID==TEAM_ID].reset_index(drop=True)\n",
    "pitcher16['index_date']=pd.date_range('2016-04-01', periods=144, freq='D')\n",
    "pitcher16 = pitcher16.set_index('index_date')\n",
    "pitcher16[\"ERA\"] = 27*pitcher16.ER/pitcher16.INN2\n",
    "pitcher16[\"FIP\"] = ((13*pitcher16.HR+3*(pitcher16.BB+pitcher16.HP-pitcher16.IB)-2*pitcher16.KK)/(pitcher16.INN2/3)) +3.2\n",
    "pitcher16[\"BABIP\"] = (pitcher16.HIT-pitcher16.HR)/(pitcher16.AB-pitcher16.KK-pitcher16.HR+pitcher16.SF)\n",
    "pitcher16 = pitcher16[['T_ID','ERA','FIP','BABIP','KK','R']]"
   ]
  },
  {
   "cell_type": "code",
   "execution_count": null,
   "metadata": {},
   "outputs": [],
   "source": []
  },
  {
   "cell_type": "code",
   "execution_count": 4,
   "metadata": {},
   "outputs": [
    {
     "data": {
      "text/html": [
       "<div>\n",
       "<style scoped>\n",
       "    .dataframe tbody tr th:only-of-type {\n",
       "        vertical-align: middle;\n",
       "    }\n",
       "\n",
       "    .dataframe tbody tr th {\n",
       "        vertical-align: top;\n",
       "    }\n",
       "\n",
       "    .dataframe thead th {\n",
       "        text-align: right;\n",
       "    }\n",
       "</style>\n",
       "<table border=\"1\" class=\"dataframe\">\n",
       "  <thead>\n",
       "    <tr style=\"text-align: right;\">\n",
       "      <th></th>\n",
       "      <th>T_ID</th>\n",
       "      <th>ERA</th>\n",
       "      <th>FIP</th>\n",
       "      <th>BABIP</th>\n",
       "      <th>KK</th>\n",
       "      <th>R</th>\n",
       "    </tr>\n",
       "    <tr>\n",
       "      <th>index_date</th>\n",
       "      <th></th>\n",
       "      <th></th>\n",
       "      <th></th>\n",
       "      <th></th>\n",
       "      <th></th>\n",
       "      <th></th>\n",
       "    </tr>\n",
       "  </thead>\n",
       "  <tbody>\n",
       "    <tr>\n",
       "      <th>2016-04-01</th>\n",
       "      <td>SS</td>\n",
       "      <td>4.0</td>\n",
       "      <td>6.755556</td>\n",
       "      <td>0.222222</td>\n",
       "      <td>3</td>\n",
       "      <td>5</td>\n",
       "    </tr>\n",
       "    <tr>\n",
       "      <th>2016-04-02</th>\n",
       "      <td>SS</td>\n",
       "      <td>6.0</td>\n",
       "      <td>4.644444</td>\n",
       "      <td>0.354839</td>\n",
       "      <td>6</td>\n",
       "      <td>6</td>\n",
       "    </tr>\n",
       "    <tr>\n",
       "      <th>2016-04-03</th>\n",
       "      <td>SS</td>\n",
       "      <td>9.0</td>\n",
       "      <td>6.325000</td>\n",
       "      <td>0.370370</td>\n",
       "      <td>6</td>\n",
       "      <td>8</td>\n",
       "    </tr>\n",
       "    <tr>\n",
       "      <th>2016-04-04</th>\n",
       "      <td>SS</td>\n",
       "      <td>6.0</td>\n",
       "      <td>6.866667</td>\n",
       "      <td>0.148148</td>\n",
       "      <td>6</td>\n",
       "      <td>6</td>\n",
       "    </tr>\n",
       "    <tr>\n",
       "      <th>2016-04-05</th>\n",
       "      <td>SS</td>\n",
       "      <td>1.0</td>\n",
       "      <td>2.533333</td>\n",
       "      <td>0.190476</td>\n",
       "      <td>9</td>\n",
       "      <td>1</td>\n",
       "    </tr>\n",
       "  </tbody>\n",
       "</table>\n",
       "</div>"
      ],
      "text/plain": [
       "           T_ID  ERA       FIP     BABIP  KK  R\n",
       "index_date                                     \n",
       "2016-04-01   SS  4.0  6.755556  0.222222   3  5\n",
       "2016-04-02   SS  6.0  4.644444  0.354839   6  6\n",
       "2016-04-03   SS  9.0  6.325000  0.370370   6  8\n",
       "2016-04-04   SS  6.0  6.866667  0.148148   6  6\n",
       "2016-04-05   SS  1.0  2.533333  0.190476   9  1"
      ]
     },
     "execution_count": 4,
     "metadata": {},
     "output_type": "execute_result"
    }
   ],
   "source": [
    "pitcher16.head()"
   ]
  },
  {
   "cell_type": "code",
   "execution_count": 5,
   "metadata": {},
   "outputs": [],
   "source": [
    "def create_dataset(signal_data, look_back=1):\n",
    "    dataX, dataY = [], []\n",
    "    for i in range(len(signal_data)-look_back):\n",
    "        dataX.append(signal_data[i:(i+look_back), 0])\n",
    "        dataY.append(signal_data[i + look_back, 0])\n",
    "    return np.array(dataX), np.array(dataY)"
   ]
  },
  {
   "cell_type": "code",
   "execution_count": 6,
   "metadata": {},
   "outputs": [],
   "source": [
    "def prepro(col, look_back):\n",
    "    signal_data = pitcher16[[col]]\n",
    "    # 데이터 전처리\n",
    "    scaler = MinMaxScaler(feature_range=(0, 1))\n",
    "    signal_data = scaler.fit_transform(signal_data)\n",
    "\n",
    "    # 데이터 분리\n",
    "    train = signal_data[0:120]\n",
    "    #val = signal_data[800:1200]\n",
    "    test = signal_data[120:]\n",
    "\n",
    "    # 데이터셋 생성\n",
    "    x_train, y_train = create_dataset(train, look_back)\n",
    "    #x_val, y_val = create_dataset(val, look_back)\n",
    "    x_test, y_test = create_dataset(test, look_back)\n",
    "\n",
    "    x_train = x_train.reshape(x_train.shape[0],look_back,1) #(size, timestamp,feature)\n",
    "    x_test = x_test.reshape(x_test.shape[0],look_back,1)\n",
    "    \n",
    "    return x_train, x_test, y_train, y_test,scaler"
   ]
  },
  {
   "cell_type": "code",
   "execution_count": 33,
   "metadata": {},
   "outputs": [],
   "source": [
    "x_train, x_test, y_train, y_test,scaler = prepro(\"R\",10)"
   ]
  },
  {
   "cell_type": "code",
   "execution_count": 34,
   "metadata": {},
   "outputs": [
    {
     "name": "stdout",
     "output_type": "stream",
     "text": [
      "Epoch 1/100\n",
      "110/110 [==============================] - 1s 10ms/step - loss: 0.1184\n",
      "Epoch 2/100\n",
      "110/110 [==============================] - 0s 1ms/step - loss: 0.0556\n",
      "Epoch 3/100\n",
      "110/110 [==============================] - 0s 1ms/step - loss: 0.0560\n",
      "Epoch 4/100\n",
      "110/110 [==============================] - 0s 1ms/step - loss: 0.0542\n",
      "Epoch 5/100\n",
      "110/110 [==============================] - 0s 1ms/step - loss: 0.0552\n",
      "Epoch 6/100\n",
      "110/110 [==============================] - 0s 1ms/step - loss: 0.0567\n",
      "Epoch 7/100\n",
      "110/110 [==============================] - 0s 1ms/step - loss: 0.0551\n",
      "Epoch 00007: early stopping\n"
     ]
    },
    {
     "data": {
      "text/plain": [
       "<keras.callbacks.History at 0x149c1b9e6d8>"
      ]
     },
     "execution_count": 34,
     "metadata": {},
     "output_type": "execute_result"
    }
   ],
   "source": [
    "from keras.models import Sequential\n",
    "from keras.layers import Dense, Activation, LSTM,Dropout\n",
    "from keras.callbacks import EarlyStopping\n",
    "look_back=10\n",
    "model = Sequential()\n",
    "model.add(LSTM(20, input_shape=(look_back, 1))) #(timestep,feature)\n",
    "model.add(Dropout(0.1))\n",
    "model.add(Dense(1))\n",
    "model.compile(loss='mean_squared_error', optimizer='adam')\n",
    "\n",
    "early_stop = EarlyStopping(monitor='loss', patience=3, verbose=1)\n",
    "\n",
    "model.fit(x_train, y_train, epochs=100,\n",
    "          batch_size=5, verbose=1, callbacks=[early_stop])"
   ]
  },
  {
   "cell_type": "code",
   "execution_count": 35,
   "metadata": {},
   "outputs": [
    {
     "name": "stdout",
     "output_type": "stream",
     "text": [
      "14/14 [==============================] - 0s 16ms/step\n"
     ]
    },
    {
     "data": {
      "text/plain": [
       "0.029328403728348867"
      ]
     },
     "execution_count": 35,
     "metadata": {},
     "output_type": "execute_result"
    }
   ],
   "source": [
    "model.evaluate(x_test,y_test,batch_size=5)"
   ]
  },
  {
   "cell_type": "code",
   "execution_count": 36,
   "metadata": {},
   "outputs": [
    {
     "data": {
      "text/plain": [
       "array([[5.4329987],\n",
       "       [5.2708864],\n",
       "       [5.3393507],\n",
       "       [5.613637 ],\n",
       "       [5.6419525],\n",
       "       [5.9316688],\n",
       "       [5.867963 ],\n",
       "       [5.704913 ],\n",
       "       [5.8965716],\n",
       "       [5.771264 ],\n",
       "       [6.045732 ],\n",
       "       [5.9861526],\n",
       "       [5.8611283],\n",
       "       [5.578115 ]], dtype=float32)"
      ]
     },
     "execution_count": 36,
     "metadata": {},
     "output_type": "execute_result"
    }
   ],
   "source": [
    "pre =model.predict(x_test)\n",
    "scaler.inverse_transform(pre)\n"
   ]
  },
  {
   "cell_type": "code",
   "execution_count": 62,
   "metadata": {},
   "outputs": [
    {
     "data": {
      "text/plain": [
       "5.7101665"
      ]
     },
     "execution_count": 62,
     "metadata": {},
     "output_type": "execute_result"
    }
   ],
   "source": [
    "scaler.inverse_transform(pre).mean()"
   ]
  },
  {
   "cell_type": "code",
   "execution_count": 37,
   "metadata": {},
   "outputs": [
    {
     "data": {
      "text/plain": [
       "array([[ 5.],\n",
       "       [ 6.],\n",
       "       [10.],\n",
       "       [ 3.],\n",
       "       [ 9.],\n",
       "       [ 5.],\n",
       "       [ 3.],\n",
       "       [10.],\n",
       "       [ 5.],\n",
       "       [10.],\n",
       "       [ 4.],\n",
       "       [ 4.],\n",
       "       [ 3.],\n",
       "       [ 7.]])"
      ]
     },
     "execution_count": 37,
     "metadata": {},
     "output_type": "execute_result"
    }
   ],
   "source": [
    "scaler.inverse_transform(y_test.reshape(14,1))"
   ]
  },
  {
   "cell_type": "code",
   "execution_count": 63,
   "metadata": {},
   "outputs": [
    {
     "data": {
      "text/plain": [
       "6.0"
      ]
     },
     "execution_count": 63,
     "metadata": {},
     "output_type": "execute_result"
    }
   ],
   "source": [
    "scaler.inverse_transform(y_test.reshape(14,1)).mean()"
   ]
  },
  {
   "cell_type": "code",
   "execution_count": 14,
   "metadata": {},
   "outputs": [],
   "source": [
    "pitcher16=pitcher16.iloc[:,1:]"
   ]
  },
  {
   "cell_type": "code",
   "execution_count": 15,
   "metadata": {},
   "outputs": [],
   "source": [
    "scaler_va = MinMaxScaler(feature_range=(0, 1))\n",
    "signal_data = scaler_va.fit_transform(pitcher16)"
   ]
  },
  {
   "cell_type": "code",
   "execution_count": 16,
   "metadata": {},
   "outputs": [
    {
     "data": {
      "text/plain": [
       "(144, 5)"
      ]
     },
     "execution_count": 16,
     "metadata": {},
     "output_type": "execute_result"
    }
   ],
   "source": [
    "signal_data.shape"
   ]
  },
  {
   "cell_type": "code",
   "execution_count": 17,
   "metadata": {},
   "outputs": [],
   "source": [
    "def multivariate_data(dataset, target, start_index, end_index, history_size, target_size, step, single_step=False):\n",
    "    data = []\n",
    "    labels = []\n",
    "\n",
    "    start_index = start_index + history_size\n",
    "    if end_index is None:\n",
    "        end_index = len(dataset) - target_size\n",
    "\n",
    "    for i in range(start_index, end_index):\n",
    "        indices = range(i - history_size, i, step)\n",
    "        data.append(dataset[indices])\n",
    "\n",
    "        if single_step:\n",
    "            labels.append(target[i + target_size])\n",
    "        else:\n",
    "            labels.append(target[i:i + target_size])\n",
    "    return np.array(data), np.array(labels)"
   ]
  },
  {
   "cell_type": "code",
   "execution_count": 19,
   "metadata": {},
   "outputs": [
    {
     "name": "stdout",
     "output_type": "stream",
     "text": [
      "Single window of past history : (10, 5)\n"
     ]
    }
   ],
   "source": [
    "look_back = 10\n",
    "future_target = 0\n",
    "dataset =signal_data\n",
    "TRAIN_SPLIT=120\n",
    "STEP=1\n",
    "x_train_single, y_train_single = multivariate_data(dataset, dataset[:, 1], 0, TRAIN_SPLIT, look_back,\n",
    "                                                   future_target,STEP, single_step=True)\n",
    "x_val_single, y_val_single = multivariate_data(dataset, dataset[:, 1], TRAIN_SPLIT, None, look_back,\n",
    "                                               future_target,STEP, single_step=True)\n",
    "\n",
    "print('Single window of past history : {}'.format(x_train_single[0].shape))"
   ]
  },
  {
   "cell_type": "code",
   "execution_count": 22,
   "metadata": {},
   "outputs": [
    {
     "name": "stderr",
     "output_type": "stream",
     "text": [
      "W0913 21:43:37.162569 11860 deprecation.py:506] From F:\\sda\\envs\\dlstudy\\lib\\site-packages\\tensorflow\\python\\ops\\init_ops.py:1251: calling VarianceScaling.__init__ (from tensorflow.python.ops.init_ops) with dtype is deprecated and will be removed in a future version.\n",
      "Instructions for updating:\n",
      "Call initializer instance with the dtype argument instead of passing it to the constructor\n"
     ]
    },
    {
     "name": "stdout",
     "output_type": "stream",
     "text": [
      "Epoch 1/50\n",
      "20/20 [==============================] - 1s 41ms/step - loss: 0.1746\n",
      "Epoch 2/50\n",
      "20/20 [==============================] - 0s 7ms/step - loss: 0.2025\n",
      "Epoch 3/50\n",
      "20/20 [==============================] - 0s 6ms/step - loss: 0.1779\n",
      "Epoch 4/50\n",
      "20/20 [==============================] - 0s 7ms/step - loss: 0.1753\n",
      "Epoch 5/50\n",
      "20/20 [==============================] - 0s 7ms/step - loss: 0.1841\n",
      "Epoch 6/50\n",
      "20/20 [==============================] - 0s 7ms/step - loss: 0.1969\n",
      "Epoch 7/50\n",
      "20/20 [==============================] - 0s 6ms/step - loss: 0.1803\n",
      "Epoch 8/50\n",
      "20/20 [==============================] - 0s 6ms/step - loss: 0.1702\n",
      "Epoch 9/50\n",
      "20/20 [==============================] - 0s 7ms/step - loss: 0.1959\n",
      "Epoch 10/50\n",
      "20/20 [==============================] - 0s 7ms/step - loss: 0.1889\n",
      "Epoch 11/50\n",
      "20/20 [==============================] - 0s 7ms/step - loss: 0.1758\n",
      "Epoch 12/50\n",
      "20/20 [==============================] - 0s 6ms/step - loss: 0.1886\n",
      "Epoch 13/50\n",
      "20/20 [==============================] - 0s 7ms/step - loss: 0.1841\n",
      "Epoch 14/50\n",
      "20/20 [==============================] - 0s 7ms/step - loss: 0.1642\n",
      "Epoch 15/50\n",
      "20/20 [==============================] - 0s 7ms/step - loss: 0.1885\n",
      "Epoch 16/50\n",
      "20/20 [==============================] - 0s 7ms/step - loss: 0.1817\n",
      "Epoch 17/50\n",
      "20/20 [==============================] - 0s 6ms/step - loss: 0.1789\n",
      "Epoch 18/50\n",
      "20/20 [==============================] - 0s 6ms/step - loss: 0.1781\n",
      "Epoch 19/50\n",
      "20/20 [==============================] - 0s 7ms/step - loss: 0.1859\n",
      "Epoch 20/50\n",
      "20/20 [==============================] - 0s 7ms/step - loss: 0.1646\n",
      "Epoch 21/50\n",
      "20/20 [==============================] - 0s 7ms/step - loss: 0.2037\n",
      "Epoch 22/50\n",
      "20/20 [==============================] - 0s 7ms/step - loss: 0.1639\n",
      "Epoch 23/50\n",
      "20/20 [==============================] - 0s 7ms/step - loss: 0.1831\n",
      "Epoch 24/50\n",
      "20/20 [==============================] - 0s 7ms/step - loss: 0.1827\n",
      "Epoch 25/50\n",
      "20/20 [==============================] - 0s 7ms/step - loss: 0.1705\n",
      "Epoch 26/50\n",
      "20/20 [==============================] - 0s 7ms/step - loss: 0.1876\n",
      "Epoch 27/50\n",
      "20/20 [==============================] - 0s 7ms/step - loss: 0.1706\n",
      "Epoch 28/50\n",
      "20/20 [==============================] - 0s 7ms/step - loss: 0.1774\n",
      "Epoch 29/50\n",
      "20/20 [==============================] - 0s 7ms/step - loss: 0.1741\n",
      "Epoch 30/50\n",
      "20/20 [==============================] - 0s 7ms/step - loss: 0.1878\n",
      "Epoch 31/50\n",
      "20/20 [==============================] - 0s 6ms/step - loss: 0.1750\n",
      "Epoch 32/50\n",
      "20/20 [==============================] - 0s 6ms/step - loss: 0.1834\n",
      "Epoch 33/50\n",
      "20/20 [==============================] - 0s 7ms/step - loss: 0.1716\n",
      "Epoch 34/50\n",
      "20/20 [==============================] - 0s 7ms/step - loss: 0.1829\n",
      "Epoch 35/50\n",
      "20/20 [==============================] - 0s 7ms/step - loss: 0.1706\n",
      "Epoch 36/50\n",
      "20/20 [==============================] - 0s 7ms/step - loss: 0.1682\n",
      "Epoch 37/50\n",
      "20/20 [==============================] - 0s 7ms/step - loss: 0.1875\n",
      "Epoch 38/50\n",
      "20/20 [==============================] - 0s 7ms/step - loss: 0.1566\n",
      "Epoch 39/50\n",
      "20/20 [==============================] - 0s 6ms/step - loss: 0.1868\n",
      "Epoch 40/50\n",
      "20/20 [==============================] - 0s 7ms/step - loss: 0.1673\n",
      "Epoch 41/50\n",
      "20/20 [==============================] - 0s 6ms/step - loss: 0.1669\n",
      "Epoch 42/50\n",
      "20/20 [==============================] - 0s 6ms/step - loss: 0.1814\n",
      "Epoch 43/50\n",
      "20/20 [==============================] - 0s 7ms/step - loss: 0.1702\n",
      "Epoch 44/50\n",
      "20/20 [==============================] - 0s 7ms/step - loss: 0.1654\n",
      "Epoch 45/50\n",
      "20/20 [==============================] - 0s 6ms/step - loss: 0.1775\n",
      "Epoch 46/50\n",
      "20/20 [==============================] - 0s 7ms/step - loss: 0.1584\n",
      "Epoch 47/50\n",
      "20/20 [==============================] - 0s 7ms/step - loss: 0.1701\n",
      "Epoch 48/50\n",
      "20/20 [==============================] - 0s 8ms/step - loss: 0.1750\n",
      "Epoch 49/50\n",
      "20/20 [==============================] - 0s 7ms/step - loss: 0.1795\n",
      "Epoch 50/50\n",
      "20/20 [==============================] - 0s 7ms/step - loss: 0.1838\n"
     ]
    }
   ],
   "source": [
    "import tensorflow as tf\n",
    "BUFFER_SIZE=10\n",
    "BATCH_SIZE =3\n",
    "train_data_single = tf.data.Dataset.from_tensor_slices((x_train_single, y_train_single))\n",
    "train_data_single = train_data_single.cache().shuffle(BUFFER_SIZE).batch(BATCH_SIZE).repeat()\n",
    "\n",
    "val_data_single = tf.data.Dataset.from_tensor_slices((x_val_single, y_val_single))\n",
    "val_data_single = val_data_single.batch(BATCH_SIZE).repeat()\n",
    "\n",
    "single_step_model = tf.keras.models.Sequential()\n",
    "single_step_model.add(tf.keras.layers.LSTM(32, input_shape=x_train_single.shape[-2:]))\n",
    "single_step_model.add(tf.keras.layers.Dense(1))\n",
    "single_step_model.compile(optimizer=tf.keras.optimizers.RMSprop(), loss='mae')\n",
    "\n",
    "\n",
    "EPOCHS=50\n",
    "EVALUATION_INTERVAL=20\n",
    "early_stop = EarlyStopping(monitor='loss', patience=3, verbose=1)\n",
    "single_step_history = single_step_model.fit(train_data_single, epochs=EPOCHS,\n",
    "                                            steps_per_epoch =EVALUATION_INTERVAL)\n",
    "\n"
   ]
  },
  {
   "cell_type": "code",
   "execution_count": 24,
   "metadata": {},
   "outputs": [
    {
     "name": "stdout",
     "output_type": "stream",
     "text": [
      "\r",
      "14/14 [==============================] - 0s 8ms/sample - loss: 0.1600\n"
     ]
    },
    {
     "data": {
      "text/plain": [
       "0.159995898604393"
      ]
     },
     "execution_count": 24,
     "metadata": {},
     "output_type": "execute_result"
    }
   ],
   "source": [
    "single_step_model.evaluate(x_val_single, y_val_single)"
   ]
  },
  {
   "cell_type": "code",
   "execution_count": 25,
   "metadata": {},
   "outputs": [],
   "source": [
    "pre = single_step_model.predict(x_val_single)"
   ]
  },
  {
   "cell_type": "code",
   "execution_count": 26,
   "metadata": {},
   "outputs": [
    {
     "ename": "ValueError",
     "evalue": "non-broadcastable output operand with shape (14,1) doesn't match the broadcast shape (14,5)",
     "output_type": "error",
     "traceback": [
      "\u001b[1;31m---------------------------------------------------------------------------\u001b[0m",
      "\u001b[1;31mValueError\u001b[0m                                Traceback (most recent call last)",
      "\u001b[1;32m<ipython-input-26-a3a2231e0b67>\u001b[0m in \u001b[0;36m<module>\u001b[1;34m\u001b[0m\n\u001b[1;32m----> 1\u001b[1;33m \u001b[0mscaler_va\u001b[0m\u001b[1;33m.\u001b[0m\u001b[0minverse_transform\u001b[0m\u001b[1;33m(\u001b[0m\u001b[0mpre\u001b[0m\u001b[1;33m)\u001b[0m\u001b[1;33m\u001b[0m\u001b[1;33m\u001b[0m\u001b[0m\n\u001b[0m",
      "\u001b[1;32mF:\\sda\\envs\\dlstudy\\lib\\site-packages\\sklearn\\preprocessing\\data.py\u001b[0m in \u001b[0;36minverse_transform\u001b[1;34m(self, X)\u001b[0m\n\u001b[0;32m    413\u001b[0m                         force_all_finite=\"allow-nan\")\n\u001b[0;32m    414\u001b[0m \u001b[1;33m\u001b[0m\u001b[0m\n\u001b[1;32m--> 415\u001b[1;33m         \u001b[0mX\u001b[0m \u001b[1;33m-=\u001b[0m \u001b[0mself\u001b[0m\u001b[1;33m.\u001b[0m\u001b[0mmin_\u001b[0m\u001b[1;33m\u001b[0m\u001b[1;33m\u001b[0m\u001b[0m\n\u001b[0m\u001b[0;32m    416\u001b[0m         \u001b[0mX\u001b[0m \u001b[1;33m/=\u001b[0m \u001b[0mself\u001b[0m\u001b[1;33m.\u001b[0m\u001b[0mscale_\u001b[0m\u001b[1;33m\u001b[0m\u001b[1;33m\u001b[0m\u001b[0m\n\u001b[0;32m    417\u001b[0m         \u001b[1;32mreturn\u001b[0m \u001b[0mX\u001b[0m\u001b[1;33m\u001b[0m\u001b[1;33m\u001b[0m\u001b[0m\n",
      "\u001b[1;31mValueError\u001b[0m: non-broadcastable output operand with shape (14,1) doesn't match the broadcast shape (14,5)"
     ]
    }
   ],
   "source": [
    "scaler_va.inverse_transform(pre)"
   ]
  },
  {
   "cell_type": "code",
   "execution_count": 27,
   "metadata": {},
   "outputs": [
    {
     "data": {
      "text/plain": [
       "(14, 10, 5)"
      ]
     },
     "execution_count": 27,
     "metadata": {},
     "output_type": "execute_result"
    }
   ],
   "source": [
    "x_val_single.shape"
   ]
  },
  {
   "cell_type": "code",
   "execution_count": null,
   "metadata": {},
   "outputs": [],
   "source": [
    "y_val_single.shape"
   ]
  },
  {
   "cell_type": "code",
   "execution_count": null,
   "metadata": {},
   "outputs": [],
   "source": [
    "x_val_single[1]"
   ]
  },
  {
   "cell_type": "code",
   "execution_count": 31,
   "metadata": {},
   "outputs": [
    {
     "name": "stdout",
     "output_type": "stream",
     "text": [
      "Epoch 1/100\n",
      "110/110 [==============================] - 1s 9ms/step - loss: 0.1208\n",
      "Epoch 2/100\n",
      "110/110 [==============================] - 0s 1ms/step - loss: 0.0573\n",
      "Epoch 3/100\n",
      "110/110 [==============================] - 0s 1ms/step - loss: 0.0469\n",
      "Epoch 4/100\n",
      "110/110 [==============================] - 0s 1ms/step - loss: 0.0523\n",
      "Epoch 5/100\n",
      "110/110 [==============================] - 0s 1ms/step - loss: 0.0523\n",
      "Epoch 6/100\n",
      "110/110 [==============================] - 0s 1ms/step - loss: 0.0479\n",
      "Epoch 00006: early stopping\n"
     ]
    },
    {
     "data": {
      "text/plain": [
       "<keras.callbacks.History at 0x149bdfe0860>"
      ]
     },
     "execution_count": 31,
     "metadata": {},
     "output_type": "execute_result"
    }
   ],
   "source": [
    "from keras.models import Sequential\n",
    "from keras.layers import Dense, Activation, LSTM,Dropout\n",
    "from keras.callbacks import EarlyStopping\n",
    "look_back=10\n",
    "model = Sequential()\n",
    "model.add(LSTM(20, input_shape=x_train_single.shape[-2:])) #(timestep,feature)\n",
    "model.add(Dropout(0.1))\n",
    "model.add(Dense(1))\n",
    "\n",
    "model.compile(loss='mean_squared_error', optimizer='adam')\n",
    "\n",
    "early_stop = EarlyStopping(monitor='loss', patience=3, verbose=1)\n",
    "\n",
    "model.fit(x_train_single, y_train_single, epochs=100,\n",
    "          batch_size=5, verbose=1, callbacks=[early_stop])"
   ]
  },
  {
   "cell_type": "code",
   "execution_count": 32,
   "metadata": {},
   "outputs": [
    {
     "name": "stdout",
     "output_type": "stream",
     "text": [
      "\r",
      "14/14 [==============================] - 0s 12ms/step\n"
     ]
    },
    {
     "data": {
      "text/plain": [
       "0.0453268364071846"
      ]
     },
     "execution_count": 32,
     "metadata": {},
     "output_type": "execute_result"
    }
   ],
   "source": [
    "model.evaluate(x_val_single, y_val_single)"
   ]
  },
  {
   "cell_type": "code",
   "execution_count": 53,
   "metadata": {},
   "outputs": [
    {
     "data": {
      "text/plain": [
       "array([[[0.88888889, 1.        , 0.65035361, 0.33333333, 0.8125    ],\n",
       "        [0.36923077, 0.28081042, 0.81518152, 0.4       , 0.3125    ],\n",
       "        [0.34188034, 0.1316932 , 0.48910891, 0.26666667, 0.3125    ],\n",
       "        [0.06837607, 0.31693198, 0.13437058, 0.46666667, 0.0625    ],\n",
       "        [0.        , 0.18958032, 0.4439604 , 0.4       , 0.        ],\n",
       "        [0.35897436, 0.04775687, 0.49594959, 0.8       , 0.4375    ],\n",
       "        [0.13675214, 0.38639653, 0.39444267, 0.06666667, 0.375     ],\n",
       "        [0.34188034, 0.1316932 , 0.61290323, 0.26666667, 0.3125    ],\n",
       "        [0.68376068, 0.74529667, 0.61810467, 0.33333333, 0.625     ],\n",
       "        [0.17307692, 0.3288712 , 0.39444267, 0.33333333, 0.1875    ]],\n",
       "\n",
       "       [[0.36923077, 0.28081042, 0.81518152, 0.4       , 0.3125    ],\n",
       "        [0.34188034, 0.1316932 , 0.48910891, 0.26666667, 0.3125    ],\n",
       "        [0.06837607, 0.31693198, 0.13437058, 0.46666667, 0.0625    ],\n",
       "        [0.        , 0.18958032, 0.4439604 , 0.4       , 0.        ],\n",
       "        [0.35897436, 0.04775687, 0.49594959, 0.8       , 0.4375    ],\n",
       "        [0.13675214, 0.38639653, 0.39444267, 0.06666667, 0.375     ],\n",
       "        [0.34188034, 0.1316932 , 0.61290323, 0.26666667, 0.3125    ],\n",
       "        [0.68376068, 0.74529667, 0.61810467, 0.33333333, 0.625     ],\n",
       "        [0.17307692, 0.3288712 , 0.39444267, 0.33333333, 0.1875    ],\n",
       "        [0.38461538, 0.49493488, 0.4439604 , 0.2       , 0.3125    ]],\n",
       "\n",
       "       [[0.34188034, 0.1316932 , 0.48910891, 0.26666667, 0.3125    ],\n",
       "        [0.06837607, 0.31693198, 0.13437058, 0.46666667, 0.0625    ],\n",
       "        [0.        , 0.18958032, 0.4439604 , 0.4       , 0.        ],\n",
       "        [0.35897436, 0.04775687, 0.49594959, 0.8       , 0.4375    ],\n",
       "        [0.13675214, 0.38639653, 0.39444267, 0.06666667, 0.375     ],\n",
       "        [0.34188034, 0.1316932 , 0.61290323, 0.26666667, 0.3125    ],\n",
       "        [0.68376068, 0.74529667, 0.61810467, 0.33333333, 0.625     ],\n",
       "        [0.17307692, 0.3288712 , 0.39444267, 0.33333333, 0.1875    ],\n",
       "        [0.38461538, 0.49493488, 0.4439604 , 0.2       , 0.3125    ],\n",
       "        [0.46153846, 0.26049204, 0.50647372, 0.33333333, 0.375     ]],\n",
       "\n",
       "       [[0.06837607, 0.31693198, 0.13437058, 0.46666667, 0.0625    ],\n",
       "        [0.        , 0.18958032, 0.4439604 , 0.4       , 0.        ],\n",
       "        [0.35897436, 0.04775687, 0.49594959, 0.8       , 0.4375    ],\n",
       "        [0.13675214, 0.38639653, 0.39444267, 0.06666667, 0.375     ],\n",
       "        [0.34188034, 0.1316932 , 0.61290323, 0.26666667, 0.3125    ],\n",
       "        [0.68376068, 0.74529667, 0.61810467, 0.33333333, 0.625     ],\n",
       "        [0.17307692, 0.3288712 , 0.39444267, 0.33333333, 0.1875    ],\n",
       "        [0.38461538, 0.49493488, 0.4439604 , 0.2       , 0.3125    ],\n",
       "        [0.46153846, 0.26049204, 0.50647372, 0.33333333, 0.375     ],\n",
       "        [0.68376068, 0.64109986, 0.61290323, 0.2       , 0.625     ]],\n",
       "\n",
       "       [[0.        , 0.18958032, 0.4439604 , 0.4       , 0.        ],\n",
       "        [0.35897436, 0.04775687, 0.49594959, 0.8       , 0.4375    ],\n",
       "        [0.13675214, 0.38639653, 0.39444267, 0.06666667, 0.375     ],\n",
       "        [0.34188034, 0.1316932 , 0.61290323, 0.26666667, 0.3125    ],\n",
       "        [0.68376068, 0.74529667, 0.61810467, 0.33333333, 0.625     ],\n",
       "        [0.17307692, 0.3288712 , 0.39444267, 0.33333333, 0.1875    ],\n",
       "        [0.38461538, 0.49493488, 0.4439604 , 0.2       , 0.3125    ],\n",
       "        [0.46153846, 0.26049204, 0.50647372, 0.33333333, 0.375     ],\n",
       "        [0.68376068, 0.64109986, 0.61290323, 0.2       , 0.625     ],\n",
       "        [0.20512821, 0.30535456, 0.68572341, 0.4       , 0.1875    ]],\n",
       "\n",
       "       [[0.35897436, 0.04775687, 0.49594959, 0.8       , 0.4375    ],\n",
       "        [0.13675214, 0.38639653, 0.39444267, 0.06666667, 0.375     ],\n",
       "        [0.34188034, 0.1316932 , 0.61290323, 0.26666667, 0.3125    ],\n",
       "        [0.68376068, 0.74529667, 0.61810467, 0.33333333, 0.625     ],\n",
       "        [0.17307692, 0.3288712 , 0.39444267, 0.33333333, 0.1875    ],\n",
       "        [0.38461538, 0.49493488, 0.4439604 , 0.2       , 0.3125    ],\n",
       "        [0.46153846, 0.26049204, 0.50647372, 0.33333333, 0.375     ],\n",
       "        [0.68376068, 0.64109986, 0.61290323, 0.2       , 0.625     ],\n",
       "        [0.20512821, 0.30535456, 0.68572341, 0.4       , 0.1875    ],\n",
       "        [0.61538462, 0.20115774, 0.56435644, 0.4       , 0.5625    ]],\n",
       "\n",
       "       [[0.13675214, 0.38639653, 0.39444267, 0.06666667, 0.375     ],\n",
       "        [0.34188034, 0.1316932 , 0.61290323, 0.26666667, 0.3125    ],\n",
       "        [0.68376068, 0.74529667, 0.61810467, 0.33333333, 0.625     ],\n",
       "        [0.17307692, 0.3288712 , 0.39444267, 0.33333333, 0.1875    ],\n",
       "        [0.38461538, 0.49493488, 0.4439604 , 0.2       , 0.3125    ],\n",
       "        [0.46153846, 0.26049204, 0.50647372, 0.33333333, 0.375     ],\n",
       "        [0.68376068, 0.64109986, 0.61290323, 0.2       , 0.625     ],\n",
       "        [0.20512821, 0.30535456, 0.68572341, 0.4       , 0.1875    ],\n",
       "        [0.61538462, 0.20115774, 0.56435644, 0.4       , 0.5625    ],\n",
       "        [0.34188034, 0.01591896, 0.77934936, 0.6       , 0.3125    ]],\n",
       "\n",
       "       [[0.34188034, 0.1316932 , 0.61290323, 0.26666667, 0.3125    ],\n",
       "        [0.68376068, 0.74529667, 0.61810467, 0.33333333, 0.625     ],\n",
       "        [0.17307692, 0.3288712 , 0.39444267, 0.33333333, 0.1875    ],\n",
       "        [0.38461538, 0.49493488, 0.4439604 , 0.2       , 0.3125    ],\n",
       "        [0.46153846, 0.26049204, 0.50647372, 0.33333333, 0.375     ],\n",
       "        [0.68376068, 0.64109986, 0.61290323, 0.2       , 0.625     ],\n",
       "        [0.20512821, 0.30535456, 0.68572341, 0.4       , 0.1875    ],\n",
       "        [0.61538462, 0.20115774, 0.56435644, 0.4       , 0.5625    ],\n",
       "        [0.34188034, 0.01591896, 0.77934936, 0.6       , 0.3125    ],\n",
       "        [0.20512821, 0.15484805, 0.48074807, 0.4       , 0.1875    ]],\n",
       "\n",
       "       [[0.68376068, 0.74529667, 0.61810467, 0.33333333, 0.625     ],\n",
       "        [0.17307692, 0.3288712 , 0.39444267, 0.33333333, 0.1875    ],\n",
       "        [0.38461538, 0.49493488, 0.4439604 , 0.2       , 0.3125    ],\n",
       "        [0.46153846, 0.26049204, 0.50647372, 0.33333333, 0.375     ],\n",
       "        [0.68376068, 0.64109986, 0.61290323, 0.2       , 0.625     ],\n",
       "        [0.20512821, 0.30535456, 0.68572341, 0.4       , 0.1875    ],\n",
       "        [0.61538462, 0.20115774, 0.56435644, 0.4       , 0.5625    ],\n",
       "        [0.34188034, 0.01591896, 0.77934936, 0.6       , 0.3125    ],\n",
       "        [0.20512821, 0.15484805, 0.48074807, 0.4       , 0.1875    ],\n",
       "        [0.76923077, 0.23444284, 0.89544554, 0.53333333, 0.625     ]],\n",
       "\n",
       "       [[0.17307692, 0.3288712 , 0.39444267, 0.33333333, 0.1875    ],\n",
       "        [0.38461538, 0.49493488, 0.4439604 , 0.2       , 0.3125    ],\n",
       "        [0.46153846, 0.26049204, 0.50647372, 0.33333333, 0.375     ],\n",
       "        [0.68376068, 0.64109986, 0.61290323, 0.2       , 0.625     ],\n",
       "        [0.20512821, 0.30535456, 0.68572341, 0.4       , 0.1875    ],\n",
       "        [0.61538462, 0.20115774, 0.56435644, 0.4       , 0.5625    ],\n",
       "        [0.34188034, 0.01591896, 0.77934936, 0.6       , 0.3125    ],\n",
       "        [0.20512821, 0.15484805, 0.48074807, 0.4       , 0.1875    ],\n",
       "        [0.76923077, 0.23444284, 0.89544554, 0.53333333, 0.625     ],\n",
       "        [0.38461538, 0.05209841, 0.6019802 , 0.66666667, 0.3125    ]],\n",
       "\n",
       "       [[0.38461538, 0.49493488, 0.4439604 , 0.2       , 0.3125    ],\n",
       "        [0.46153846, 0.26049204, 0.50647372, 0.33333333, 0.375     ],\n",
       "        [0.68376068, 0.64109986, 0.61290323, 0.2       , 0.625     ],\n",
       "        [0.20512821, 0.30535456, 0.68572341, 0.4       , 0.1875    ],\n",
       "        [0.61538462, 0.20115774, 0.56435644, 0.4       , 0.5625    ],\n",
       "        [0.34188034, 0.01591896, 0.77934936, 0.6       , 0.3125    ],\n",
       "        [0.20512821, 0.15484805, 0.48074807, 0.4       , 0.1875    ],\n",
       "        [0.76923077, 0.23444284, 0.89544554, 0.53333333, 0.625     ],\n",
       "        [0.38461538, 0.05209841, 0.6019802 , 0.66666667, 0.3125    ],\n",
       "        [0.54700855, 0.44428365, 0.70117012, 0.33333333, 0.625     ]],\n",
       "\n",
       "       [[0.46153846, 0.26049204, 0.50647372, 0.33333333, 0.375     ],\n",
       "        [0.68376068, 0.64109986, 0.61290323, 0.2       , 0.625     ],\n",
       "        [0.20512821, 0.30535456, 0.68572341, 0.4       , 0.1875    ],\n",
       "        [0.61538462, 0.20115774, 0.56435644, 0.4       , 0.5625    ],\n",
       "        [0.34188034, 0.01591896, 0.77934936, 0.6       , 0.3125    ],\n",
       "        [0.20512821, 0.15484805, 0.48074807, 0.4       , 0.1875    ],\n",
       "        [0.76923077, 0.23444284, 0.89544554, 0.53333333, 0.625     ],\n",
       "        [0.38461538, 0.05209841, 0.6019802 , 0.66666667, 0.3125    ],\n",
       "        [0.54700855, 0.44428365, 0.70117012, 0.33333333, 0.625     ],\n",
       "        [0.27350427, 0.32850941, 0.53015302, 0.46666667, 0.25      ]],\n",
       "\n",
       "       [[0.68376068, 0.64109986, 0.61290323, 0.2       , 0.625     ],\n",
       "        [0.20512821, 0.30535456, 0.68572341, 0.4       , 0.1875    ],\n",
       "        [0.61538462, 0.20115774, 0.56435644, 0.4       , 0.5625    ],\n",
       "        [0.34188034, 0.01591896, 0.77934936, 0.6       , 0.3125    ],\n",
       "        [0.20512821, 0.15484805, 0.48074807, 0.4       , 0.1875    ],\n",
       "        [0.76923077, 0.23444284, 0.89544554, 0.53333333, 0.625     ],\n",
       "        [0.38461538, 0.05209841, 0.6019802 , 0.66666667, 0.3125    ],\n",
       "        [0.54700855, 0.44428365, 0.70117012, 0.33333333, 0.625     ],\n",
       "        [0.27350427, 0.32850941, 0.53015302, 0.46666667, 0.25      ],\n",
       "        [0.20512821, 0.10853835, 0.76694593, 0.33333333, 0.25      ]],\n",
       "\n",
       "       [[0.20512821, 0.30535456, 0.68572341, 0.4       , 0.1875    ],\n",
       "        [0.61538462, 0.20115774, 0.56435644, 0.4       , 0.5625    ],\n",
       "        [0.34188034, 0.01591896, 0.77934936, 0.6       , 0.3125    ],\n",
       "        [0.20512821, 0.15484805, 0.48074807, 0.4       , 0.1875    ],\n",
       "        [0.76923077, 0.23444284, 0.89544554, 0.53333333, 0.625     ],\n",
       "        [0.38461538, 0.05209841, 0.6019802 , 0.66666667, 0.3125    ],\n",
       "        [0.54700855, 0.44428365, 0.70117012, 0.33333333, 0.625     ],\n",
       "        [0.27350427, 0.32850941, 0.53015302, 0.46666667, 0.25      ],\n",
       "        [0.20512821, 0.10853835, 0.76694593, 0.33333333, 0.25      ],\n",
       "        [0.06837607, 0.23589001, 0.28217822, 0.4       , 0.1875    ]]])"
      ]
     },
     "execution_count": 53,
     "metadata": {},
     "output_type": "execute_result"
    }
   ],
   "source": [
    "x_val_single"
   ]
  },
  {
   "cell_type": "code",
   "execution_count": 60,
   "metadata": {},
   "outputs": [
    {
     "data": {
      "text/plain": [
       "array([0.34188034, 0.1316932 , 0.48910891, 0.26666667, 0.3125    ])"
      ]
     },
     "execution_count": 60,
     "metadata": {},
     "output_type": "execute_result"
    }
   ],
   "source": [
    "x_val_single[0][0]\n",
    "x_val_single[1][1]"
   ]
  },
  {
   "cell_type": "code",
   "execution_count": 46,
   "metadata": {},
   "outputs": [
    {
     "data": {
      "text/plain": [
       "(14, 10, 5)"
      ]
     },
     "execution_count": 46,
     "metadata": {},
     "output_type": "execute_result"
    }
   ],
   "source": [
    "x_val_single.shape"
   ]
  },
  {
   "cell_type": "code",
   "execution_count": null,
   "metadata": {},
   "outputs": [],
   "source": []
  }
 ],
 "metadata": {
  "kernelspec": {
   "display_name": "Python 3",
   "language": "python",
   "name": "python3"
  },
  "language_info": {
   "codemirror_mode": {
    "name": "ipython",
    "version": 3
   },
   "file_extension": ".py",
   "mimetype": "text/x-python",
   "name": "python",
   "nbconvert_exporter": "python",
   "pygments_lexer": "ipython3",
   "version": "3.7.3"
  }
 },
 "nbformat": 4,
 "nbformat_minor": 2
}
